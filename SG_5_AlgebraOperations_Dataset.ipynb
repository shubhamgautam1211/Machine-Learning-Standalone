{
  "nbformat": 4,
  "nbformat_minor": 0,
  "metadata": {
    "colab": {
      "name": "SG-5_AlgebraOperations Dataset.ipynb",
      "provenance": [],
      "collapsed_sections": [],
      "authorship_tag": "ABX9TyNkJXKGzVSqHMtTt5Q/Uvgj",
      "include_colab_link": true
    },
    "kernelspec": {
      "name": "python3",
      "display_name": "Python 3"
    },
    "language_info": {
      "name": "python"
    }
  },
  "cells": [
    {
      "cell_type": "markdown",
      "metadata": {
        "id": "view-in-github",
        "colab_type": "text"
      },
      "source": [
        "<a href=\"https://colab.research.google.com/github/shubhamgautam1211/Machine-Learning-Standalone/blob/main/SG_5_AlgebraOperations_Dataset.ipynb\" target=\"_parent\"><img src=\"https://colab.research.google.com/assets/colab-badge.svg\" alt=\"Open In Colab\"/></a>"
      ]
    },
    {
      "cell_type": "markdown",
      "metadata": {
        "id": "dzpSIsnniBKG"
      },
      "source": [
        "## **Download the Red Wine Dataset from https://archive.ics.uci.edu/ml/machine\u0002learning-databases/wine-quality/winequality-red.csv**\n"
      ]
    },
    {
      "cell_type": "markdown",
      "metadata": {
        "id": "w3i0Uu2NYlym"
      },
      "source": [
        "# **STEP-1**"
      ]
    },
    {
      "cell_type": "code",
      "metadata": {
        "id": "yc3gmFIsQ9Gn"
      },
      "source": [
        "import csv\n",
        "with open('winequality-red.csv', 'r') as f:\n",
        "    XY = list(csv.reader(f, delimiter=';'))"
      ],
      "execution_count": null,
      "outputs": []
    },
    {
      "cell_type": "markdown",
      "metadata": {
        "id": "f7zWv-zhYvfN"
      },
      "source": [
        "## **STEP-2(Storing the dataset as a 2D numPy Matrix)**"
      ]
    },
    {
      "cell_type": "code",
      "metadata": {
        "colab": {
          "base_uri": "https://localhost:8080/"
        },
        "id": "dW6U_fz8XzsQ",
        "outputId": "ee094c29-32e6-4775-e185-207cbdfe0c26"
      },
      "source": [
        "import numpy as np\n",
        "XY = np.array(XY[1:], dtype=np.float)\n",
        "XY"
      ],
      "execution_count": null,
      "outputs": [
        {
          "output_type": "execute_result",
          "data": {
            "text/plain": [
              "array([[ 7.4  ,  0.7  ,  0.   , ...,  0.56 ,  9.4  ,  5.   ],\n",
              "       [ 7.8  ,  0.88 ,  0.   , ...,  0.68 ,  9.8  ,  5.   ],\n",
              "       [ 7.8  ,  0.76 ,  0.04 , ...,  0.65 ,  9.8  ,  5.   ],\n",
              "       ...,\n",
              "       [ 6.3  ,  0.51 ,  0.13 , ...,  0.75 , 11.   ,  6.   ],\n",
              "       [ 5.9  ,  0.645,  0.12 , ...,  0.71 , 10.2  ,  5.   ],\n",
              "       [ 6.   ,  0.31 ,  0.47 , ...,  0.66 , 11.   ,  6.   ]])"
            ]
          },
          "metadata": {},
          "execution_count": 6
        }
      ]
    },
    {
      "cell_type": "markdown",
      "metadata": {
        "id": "1iDhnUM0Y08J"
      },
      "source": [
        "# **STEP-3**"
      ]
    },
    {
      "cell_type": "code",
      "metadata": {
        "colab": {
          "base_uri": "https://localhost:8080/"
        },
        "id": "Ega0ANQaYVA5",
        "outputId": "ffafad7e-dd6a-4e54-ac10-94e0e0d07fde"
      },
      "source": [
        "XY.shape"
      ],
      "execution_count": null,
      "outputs": [
        {
          "output_type": "execute_result",
          "data": {
            "text/plain": [
              "(1599, 12)"
            ]
          },
          "metadata": {},
          "execution_count": 7
        }
      ]
    },
    {
      "cell_type": "markdown",
      "metadata": {
        "id": "GM5ceH8ttgim"
      },
      "source": [
        "**Flattening the 2d array to a 1d array**"
      ]
    },
    {
      "cell_type": "code",
      "metadata": {
        "colab": {
          "base_uri": "https://localhost:8080/"
        },
        "id": "8ftjolJPZt-H",
        "outputId": "9d827795-e7ba-425d-ac06-a58552b1d9d4"
      },
      "source": [
        "flat = XY.flatten()   # 2D to 1D\n",
        "print(\"1D array is\")\n",
        "print(flat)\n",
        "print(\"Shape is\")\n",
        "print(flat.shape)"
      ],
      "execution_count": null,
      "outputs": [
        {
          "output_type": "stream",
          "name": "stdout",
          "text": [
            "1D array is\n",
            "[ 7.4   0.7   0.   ...  0.66 11.    6.  ]\n",
            "Shape is\n",
            "(19188,)\n"
          ]
        }
      ]
    },
    {
      "cell_type": "markdown",
      "metadata": {
        "id": "zcXSgeAStdkD"
      },
      "source": [
        "**Column Slicing the Numpy Array**"
      ]
    },
    {
      "cell_type": "code",
      "metadata": {
        "colab": {
          "base_uri": "https://localhost:8080/"
        },
        "id": "m8VIkdEfaEJq",
        "outputId": "7acff85d-586a-4519-e8f9-1f78ddc8943d"
      },
      "source": [
        "col_feature = XY[:, :-1]\n",
        "print(col_feature)\n",
        "print(col_feature.shape)\n",
        "\n",
        "col_target = XY[0:,11:]\n",
        "print(col_target)\n",
        "print(col_target.shape)"
      ],
      "execution_count": null,
      "outputs": [
        {
          "output_type": "stream",
          "name": "stdout",
          "text": [
            "[[ 7.4    0.7    0.    ...  3.51   0.56   9.4  ]\n",
            " [ 7.8    0.88   0.    ...  3.2    0.68   9.8  ]\n",
            " [ 7.8    0.76   0.04  ...  3.26   0.65   9.8  ]\n",
            " ...\n",
            " [ 6.3    0.51   0.13  ...  3.42   0.75  11.   ]\n",
            " [ 5.9    0.645  0.12  ...  3.57   0.71  10.2  ]\n",
            " [ 6.     0.31   0.47  ...  3.39   0.66  11.   ]]\n",
            "(1599, 11)\n",
            "[[5.]\n",
            " [5.]\n",
            " [5.]\n",
            " ...\n",
            " [6.]\n",
            " [5.]\n",
            " [6.]]\n",
            "(1599, 1)\n"
          ]
        }
      ]
    },
    {
      "cell_type": "markdown",
      "metadata": {
        "id": "N5BLgm4RtZR5"
      },
      "source": [
        "**Row Slicing the Numpy Array**"
      ]
    },
    {
      "cell_type": "code",
      "metadata": {
        "colab": {
          "base_uri": "https://localhost:8080/"
        },
        "id": "urPiGSK4z7BS",
        "outputId": "d73042a0-59b5-49e0-eadf-65761ad30762"
      },
      "source": [
        "Row = np.vsplit(XY,[800,12])\n",
        "print(\"USING VSPLIT FUNCTION IN NUMPY\")\n",
        "print(Row)\n",
        "\n",
        "print(\"USING SLICING\")\n",
        "\n",
        "sliced_firstequal_XY = XY[0: (len(XY)//2)+1,0:]\n",
        "sliced_secondequal_XY = XY[(len(XY)//2): ,0:]\n",
        "\n",
        "print(\"First Half\")\n",
        "print(sliced_firstequal_XY)\n",
        "print(sliced_firstequal_XY.shape)\n",
        "print(\"Second Half\")\n",
        "print(sliced_secondequal_XY)\n",
        "print(sliced_secondequal_XY.shape)"
      ],
      "execution_count": null,
      "outputs": [
        {
          "output_type": "stream",
          "name": "stdout",
          "text": [
            "USING VSPLIT FUNCTION IN NUMPY\n",
            "[array([[9.40e+00, 4.30e-01, 2.40e-01, ..., 7.30e-01, 1.00e+01, 6.00e+00],\n",
            "       [7.20e+00, 3.60e-01, 4.60e-01, ..., 8.50e-01, 1.10e+01, 7.00e+00],\n",
            "       [9.30e+00, 3.60e-01, 3.90e-01, ..., 7.30e-01, 1.09e+01, 6.00e+00],\n",
            "       ...,\n",
            "       [6.80e+00, 5.10e-01, 1.00e-02, ..., 5.60e-01, 9.50e+00, 6.00e+00],\n",
            "       [9.40e+00, 4.00e-01, 4.70e-01, ..., 5.00e-01, 1.05e+01, 5.00e+00],\n",
            "       [6.90e+00, 7.65e-01, 1.80e-01, ..., 6.00e-01, 1.03e+01, 6.00e+00]]), array([], shape=(0, 12), dtype=float64), array([[11.9 ,  0.37,  0.69, ...,  0.65, 12.8 ,  6.  ],\n",
            "       [ 7.3 ,  0.65,  0.  , ...,  0.47, 10.  ,  7.  ],\n",
            "       [ 7.6 ,  0.55,  0.21, ...,  0.55,  9.7 ,  5.  ],\n",
            "       ...,\n",
            "       [ 7.2 ,  0.56,  0.26, ...,  0.52,  9.9 ,  5.  ],\n",
            "       [ 7.  ,  0.43,  0.3 , ...,  0.46, 11.9 ,  6.  ],\n",
            "       [ 9.1 ,  0.6 ,  0.  , ...,  0.63, 10.4 ,  6.  ]])]\n",
            "USING SLICING\n",
            "First Half\n",
            "[[9.40e+00 4.30e-01 2.40e-01 ... 7.30e-01 1.00e+01 6.00e+00]\n",
            " [7.20e+00 3.60e-01 4.60e-01 ... 8.50e-01 1.10e+01 7.00e+00]\n",
            " [9.30e+00 3.60e-01 3.90e-01 ... 7.30e-01 1.09e+01 6.00e+00]\n",
            " ...\n",
            " [6.80e+00 5.10e-01 1.00e-02 ... 5.60e-01 9.50e+00 6.00e+00]\n",
            " [9.40e+00 4.00e-01 4.70e-01 ... 5.00e-01 1.05e+01 5.00e+00]\n",
            " [6.90e+00 7.65e-01 1.80e-01 ... 6.00e-01 1.03e+01 6.00e+00]]\n",
            "(800, 12)\n",
            "Second Half\n",
            "[[ 6.9    0.765  0.18  ...  0.6   10.3    6.   ]\n",
            " [ 7.8    0.46   0.26  ...  0.74   9.2    6.   ]\n",
            " [ 8.1    0.67   0.55  ...  0.62   9.4    5.   ]\n",
            " ...\n",
            " [ 7.2    0.56   0.26  ...  0.52   9.9    5.   ]\n",
            " [ 7.     0.43   0.3   ...  0.46  11.9    6.   ]\n",
            " [ 9.1    0.6    0.    ...  0.63  10.4    6.   ]]\n",
            "(800, 12)\n"
          ]
        }
      ]
    },
    {
      "cell_type": "code",
      "metadata": {
        "colab": {
          "base_uri": "https://localhost:8080/"
        },
        "id": "c1Q5SrkB_CDj",
        "outputId": "6cac4d0f-7e74-438e-a9b3-68c22fff65bc"
      },
      "source": [
        "np.random.shuffle(XY)\n",
        "print(XY)"
      ],
      "execution_count": null,
      "outputs": [
        {
          "output_type": "stream",
          "name": "stdout",
          "text": [
            "[[ 9.4   0.43  0.24 ...  0.73 10.    6.  ]\n",
            " [ 7.2   0.36  0.46 ...  0.85 11.    7.  ]\n",
            " [ 9.3   0.36  0.39 ...  0.73 10.9   6.  ]\n",
            " ...\n",
            " [ 7.2   0.56  0.26 ...  0.52  9.9   5.  ]\n",
            " [ 7.    0.43  0.3  ...  0.46 11.9   6.  ]\n",
            " [ 9.1   0.6   0.   ...  0.63 10.4   6.  ]]\n"
          ]
        }
      ]
    },
    {
      "cell_type": "code",
      "metadata": {
        "colab": {
          "base_uri": "https://localhost:8080/"
        },
        "id": "yJcX7X00Bmuq",
        "outputId": "11d50160-f13e-47f4-e646-89d283ecae04"
      },
      "source": [
        "trans = np.transpose(XY)  #TRANSPOSE\n",
        "print(trans)"
      ],
      "execution_count": null,
      "outputs": [
        {
          "output_type": "stream",
          "name": "stdout",
          "text": [
            "[[ 9.4   7.2   9.3  ...  7.2   7.    9.1 ]\n",
            " [ 0.43  0.36  0.36 ...  0.56  0.43  0.6 ]\n",
            " [ 0.24  0.46  0.39 ...  0.26  0.3   0.  ]\n",
            " ...\n",
            " [ 0.73  0.85  0.73 ...  0.52  0.46  0.63]\n",
            " [10.   11.   10.9  ...  9.9  11.9  10.4 ]\n",
            " [ 6.    7.    6.   ...  5.    6.    6.  ]]\n"
          ]
        }
      ]
    },
    {
      "cell_type": "code",
      "metadata": {
        "colab": {
          "base_uri": "https://localhost:8080/"
        },
        "id": "E7JfsFUhDkPT",
        "outputId": "33894ea1-f69f-44a6-cd0f-f4b4092b6559"
      },
      "source": [
        "print(trans.shape)"
      ],
      "execution_count": null,
      "outputs": [
        {
          "output_type": "stream",
          "name": "stdout",
          "text": [
            "(12, 1599)\n"
          ]
        }
      ]
    },
    {
      "cell_type": "markdown",
      "metadata": {
        "id": "zdt0dhm6utvn"
      },
      "source": [
        "Slicing the first 10 rows and the 10 columns of the matrix for computing Inverse and Determinant"
      ]
    },
    {
      "cell_type": "code",
      "metadata": {
        "colab": {
          "base_uri": "https://localhost:8080/"
        },
        "id": "MgDkO8apD0T1",
        "outputId": "b60c6134-5053-4e81-8a63-83a681161c98"
      },
      "source": [
        "# SQUARE MATRIX = equal rows and columns\n",
        "C = XY[0:10,0:10]\n",
        "C"
      ],
      "execution_count": null,
      "outputs": [
        {
          "output_type": "execute_result",
          "data": {
            "text/plain": [
              "array([[9.4000e+00, 4.3000e-01, 2.4000e-01, 2.8000e+00, 9.2000e-02,\n",
              "        1.4000e+01, 4.5000e+01, 9.9800e-01, 3.1900e+00, 7.3000e-01],\n",
              "       [7.2000e+00, 3.6000e-01, 4.6000e-01, 2.1000e+00, 7.4000e-02,\n",
              "        2.4000e+01, 4.4000e+01, 9.9534e-01, 3.4000e+00, 8.5000e-01],\n",
              "       [9.3000e+00, 3.6000e-01, 3.9000e-01, 1.5000e+00, 8.0000e-02,\n",
              "        4.1000e+01, 5.5000e+01, 9.9652e-01, 3.4700e+00, 7.3000e-01],\n",
              "       [8.9000e+00, 1.2000e-01, 4.5000e-01, 1.8000e+00, 7.5000e-02,\n",
              "        1.0000e+01, 2.1000e+01, 9.9552e-01, 3.4100e+00, 7.6000e-01],\n",
              "       [1.1100e+01, 3.1000e-01, 5.3000e-01, 2.2000e+00, 6.0000e-02,\n",
              "        3.0000e+00, 1.0000e+01, 9.9572e-01, 3.0200e+00, 8.3000e-01],\n",
              "       [9.3000e+00, 4.0000e-01, 4.9000e-01, 2.5000e+00, 8.5000e-02,\n",
              "        3.8000e+01, 1.4200e+02, 9.9780e-01, 3.2200e+00, 5.5000e-01],\n",
              "       [6.6000e+00, 6.4000e-01, 3.1000e-01, 6.1000e+00, 8.3000e-02,\n",
              "        7.0000e+00, 4.9000e+01, 9.9718e-01, 3.3500e+00, 6.8000e-01],\n",
              "       [7.7000e+00, 7.1500e-01, 1.0000e-02, 2.1000e+00, 6.4000e-02,\n",
              "        3.1000e+01, 4.3000e+01, 9.9371e-01, 3.4100e+00, 5.7000e-01],\n",
              "       [8.8000e+00, 3.1000e-01, 4.0000e-01, 2.8000e+00, 1.0900e-01,\n",
              "        7.0000e+00, 1.6000e+01, 9.9614e-01, 3.3100e+00, 7.9000e-01],\n",
              "       [8.6000e+00, 4.7000e-01, 3.0000e-01, 3.0000e+00, 7.6000e-02,\n",
              "        3.0000e+01, 1.3500e+02, 9.9760e-01, 3.3000e+00, 5.3000e-01]])"
            ]
          },
          "metadata": {},
          "execution_count": 32
        }
      ]
    },
    {
      "cell_type": "markdown",
      "metadata": {
        "id": "u51u3KKx5nst"
      },
      "source": [
        "## **INVERSE**"
      ]
    },
    {
      "cell_type": "code",
      "metadata": {
        "colab": {
          "base_uri": "https://localhost:8080/"
        },
        "id": "G-SvEWd2Opsp",
        "outputId": "9e0ffb52-871b-4173-af17-988ebafe5422"
      },
      "source": [
        "inverse_array = np.linalg.inv(C)   #INVERSE\n",
        "inverse_array"
      ],
      "execution_count": null,
      "outputs": [
        {
          "output_type": "execute_result",
          "data": {
            "text/plain": [
              "array([[-3.45044552e-01, -2.86378900e-01,  4.71281627e-01,\n",
              "        -3.42301622e-01,  2.88300606e-01, -6.24201630e-01,\n",
              "        -6.69424239e-02, -1.82783646e-01,  3.40854477e-01,\n",
              "         7.46928521e-01],\n",
              "       [-7.59936911e+00,  6.37307163e-01,  8.91226401e-01,\n",
              "        -6.03322034e+00,  3.24640940e+00, -4.33464776e+00,\n",
              "        -1.30936027e+00,  1.14630124e+00,  6.85128598e+00,\n",
              "         6.51787616e+00],\n",
              "       [-6.22382689e+00,  8.94232385e-02, -2.52921152e-01,\n",
              "        -1.53707537e+00,  1.88735471e+00,  1.39704742e+00,\n",
              "         6.74344620e-02,  7.41485823e-01,  3.77132255e+00,\n",
              "         7.06904696e-02],\n",
              "       [ 5.82037974e-01, -2.17364180e-01,  2.43260573e-01,\n",
              "         2.73725780e-01, -1.70815716e-01,  1.86890089e-01,\n",
              "         3.99908253e-01, -2.37265806e-01, -6.17061405e-01,\n",
              "        -4.45226560e-01],\n",
              "       [-1.96661774e+00, -3.04720081e+00, -1.33237558e+00,\n",
              "        -1.09812832e+01, -7.24627847e+00,  6.30499244e+00,\n",
              "        -5.00567841e+00,  6.69378915e-02,  2.67723692e+01,\n",
              "        -3.57290294e+00],\n",
              "       [ 8.35237127e-02, -5.44490648e-03,  1.49436547e-02,\n",
              "         3.75669757e-02, -3.34010209e-02,  7.88018510e-02,\n",
              "         2.46081720e-02,  7.22818891e-04, -8.38208152e-02,\n",
              "        -1.17639999e-01],\n",
              "       [-1.08772241e-02,  7.11767503e-03,  2.85804777e-03,\n",
              "        -1.51170154e-02,  5.16206224e-03, -2.52739321e-02,\n",
              "        -7.67475248e-03, -9.14260097e-03,  1.26309453e-02,\n",
              "         4.03032548e-02],\n",
              "       [ 2.86483697e+01,  3.09299919e+00, -1.91447463e+01,\n",
              "         1.95208035e+01, -9.71209619e+00,  3.55542089e+01,\n",
              "         3.96812156e+00,  7.91423560e+00, -2.54347464e+01,\n",
              "        -4.34193724e+01],\n",
              "       [-7.15644543e+00, -8.43451267e-01,  3.52610372e+00,\n",
              "        -2.98633417e+00,  1.78497421e+00, -7.42527150e+00,\n",
              "        -8.23044077e-01, -9.75998127e-01,  5.59383865e+00,\n",
              "         9.31306433e+00],\n",
              "       [ 1.52632816e+00,  3.62349294e+00,  3.02635346e+00,\n",
              "        -4.62515603e+00,  1.12317877e+00, -7.49264721e+00,\n",
              "        -1.11910483e+00, -3.66875262e+00,  4.85126049e-01,\n",
              "         7.11196281e+00]])"
            ]
          },
          "metadata": {},
          "execution_count": 33
        }
      ]
    },
    {
      "cell_type": "code",
      "metadata": {
        "colab": {
          "base_uri": "https://localhost:8080/"
        },
        "id": "uVFvlfPIRcwy",
        "outputId": "bdbdaae4-9fdf-4588-952b-efb559fa3606"
      },
      "source": [
        "inverse_array.shape"
      ],
      "execution_count": null,
      "outputs": [
        {
          "output_type": "execute_result",
          "data": {
            "text/plain": [
              "(10, 10)"
            ]
          },
          "metadata": {},
          "execution_count": 34
        }
      ]
    },
    {
      "cell_type": "markdown",
      "metadata": {
        "id": "tBIveuNl5raM"
      },
      "source": [
        "## **DETERMINANT**"
      ]
    },
    {
      "cell_type": "code",
      "metadata": {
        "colab": {
          "base_uri": "https://localhost:8080/"
        },
        "id": "FVZg3Sw8QPBy",
        "outputId": "37a66256-bfee-41b6-c475-15130716d31f"
      },
      "source": [
        "det = np.linalg.det(C)  #DETERMINANT\n",
        "det"
      ],
      "execution_count": null,
      "outputs": [
        {
          "output_type": "execute_result",
          "data": {
            "text/plain": [
              "1.8771140420039982"
            ]
          },
          "metadata": {},
          "execution_count": 35
        }
      ]
    },
    {
      "cell_type": "markdown",
      "metadata": {
        "id": "ZSLrpkBlUe0W"
      },
      "source": [
        "# **STEP-4**"
      ]
    },
    {
      "cell_type": "code",
      "metadata": {
        "colab": {
          "base_uri": "https://localhost:8080/"
        },
        "id": "1VMWdmvqZJRp",
        "outputId": "3a983e29-3ef0-438c-8721-3e96116cc9d2"
      },
      "source": [
        "with open('winequality-red.csv', 'r') as f:\n",
        "    XY = list(csv.reader(f, delimiter=';'))\n",
        "XY = np.array(XY[1:], dtype=np.float)\n",
        "XY    "
      ],
      "execution_count": null,
      "outputs": [
        {
          "output_type": "execute_result",
          "data": {
            "text/plain": [
              "array([[ 7.4  ,  0.7  ,  0.   , ...,  0.56 ,  9.4  ,  5.   ],\n",
              "       [ 7.8  ,  0.88 ,  0.   , ...,  0.68 ,  9.8  ,  5.   ],\n",
              "       [ 7.8  ,  0.76 ,  0.04 , ...,  0.65 ,  9.8  ,  5.   ],\n",
              "       ...,\n",
              "       [ 6.3  ,  0.51 ,  0.13 , ...,  0.75 , 11.   ,  6.   ],\n",
              "       [ 5.9  ,  0.645,  0.12 , ...,  0.71 , 10.2  ,  5.   ],\n",
              "       [ 6.   ,  0.31 ,  0.47 , ...,  0.66 , 11.   ,  6.   ]])"
            ]
          },
          "metadata": {},
          "execution_count": 36
        }
      ]
    },
    {
      "cell_type": "code",
      "metadata": {
        "colab": {
          "base_uri": "https://localhost:8080/"
        },
        "id": "04ir-8QyUhxt",
        "outputId": "ddbe0c07-b6b2-4021-d6d0-b382bc9c1ecb"
      },
      "source": [
        "RXY = np.random.randint(1,10,size=(1599,12))\n",
        "RXY"
      ],
      "execution_count": null,
      "outputs": [
        {
          "output_type": "execute_result",
          "data": {
            "text/plain": [
              "array([[8, 4, 3, ..., 3, 7, 8],\n",
              "       [2, 9, 6, ..., 2, 2, 3],\n",
              "       [3, 1, 6, ..., 4, 8, 7],\n",
              "       ...,\n",
              "       [4, 4, 4, ..., 9, 9, 6],\n",
              "       [1, 2, 2, ..., 3, 5, 5],\n",
              "       [6, 8, 5, ..., 5, 6, 6]])"
            ]
          },
          "metadata": {},
          "execution_count": 37
        }
      ]
    },
    {
      "cell_type": "code",
      "metadata": {
        "colab": {
          "base_uri": "https://localhost:8080/"
        },
        "id": "c8X6NLJSX-W5",
        "outputId": "3ddb92e4-b86e-4dc6-97bc-3b25c7577ff9"
      },
      "source": [
        "np.add(RXY,XY)  #ADD"
      ],
      "execution_count": null,
      "outputs": [
        {
          "output_type": "execute_result",
          "data": {
            "text/plain": [
              "array([[15.4  ,  4.7  ,  3.   , ...,  3.56 , 16.4  , 13.   ],\n",
              "       [ 9.8  ,  9.88 ,  6.   , ...,  2.68 , 11.8  ,  8.   ],\n",
              "       [10.8  ,  1.76 ,  6.04 , ...,  4.65 , 17.8  , 12.   ],\n",
              "       ...,\n",
              "       [10.3  ,  4.51 ,  4.13 , ...,  9.75 , 20.   , 12.   ],\n",
              "       [ 6.9  ,  2.645,  2.12 , ...,  3.71 , 15.2  , 10.   ],\n",
              "       [12.   ,  8.31 ,  5.47 , ...,  5.66 , 17.   , 12.   ]])"
            ]
          },
          "metadata": {},
          "execution_count": 38
        }
      ]
    },
    {
      "cell_type": "code",
      "metadata": {
        "colab": {
          "base_uri": "https://localhost:8080/"
        },
        "id": "iRIUUVS9aUoG",
        "outputId": "c610d9f7-4210-4d52-f15a-1de81e5b21a6"
      },
      "source": [
        "np.subtract(XY,RXY) #SUBTRACT"
      ],
      "execution_count": null,
      "outputs": [
        {
          "output_type": "execute_result",
          "data": {
            "text/plain": [
              "array([[-0.6  , -3.3  , -3.   , ..., -2.44 ,  2.4  , -3.   ],\n",
              "       [ 5.8  , -8.12 , -6.   , ..., -1.32 ,  7.8  ,  2.   ],\n",
              "       [ 4.8  , -0.24 , -5.96 , ..., -3.35 ,  1.8  , -2.   ],\n",
              "       ...,\n",
              "       [ 2.3  , -3.49 , -3.87 , ..., -8.25 ,  2.   ,  0.   ],\n",
              "       [ 4.9  , -1.355, -1.88 , ..., -2.29 ,  5.2  ,  0.   ],\n",
              "       [ 0.   , -7.69 , -4.53 , ..., -4.34 ,  5.   ,  0.   ]])"
            ]
          },
          "metadata": {},
          "execution_count": 39
        }
      ]
    },
    {
      "cell_type": "code",
      "metadata": {
        "colab": {
          "base_uri": "https://localhost:8080/"
        },
        "id": "i9KaUrsZaj2x",
        "outputId": "8ff6f398-bb8e-40b1-9f40-e58a32f6dedd"
      },
      "source": [
        "np.outer(XY, RXY)  #OUTER PRODUCT = a[i] * b[j]"
      ],
      "execution_count": null,
      "outputs": [
        {
          "output_type": "execute_result",
          "data": {
            "text/plain": [
              "array([[59.2 , 29.6 , 22.2 , ..., 37.  , 44.4 , 44.4 ],\n",
              "       [ 5.6 ,  2.8 ,  2.1 , ...,  3.5 ,  4.2 ,  4.2 ],\n",
              "       [ 0.  ,  0.  ,  0.  , ...,  0.  ,  0.  ,  0.  ],\n",
              "       ...,\n",
              "       [ 5.28,  2.64,  1.98, ...,  3.3 ,  3.96,  3.96],\n",
              "       [88.  , 44.  , 33.  , ..., 55.  , 66.  , 66.  ],\n",
              "       [48.  , 24.  , 18.  , ..., 30.  , 36.  , 36.  ]])"
            ]
          },
          "metadata": {},
          "execution_count": 40
        }
      ]
    },
    {
      "cell_type": "markdown",
      "metadata": {
        "id": "Uu0jQmulcw9d"
      },
      "source": [
        "# **STEP-5**"
      ]
    },
    {
      "cell_type": "code",
      "metadata": {
        "colab": {
          "base_uri": "https://localhost:8080/"
        },
        "id": "PjlxRmvYczOw",
        "outputId": "afd136aa-e4ab-4bb9-b11f-eb41985fa1d7"
      },
      "source": [
        "RXY2 = np.random.randint(1,10,size=(12,1))\n",
        "RXY2"
      ],
      "execution_count": null,
      "outputs": [
        {
          "output_type": "execute_result",
          "data": {
            "text/plain": [
              "array([[9],\n",
              "       [5],\n",
              "       [2],\n",
              "       [7],\n",
              "       [3],\n",
              "       [7],\n",
              "       [2],\n",
              "       [1],\n",
              "       [9],\n",
              "       [4],\n",
              "       [5],\n",
              "       [4]])"
            ]
          },
          "metadata": {},
          "execution_count": 149
        }
      ]
    },
    {
      "cell_type": "code",
      "metadata": {
        "colab": {
          "base_uri": "https://localhost:8080/"
        },
        "id": "9u4se8AwdK_5",
        "outputId": "99fd32c9-e642-45ce-cae1-cf193e11eb55"
      },
      "source": [
        "XY.dot(RXY2)  #INNER PRODUCT - 1st way "
      ],
      "execution_count": null,
      "outputs": [
        {
          "output_type": "execute_result",
          "data": {
            "text/plain": [
              "array([[330.4558 ],\n",
              "       [503.6108 ],\n",
              "       [405.393  ],\n",
              "       ...,\n",
              "       [472.61374],\n",
              "       [489.75547],\n",
              "       [405.03649]])"
            ]
          },
          "metadata": {},
          "execution_count": 162
        }
      ]
    },
    {
      "cell_type": "code",
      "metadata": {
        "colab": {
          "base_uri": "https://localhost:8080/"
        },
        "id": "pMljUNafgk40",
        "outputId": "24e3fbf7-6da5-41ab-9c25-12f8e313cf02"
      },
      "source": [
        "inner_product = np.dot(XY,RXY2)  #INNER PRODUCT - 2nd way\n",
        "inner_product"
      ],
      "execution_count": null,
      "outputs": [
        {
          "output_type": "execute_result",
          "data": {
            "text/plain": [
              "array([[330.4558 ],\n",
              "       [503.6108 ],\n",
              "       [405.393  ],\n",
              "       ...,\n",
              "       [472.61374],\n",
              "       [489.75547],\n",
              "       [405.03649]])"
            ]
          },
          "metadata": {},
          "execution_count": 166
        }
      ]
    },
    {
      "cell_type": "code",
      "metadata": {
        "colab": {
          "base_uri": "https://localhost:8080/"
        },
        "id": "Vm8Tiws0hbRQ",
        "outputId": "f006acfc-59bb-48aa-d153-4ff167a91e18"
      },
      "source": [
        "inner_product.shape"
      ],
      "execution_count": null,
      "outputs": [
        {
          "output_type": "execute_result",
          "data": {
            "text/plain": [
              "(1599, 1)"
            ]
          },
          "metadata": {},
          "execution_count": 167
        }
      ]
    },
    {
      "cell_type": "markdown",
      "metadata": {
        "id": "i9QvJa6tg8iY"
      },
      "source": [
        "# **STEP-6**"
      ]
    },
    {
      "cell_type": "code",
      "metadata": {
        "id": "4xtUajf6g-aj"
      },
      "source": [
        "#The transpose of a matrix is found by switching its rows with its columns\n",
        "#The determinant of a square matrix can be calculated det() function which also comes from the numpy linalg package\n",
        "#If the determinant of a square matrix is not 0, it has a true inverse.\n",
        "#Flatten is a simple method to transform a matrix into a one-dimensional numpy array\n",
        "#Shuffle can be used to avoid BIAS situations keeping in mind real life applications\n",
        "#Slicing helps get a particular matrix breakdown into several parts based on conditions, also by use of row or column individualy\n",
        "#Addition, Subtraction, outer product of Matrix \n",
        "#Inner product also called dot produt gives you same output. "
      ],
      "execution_count": null,
      "outputs": []
    }
  ]
}