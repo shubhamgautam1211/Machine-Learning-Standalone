{
  "nbformat": 4,
  "nbformat_minor": 0,
  "metadata": {
    "colab": {
      "name": "SG-6_StatisticsOperations Dataset.ipynb",
      "provenance": [],
      "collapsed_sections": [],
      "authorship_tag": "ABX9TyO5M+RYvb40m7668Rkav/18",
      "include_colab_link": true
    },
    "kernelspec": {
      "name": "python3",
      "display_name": "Python 3"
    },
    "language_info": {
      "name": "python"
    }
  },
  "cells": [
    {
      "cell_type": "markdown",
      "metadata": {
        "id": "view-in-github",
        "colab_type": "text"
      },
      "source": [
        "<a href=\"https://colab.research.google.com/github/shubhamgautam1211/Machine-Learning-Standalone/blob/main/SG_6_StatisticsOperations_Dataset.ipynb\" target=\"_parent\"><img src=\"https://colab.research.google.com/assets/colab-badge.svg\" alt=\"Open In Colab\"/></a>"
      ]
    },
    {
      "cell_type": "markdown",
      "metadata": {
        "id": "70_Rg1VA9cng"
      },
      "source": [
        "# **STEP-1**"
      ]
    },
    {
      "cell_type": "markdown",
      "metadata": {
        "id": "KOgUv1Uq9Drs"
      },
      "source": [
        "## **Download the White Wine Dataset from https://archive.ics.uci.edu/ml/machine\u0002learning-databases/wine-quality/winequality-white.csv**"
      ]
    },
    {
      "cell_type": "markdown",
      "metadata": {
        "id": "w3i0Uu2NYlym"
      },
      "source": [
        "# **STEP-2**"
      ]
    },
    {
      "cell_type": "code",
      "metadata": {
        "colab": {
          "base_uri": "https://localhost:8080/"
        },
        "id": "uy3MOCDF9RdF",
        "outputId": "d7c41f7b-c7ba-4e76-b45a-a7513c1a6ed4"
      },
      "source": [
        "import csv\n",
        "import numpy as np\n",
        "import pandas as pd\n",
        "\n",
        "with open('winequality-white.csv', 'r') as f:\n",
        "    XY = list(csv.reader(f, delimiter=';'))\n",
        "\n",
        "XY = np.array(XY[1:], dtype=np.float) \n",
        "\n",
        "print(XY)\n",
        "print(\"Shape of XY dataset - : \")\n",
        "print(XY.shape)"
      ],
      "execution_count": null,
      "outputs": [
        {
          "output_type": "stream",
          "name": "stdout",
          "text": [
            "[[ 7.    0.27  0.36 ...  0.45  8.8   6.  ]\n",
            " [ 6.3   0.3   0.34 ...  0.49  9.5   6.  ]\n",
            " [ 8.1   0.28  0.4  ...  0.44 10.1   6.  ]\n",
            " ...\n",
            " [ 6.5   0.24  0.19 ...  0.46  9.4   6.  ]\n",
            " [ 5.5   0.29  0.3  ...  0.38 12.8   7.  ]\n",
            " [ 6.    0.21  0.38 ...  0.32 11.8   6.  ]]\n",
            "Shape of XY dataset - : \n",
            "(4898, 12)\n"
          ]
        }
      ]
    },
    {
      "cell_type": "markdown",
      "metadata": {
        "id": "f9l7panAFkPD"
      },
      "source": [
        "# **STEP-3**"
      ]
    },
    {
      "cell_type": "markdown",
      "metadata": {
        "id": "LGpj-V5JYHLr"
      },
      "source": [
        "### **First trying mean,standard deviation,variance using NumPy library**"
      ]
    },
    {
      "cell_type": "code",
      "metadata": {
        "colab": {
          "base_uri": "https://localhost:8080/"
        },
        "id": "vIHaQUVvFmX6",
        "outputId": "15a7c10b-9472-4f5b-bf28-17d9812bc45b"
      },
      "source": [
        "print(\"Mean of Columns\") \n",
        "mean = XY.mean(axis=0)   # axis = 0 for columns\n",
        "print(mean)"
      ],
      "execution_count": null,
      "outputs": [
        {
          "output_type": "stream",
          "name": "stdout",
          "text": [
            "Mean of Columns\n",
            "[6.85478767e+00 2.78241119e-01 3.34191507e-01 6.39141486e+00\n",
            " 4.57723561e-02 3.53080849e+01 1.38360657e+02 9.94027376e-01\n",
            " 3.18826664e+00 4.89846876e-01 1.05142670e+01 5.87790935e+00]\n"
          ]
        }
      ]
    },
    {
      "cell_type": "code",
      "metadata": {
        "colab": {
          "base_uri": "https://localhost:8080/"
        },
        "id": "0lk4KI7xZ_tq",
        "outputId": "6f4245fe-9b06-4ded-d213-0b3e21cf3668"
      },
      "source": [
        "print(\"Standard Deviation of Columns\") \n",
        "std = np.std(XY,axis=0)\n",
        "print(std)"
      ],
      "execution_count": null,
      "outputs": [
        {
          "output_type": "stream",
          "name": "stdout",
          "text": [
            "Standard Deviation of Columns\n",
            "[8.43782079e-01 1.00784259e-01 1.21007450e-01 5.07153999e+00\n",
            " 2.18457377e-02 1.70054011e+01 4.24937260e+01 2.99060158e-03\n",
            " 1.50985184e-01 1.14114183e-01 1.23049494e+00 8.85548162e-01]\n"
          ]
        }
      ]
    },
    {
      "cell_type": "code",
      "metadata": {
        "colab": {
          "base_uri": "https://localhost:8080/"
        },
        "id": "6O-fICRKeyLD",
        "outputId": "dff46f8d-d06f-4a1f-8031-a36159d45477"
      },
      "source": [
        "print(\"Variance of Columns\") \n",
        "var = np.var(XY,axis = 0)\n",
        "print(var)"
      ],
      "execution_count": null,
      "outputs": [
        {
          "output_type": "stream",
          "name": "stdout",
          "text": [
            "Variance of Columns\n",
            "[7.11968197e-01 1.01574668e-02 1.46428029e-02 2.57205179e+01\n",
            " 4.77236255e-04 2.89183667e+02 1.80571675e+03 8.94369782e-06\n",
            " 2.27965259e-02 1.30220468e-02 1.51411779e+00 7.84195548e-01]\n"
          ]
        }
      ]
    },
    {
      "cell_type": "markdown",
      "metadata": {
        "id": "B3rtp_hZYMwC"
      },
      "source": [
        "## **Now using Pandas to find statistical values**"
      ]
    },
    {
      "cell_type": "code",
      "metadata": {
        "colab": {
          "base_uri": "https://localhost:8080/",
          "height": 204
        },
        "id": "wEMgokUjQky0",
        "outputId": "c90fb420-fb6c-4107-fbaa-ca09ca239ea5"
      },
      "source": [
        "XY = pd.read_csv(\"winequality-white.csv\",sep =';',delimiter=\";\")\n",
        "XY.head()"
      ],
      "execution_count": null,
      "outputs": [
        {
          "output_type": "execute_result",
          "data": {
            "text/html": [
              "<div>\n",
              "<style scoped>\n",
              "    .dataframe tbody tr th:only-of-type {\n",
              "        vertical-align: middle;\n",
              "    }\n",
              "\n",
              "    .dataframe tbody tr th {\n",
              "        vertical-align: top;\n",
              "    }\n",
              "\n",
              "    .dataframe thead th {\n",
              "        text-align: right;\n",
              "    }\n",
              "</style>\n",
              "<table border=\"1\" class=\"dataframe\">\n",
              "  <thead>\n",
              "    <tr style=\"text-align: right;\">\n",
              "      <th></th>\n",
              "      <th>fixed acidity</th>\n",
              "      <th>volatile acidity</th>\n",
              "      <th>citric acid</th>\n",
              "      <th>residual sugar</th>\n",
              "      <th>chlorides</th>\n",
              "      <th>free sulfur dioxide</th>\n",
              "      <th>total sulfur dioxide</th>\n",
              "      <th>density</th>\n",
              "      <th>pH</th>\n",
              "      <th>sulphates</th>\n",
              "      <th>alcohol</th>\n",
              "      <th>quality</th>\n",
              "    </tr>\n",
              "  </thead>\n",
              "  <tbody>\n",
              "    <tr>\n",
              "      <th>0</th>\n",
              "      <td>7.0</td>\n",
              "      <td>0.27</td>\n",
              "      <td>0.36</td>\n",
              "      <td>20.7</td>\n",
              "      <td>0.045</td>\n",
              "      <td>45.0</td>\n",
              "      <td>170.0</td>\n",
              "      <td>1.0010</td>\n",
              "      <td>3.00</td>\n",
              "      <td>0.45</td>\n",
              "      <td>8.8</td>\n",
              "      <td>6</td>\n",
              "    </tr>\n",
              "    <tr>\n",
              "      <th>1</th>\n",
              "      <td>6.3</td>\n",
              "      <td>0.30</td>\n",
              "      <td>0.34</td>\n",
              "      <td>1.6</td>\n",
              "      <td>0.049</td>\n",
              "      <td>14.0</td>\n",
              "      <td>132.0</td>\n",
              "      <td>0.9940</td>\n",
              "      <td>3.30</td>\n",
              "      <td>0.49</td>\n",
              "      <td>9.5</td>\n",
              "      <td>6</td>\n",
              "    </tr>\n",
              "    <tr>\n",
              "      <th>2</th>\n",
              "      <td>8.1</td>\n",
              "      <td>0.28</td>\n",
              "      <td>0.40</td>\n",
              "      <td>6.9</td>\n",
              "      <td>0.050</td>\n",
              "      <td>30.0</td>\n",
              "      <td>97.0</td>\n",
              "      <td>0.9951</td>\n",
              "      <td>3.26</td>\n",
              "      <td>0.44</td>\n",
              "      <td>10.1</td>\n",
              "      <td>6</td>\n",
              "    </tr>\n",
              "    <tr>\n",
              "      <th>3</th>\n",
              "      <td>7.2</td>\n",
              "      <td>0.23</td>\n",
              "      <td>0.32</td>\n",
              "      <td>8.5</td>\n",
              "      <td>0.058</td>\n",
              "      <td>47.0</td>\n",
              "      <td>186.0</td>\n",
              "      <td>0.9956</td>\n",
              "      <td>3.19</td>\n",
              "      <td>0.40</td>\n",
              "      <td>9.9</td>\n",
              "      <td>6</td>\n",
              "    </tr>\n",
              "    <tr>\n",
              "      <th>4</th>\n",
              "      <td>7.2</td>\n",
              "      <td>0.23</td>\n",
              "      <td>0.32</td>\n",
              "      <td>8.5</td>\n",
              "      <td>0.058</td>\n",
              "      <td>47.0</td>\n",
              "      <td>186.0</td>\n",
              "      <td>0.9956</td>\n",
              "      <td>3.19</td>\n",
              "      <td>0.40</td>\n",
              "      <td>9.9</td>\n",
              "      <td>6</td>\n",
              "    </tr>\n",
              "  </tbody>\n",
              "</table>\n",
              "</div>"
            ],
            "text/plain": [
              "   fixed acidity  volatile acidity  citric acid  ...  sulphates  alcohol  quality\n",
              "0            7.0              0.27         0.36  ...       0.45      8.8        6\n",
              "1            6.3              0.30         0.34  ...       0.49      9.5        6\n",
              "2            8.1              0.28         0.40  ...       0.44     10.1        6\n",
              "3            7.2              0.23         0.32  ...       0.40      9.9        6\n",
              "4            7.2              0.23         0.32  ...       0.40      9.9        6\n",
              "\n",
              "[5 rows x 12 columns]"
            ]
          },
          "metadata": {},
          "execution_count": 5
        }
      ]
    },
    {
      "cell_type": "markdown",
      "metadata": {
        "id": "ttGTNDGbdU1b"
      },
      "source": [
        "## **MEAN**"
      ]
    },
    {
      "cell_type": "code",
      "metadata": {
        "colab": {
          "base_uri": "https://localhost:8080/"
        },
        "id": "Ku9FMchyT5Xw",
        "outputId": "d045d952-b832-4bde-c671-44dd3fcd8cff"
      },
      "source": [
        "print(\"Mean of 12 Columns -: \")\n",
        "mean = XY.mean(axis=0)    # axis = 0 for columns\n",
        "print(mean)"
      ],
      "execution_count": null,
      "outputs": [
        {
          "output_type": "stream",
          "name": "stdout",
          "text": [
            "Mean of 12 Columns -: \n",
            "fixed acidity             6.854788\n",
            "volatile acidity          0.278241\n",
            "citric acid               0.334192\n",
            "residual sugar            6.391415\n",
            "chlorides                 0.045772\n",
            "free sulfur dioxide      35.308085\n",
            "total sulfur dioxide    138.360657\n",
            "density                   0.994027\n",
            "pH                        3.188267\n",
            "sulphates                 0.489847\n",
            "alcohol                  10.514267\n",
            "quality                   5.877909\n",
            "dtype: float64\n"
          ]
        }
      ]
    },
    {
      "cell_type": "markdown",
      "metadata": {
        "id": "UtmgPnhZdaEz"
      },
      "source": [
        "## **MODE**"
      ]
    },
    {
      "cell_type": "code",
      "metadata": {
        "colab": {
          "base_uri": "https://localhost:8080/",
          "height": 80
        },
        "id": "BgYywP_3fcEk",
        "outputId": "4e79e2bb-dd96-43a8-d0ed-bafc22eec6b8"
      },
      "source": [
        "XY.mode(axis = 0)"
      ],
      "execution_count": null,
      "outputs": [
        {
          "output_type": "execute_result",
          "data": {
            "text/html": [
              "<div>\n",
              "<style scoped>\n",
              "    .dataframe tbody tr th:only-of-type {\n",
              "        vertical-align: middle;\n",
              "    }\n",
              "\n",
              "    .dataframe tbody tr th {\n",
              "        vertical-align: top;\n",
              "    }\n",
              "\n",
              "    .dataframe thead th {\n",
              "        text-align: right;\n",
              "    }\n",
              "</style>\n",
              "<table border=\"1\" class=\"dataframe\">\n",
              "  <thead>\n",
              "    <tr style=\"text-align: right;\">\n",
              "      <th></th>\n",
              "      <th>fixed acidity</th>\n",
              "      <th>volatile acidity</th>\n",
              "      <th>citric acid</th>\n",
              "      <th>residual sugar</th>\n",
              "      <th>chlorides</th>\n",
              "      <th>free sulfur dioxide</th>\n",
              "      <th>total sulfur dioxide</th>\n",
              "      <th>density</th>\n",
              "      <th>pH</th>\n",
              "      <th>sulphates</th>\n",
              "      <th>alcohol</th>\n",
              "      <th>quality</th>\n",
              "    </tr>\n",
              "  </thead>\n",
              "  <tbody>\n",
              "    <tr>\n",
              "      <th>0</th>\n",
              "      <td>6.8</td>\n",
              "      <td>0.28</td>\n",
              "      <td>0.3</td>\n",
              "      <td>1.2</td>\n",
              "      <td>0.044</td>\n",
              "      <td>29.0</td>\n",
              "      <td>111.0</td>\n",
              "      <td>0.992</td>\n",
              "      <td>3.14</td>\n",
              "      <td>0.5</td>\n",
              "      <td>9.4</td>\n",
              "      <td>6</td>\n",
              "    </tr>\n",
              "  </tbody>\n",
              "</table>\n",
              "</div>"
            ],
            "text/plain": [
              "   fixed acidity  volatile acidity  citric acid  ...  sulphates  alcohol  quality\n",
              "0            6.8              0.28          0.3  ...        0.5      9.4        6\n",
              "\n",
              "[1 rows x 12 columns]"
            ]
          },
          "metadata": {},
          "execution_count": 7
        }
      ]
    },
    {
      "cell_type": "code",
      "metadata": {
        "colab": {
          "base_uri": "https://localhost:8080/"
        },
        "id": "ISAT6U6UYEdM",
        "outputId": "54bb8bf1-45da-48d3-92ba-3160ba40edc9"
      },
      "source": [
        "print(\"mode of last column(quality of wine) -: \")\n",
        "mode = XY['quality'].mode()\n",
        "print(mode)"
      ],
      "execution_count": null,
      "outputs": [
        {
          "output_type": "stream",
          "name": "stdout",
          "text": [
            "mode of last column(quality of wine) -: \n",
            "0    6\n",
            "dtype: int64\n"
          ]
        }
      ]
    },
    {
      "cell_type": "markdown",
      "metadata": {
        "id": "eMNIU4-EdhM0"
      },
      "source": [
        "## **STANDARD DEVIATION**"
      ]
    },
    {
      "cell_type": "code",
      "metadata": {
        "colab": {
          "base_uri": "https://localhost:8080/"
        },
        "id": "_hi3M5f1Z99q",
        "outputId": "3a10b832-81b0-4e19-92bc-0294f141843b"
      },
      "source": [
        "print(\"Standard Deviation of Columns\")\n",
        "print(XY.std(axis = 0))"
      ],
      "execution_count": null,
      "outputs": [
        {
          "output_type": "stream",
          "name": "stdout",
          "text": [
            "Standard Deviation of Columns\n",
            "fixed acidity            0.843868\n",
            "volatile acidity         0.100795\n",
            "citric acid              0.121020\n",
            "residual sugar           5.072058\n",
            "chlorides                0.021848\n",
            "free sulfur dioxide     17.007137\n",
            "total sulfur dioxide    42.498065\n",
            "density                  0.002991\n",
            "pH                       0.151001\n",
            "sulphates                0.114126\n",
            "alcohol                  1.230621\n",
            "quality                  0.885639\n",
            "dtype: float64\n"
          ]
        }
      ]
    },
    {
      "cell_type": "markdown",
      "metadata": {
        "id": "CBkKBiqXecY5"
      },
      "source": [
        "## **VARIANCE**"
      ]
    },
    {
      "cell_type": "code",
      "metadata": {
        "colab": {
          "base_uri": "https://localhost:8080/"
        },
        "id": "wvaf9HskdRp-",
        "outputId": "e7a4d9ea-21b6-46ab-b2fa-c4a8a4cfa3de"
      },
      "source": [
        "print(\"Variance of Columns\") \n",
        "print(XY.var(axis = 0))"
      ],
      "execution_count": null,
      "outputs": [
        {
          "output_type": "stream",
          "name": "stdout",
          "text": [
            "Variance of Columns\n",
            "fixed acidity              0.712114\n",
            "volatile acidity           0.010160\n",
            "citric acid                0.014646\n",
            "residual sugar            25.725770\n",
            "chlorides                  0.000477\n",
            "free sulfur dioxide      289.242720\n",
            "total sulfur dioxide    1806.085491\n",
            "density                    0.000009\n",
            "pH                         0.022801\n",
            "sulphates                  0.013025\n",
            "alcohol                    1.514427\n",
            "quality                    0.784356\n",
            "dtype: float64\n"
          ]
        }
      ]
    },
    {
      "cell_type": "markdown",
      "metadata": {
        "id": "nZgskR1RgAbX"
      },
      "source": [
        "# **STEP-4**"
      ]
    },
    {
      "cell_type": "markdown",
      "metadata": {
        "id": "BN_6ISQdlsoP"
      },
      "source": [
        "### **(1) Checking for missing values**"
      ]
    },
    {
      "cell_type": "code",
      "metadata": {
        "colab": {
          "base_uri": "https://localhost:8080/",
          "height": 418
        },
        "id": "77h3pRD4gDcE",
        "outputId": "485e4e13-3f90-4162-a3f2-4453c5cd3f4f"
      },
      "source": [
        "XY.isnull()  #return dataframe of Boolean values which are True for NaN values"
      ],
      "execution_count": null,
      "outputs": [
        {
          "output_type": "execute_result",
          "data": {
            "text/html": [
              "<div>\n",
              "<style scoped>\n",
              "    .dataframe tbody tr th:only-of-type {\n",
              "        vertical-align: middle;\n",
              "    }\n",
              "\n",
              "    .dataframe tbody tr th {\n",
              "        vertical-align: top;\n",
              "    }\n",
              "\n",
              "    .dataframe thead th {\n",
              "        text-align: right;\n",
              "    }\n",
              "</style>\n",
              "<table border=\"1\" class=\"dataframe\">\n",
              "  <thead>\n",
              "    <tr style=\"text-align: right;\">\n",
              "      <th></th>\n",
              "      <th>fixed acidity</th>\n",
              "      <th>volatile acidity</th>\n",
              "      <th>citric acid</th>\n",
              "      <th>residual sugar</th>\n",
              "      <th>chlorides</th>\n",
              "      <th>free sulfur dioxide</th>\n",
              "      <th>total sulfur dioxide</th>\n",
              "      <th>density</th>\n",
              "      <th>pH</th>\n",
              "      <th>sulphates</th>\n",
              "      <th>alcohol</th>\n",
              "      <th>quality</th>\n",
              "    </tr>\n",
              "  </thead>\n",
              "  <tbody>\n",
              "    <tr>\n",
              "      <th>0</th>\n",
              "      <td>False</td>\n",
              "      <td>False</td>\n",
              "      <td>False</td>\n",
              "      <td>False</td>\n",
              "      <td>False</td>\n",
              "      <td>False</td>\n",
              "      <td>False</td>\n",
              "      <td>False</td>\n",
              "      <td>False</td>\n",
              "      <td>False</td>\n",
              "      <td>False</td>\n",
              "      <td>False</td>\n",
              "    </tr>\n",
              "    <tr>\n",
              "      <th>1</th>\n",
              "      <td>False</td>\n",
              "      <td>False</td>\n",
              "      <td>False</td>\n",
              "      <td>False</td>\n",
              "      <td>False</td>\n",
              "      <td>False</td>\n",
              "      <td>False</td>\n",
              "      <td>False</td>\n",
              "      <td>False</td>\n",
              "      <td>False</td>\n",
              "      <td>False</td>\n",
              "      <td>False</td>\n",
              "    </tr>\n",
              "    <tr>\n",
              "      <th>2</th>\n",
              "      <td>False</td>\n",
              "      <td>False</td>\n",
              "      <td>False</td>\n",
              "      <td>False</td>\n",
              "      <td>False</td>\n",
              "      <td>False</td>\n",
              "      <td>False</td>\n",
              "      <td>False</td>\n",
              "      <td>False</td>\n",
              "      <td>False</td>\n",
              "      <td>False</td>\n",
              "      <td>False</td>\n",
              "    </tr>\n",
              "    <tr>\n",
              "      <th>3</th>\n",
              "      <td>False</td>\n",
              "      <td>False</td>\n",
              "      <td>False</td>\n",
              "      <td>False</td>\n",
              "      <td>False</td>\n",
              "      <td>False</td>\n",
              "      <td>False</td>\n",
              "      <td>False</td>\n",
              "      <td>False</td>\n",
              "      <td>False</td>\n",
              "      <td>False</td>\n",
              "      <td>False</td>\n",
              "    </tr>\n",
              "    <tr>\n",
              "      <th>4</th>\n",
              "      <td>False</td>\n",
              "      <td>False</td>\n",
              "      <td>False</td>\n",
              "      <td>False</td>\n",
              "      <td>False</td>\n",
              "      <td>False</td>\n",
              "      <td>False</td>\n",
              "      <td>False</td>\n",
              "      <td>False</td>\n",
              "      <td>False</td>\n",
              "      <td>False</td>\n",
              "      <td>False</td>\n",
              "    </tr>\n",
              "    <tr>\n",
              "      <th>...</th>\n",
              "      <td>...</td>\n",
              "      <td>...</td>\n",
              "      <td>...</td>\n",
              "      <td>...</td>\n",
              "      <td>...</td>\n",
              "      <td>...</td>\n",
              "      <td>...</td>\n",
              "      <td>...</td>\n",
              "      <td>...</td>\n",
              "      <td>...</td>\n",
              "      <td>...</td>\n",
              "      <td>...</td>\n",
              "    </tr>\n",
              "    <tr>\n",
              "      <th>4893</th>\n",
              "      <td>False</td>\n",
              "      <td>False</td>\n",
              "      <td>False</td>\n",
              "      <td>False</td>\n",
              "      <td>False</td>\n",
              "      <td>False</td>\n",
              "      <td>False</td>\n",
              "      <td>False</td>\n",
              "      <td>False</td>\n",
              "      <td>False</td>\n",
              "      <td>False</td>\n",
              "      <td>False</td>\n",
              "    </tr>\n",
              "    <tr>\n",
              "      <th>4894</th>\n",
              "      <td>False</td>\n",
              "      <td>False</td>\n",
              "      <td>False</td>\n",
              "      <td>False</td>\n",
              "      <td>False</td>\n",
              "      <td>False</td>\n",
              "      <td>False</td>\n",
              "      <td>False</td>\n",
              "      <td>False</td>\n",
              "      <td>False</td>\n",
              "      <td>False</td>\n",
              "      <td>False</td>\n",
              "    </tr>\n",
              "    <tr>\n",
              "      <th>4895</th>\n",
              "      <td>False</td>\n",
              "      <td>False</td>\n",
              "      <td>False</td>\n",
              "      <td>False</td>\n",
              "      <td>False</td>\n",
              "      <td>False</td>\n",
              "      <td>False</td>\n",
              "      <td>False</td>\n",
              "      <td>False</td>\n",
              "      <td>False</td>\n",
              "      <td>False</td>\n",
              "      <td>False</td>\n",
              "    </tr>\n",
              "    <tr>\n",
              "      <th>4896</th>\n",
              "      <td>False</td>\n",
              "      <td>False</td>\n",
              "      <td>False</td>\n",
              "      <td>False</td>\n",
              "      <td>False</td>\n",
              "      <td>False</td>\n",
              "      <td>False</td>\n",
              "      <td>False</td>\n",
              "      <td>False</td>\n",
              "      <td>False</td>\n",
              "      <td>False</td>\n",
              "      <td>False</td>\n",
              "    </tr>\n",
              "    <tr>\n",
              "      <th>4897</th>\n",
              "      <td>False</td>\n",
              "      <td>False</td>\n",
              "      <td>False</td>\n",
              "      <td>False</td>\n",
              "      <td>False</td>\n",
              "      <td>False</td>\n",
              "      <td>False</td>\n",
              "      <td>False</td>\n",
              "      <td>False</td>\n",
              "      <td>False</td>\n",
              "      <td>False</td>\n",
              "      <td>False</td>\n",
              "    </tr>\n",
              "  </tbody>\n",
              "</table>\n",
              "<p>4898 rows × 12 columns</p>\n",
              "</div>"
            ],
            "text/plain": [
              "      fixed acidity  volatile acidity  citric acid  ...  sulphates  alcohol  quality\n",
              "0             False             False        False  ...      False    False    False\n",
              "1             False             False        False  ...      False    False    False\n",
              "2             False             False        False  ...      False    False    False\n",
              "3             False             False        False  ...      False    False    False\n",
              "4             False             False        False  ...      False    False    False\n",
              "...             ...               ...          ...  ...        ...      ...      ...\n",
              "4893          False             False        False  ...      False    False    False\n",
              "4894          False             False        False  ...      False    False    False\n",
              "4895          False             False        False  ...      False    False    False\n",
              "4896          False             False        False  ...      False    False    False\n",
              "4897          False             False        False  ...      False    False    False\n",
              "\n",
              "[4898 rows x 12 columns]"
            ]
          },
          "metadata": {},
          "execution_count": 11
        }
      ]
    },
    {
      "cell_type": "code",
      "metadata": {
        "colab": {
          "base_uri": "https://localhost:8080/"
        },
        "id": "SOiGecHWsAnm",
        "outputId": "6441c50d-6bf7-4366-aac4-2bb3eaa518c0"
      },
      "source": [
        "XY.isnull().sum() # Total missing values for each feature"
      ],
      "execution_count": null,
      "outputs": [
        {
          "output_type": "execute_result",
          "data": {
            "text/plain": [
              "fixed acidity           0\n",
              "volatile acidity        0\n",
              "citric acid             0\n",
              "residual sugar          0\n",
              "chlorides               0\n",
              "free sulfur dioxide     0\n",
              "total sulfur dioxide    0\n",
              "density                 0\n",
              "pH                      0\n",
              "sulphates               0\n",
              "alcohol                 0\n",
              "quality                 0\n",
              "dtype: int64"
            ]
          },
          "metadata": {},
          "execution_count": 12
        }
      ]
    },
    {
      "cell_type": "code",
      "metadata": {
        "colab": {
          "base_uri": "https://localhost:8080/"
        },
        "id": "BIITLE8dvqWb",
        "outputId": "ba770605-d043-4fe8-fa02-940f4e8daba7"
      },
      "source": [
        "XY.isnull().values.any()   # Checking if any Any missing values?"
      ],
      "execution_count": null,
      "outputs": [
        {
          "output_type": "execute_result",
          "data": {
            "text/plain": [
              "False"
            ]
          },
          "metadata": {},
          "execution_count": 13
        }
      ]
    },
    {
      "cell_type": "code",
      "metadata": {
        "colab": {
          "base_uri": "https://localhost:8080/"
        },
        "id": "A70Dz8QFv1Ia",
        "outputId": "cf3eade9-6a61-4bed-9a34-099b1c2353ad"
      },
      "source": [
        "XY.isnull().sum().sum()  # Total number of missing values"
      ],
      "execution_count": null,
      "outputs": [
        {
          "output_type": "execute_result",
          "data": {
            "text/plain": [
              "0"
            ]
          },
          "metadata": {},
          "execution_count": 14
        }
      ]
    },
    {
      "cell_type": "markdown",
      "metadata": {
        "id": "u8XGAiFuwjGl"
      },
      "source": [
        "### **(2) Maximum and Minimum values**"
      ]
    },
    {
      "cell_type": "code",
      "metadata": {
        "colab": {
          "base_uri": "https://localhost:8080/"
        },
        "id": "Pjczt5Lxwlgu",
        "outputId": "de472b70-56e8-4ccf-8a31-7fb38afcd1c2"
      },
      "source": [
        "print(\"MAX VALUES FOR EACH COLUMN \")\n",
        "max_values = XY.max(axis=0)\n",
        "print(max_values)"
      ],
      "execution_count": null,
      "outputs": [
        {
          "output_type": "stream",
          "name": "stdout",
          "text": [
            "MAX VALUES FOR EACH COLUMN \n",
            "fixed acidity            14.20000\n",
            "volatile acidity          1.10000\n",
            "citric acid               1.66000\n",
            "residual sugar           65.80000\n",
            "chlorides                 0.34600\n",
            "free sulfur dioxide     289.00000\n",
            "total sulfur dioxide    440.00000\n",
            "density                   1.03898\n",
            "pH                        3.82000\n",
            "sulphates                 1.08000\n",
            "alcohol                  14.20000\n",
            "quality                   9.00000\n",
            "dtype: float64\n"
          ]
        }
      ]
    },
    {
      "cell_type": "code",
      "metadata": {
        "colab": {
          "base_uri": "https://localhost:8080/"
        },
        "id": "h4BUzrYnxrgV",
        "outputId": "46a437db-24aa-4247-f563-9329521fc9e5"
      },
      "source": [
        "print(\"MIN VALUES FOR EACH COLUMN \")\n",
        "min_values = XY.min(axis=0)\n",
        "print(min_values)"
      ],
      "execution_count": null,
      "outputs": [
        {
          "output_type": "stream",
          "name": "stdout",
          "text": [
            "MIN VALUES FOR EACH COLUMN \n",
            "fixed acidity           3.80000\n",
            "volatile acidity        0.08000\n",
            "citric acid             0.00000\n",
            "residual sugar          0.60000\n",
            "chlorides               0.00900\n",
            "free sulfur dioxide     2.00000\n",
            "total sulfur dioxide    9.00000\n",
            "density                 0.98711\n",
            "pH                      2.72000\n",
            "sulphates               0.22000\n",
            "alcohol                 8.00000\n",
            "quality                 3.00000\n",
            "dtype: float64\n"
          ]
        }
      ]
    },
    {
      "cell_type": "markdown",
      "metadata": {
        "id": "3yLUNjoA5EmC"
      },
      "source": [
        "### **(3) Count number of samples for each value of wine quality, plot it as pie chart**"
      ]
    },
    {
      "cell_type": "code",
      "metadata": {
        "colab": {
          "base_uri": "https://localhost:8080/"
        },
        "id": "g6H5JRzf5OEf",
        "outputId": "298ef3c8-5f71-4a03-c383-286c33e7026a"
      },
      "source": [
        "count_sample = XY[\"quality\"].value_counts()\n",
        "print(\"count_sample of each point of quality(1-10) are -:\")\n",
        "print(count_sample)\n",
        "\n",
        "max_count = count_sample.max()\n",
        "temp = XY[\"quality\"].unique()"
      ],
      "execution_count": null,
      "outputs": [
        {
          "output_type": "stream",
          "name": "stdout",
          "text": [
            "count_sample of each point of quality(1-10) are -:\n",
            "6    2198\n",
            "5    1457\n",
            "7     880\n",
            "8     175\n",
            "4     163\n",
            "3      20\n",
            "9       5\n",
            "Name: quality, dtype: int64\n"
          ]
        }
      ]
    },
    {
      "cell_type": "code",
      "metadata": {
        "colab": {
          "base_uri": "https://localhost:8080/",
          "height": 444
        },
        "id": "1ppfWIdz9_m8",
        "outputId": "e6ce4217-e6c1-4be3-c1d4-e000d78fbd1d"
      },
      "source": [
        "pie = count_sample.plot(kind='pie',figsize = (7,7))\n",
        "pie.set_title(\"Count of samples of Quality of white wine\")\n",
        "\n",
        "print(\"Quality number\",temp[0], \"has most number of samples equal to\",max_count)"
      ],
      "execution_count": null,
      "outputs": [
        {
          "output_type": "stream",
          "name": "stdout",
          "text": [
            "Quality number 6 has most number of samples equal to 2198\n"
          ]
        },
        {
          "output_type": "display_data",
          "data": {
            "image/png": "[encoded data removed]",
            "text/plain": [
              "<Figure size 504x504 with 1 Axes>"
            ]
          },
          "metadata": {}
        }
      ]
    },
    {
      "cell_type": "markdown",
      "metadata": {
        "id": "ZDYho312BHmW"
      },
      "source": [
        "### **(4)Plot the columns using histogram graph to show the distribution of the data**"
      ]
    },
    {
      "cell_type": "code",
      "metadata": {
        "colab": {
          "base_uri": "https://localhost:8080/",
          "height": 1000
        },
        "id": "-Ro0YtVGWA__",
        "outputId": "7c3e5c8b-9a06-4133-d510-17734f1dd57b"
      },
      "source": [
        "XY.hist(bins=30,grid=False,figsize=(16,16),color='r',edgecolor='black',)"
      ],
      "execution_count": null,
      "outputs": [
        {
          "output_type": "execute_result",
          "data": {
            "text/plain": [
              "array([[<matplotlib.axes._subplots.AxesSubplot object at 0x7f42d962fd50>,\n",
              "        <matplotlib.axes._subplots.AxesSubplot object at 0x7f42d9622f90>,\n",
              "        <matplotlib.axes._subplots.AxesSubplot object at 0x7f42d9570390>],\n",
              "       [<matplotlib.axes._subplots.AxesSubplot object at 0x7f42d9588910>,\n",
              "        <matplotlib.axes._subplots.AxesSubplot object at 0x7f42d94b2e90>,\n",
              "        <matplotlib.axes._subplots.AxesSubplot object at 0x7f42d71a7450>],\n",
              "       [<matplotlib.axes._subplots.AxesSubplot object at 0x7f42d71d0a50>,\n",
              "        <matplotlib.axes._subplots.AxesSubplot object at 0x7f42d717bf10>,\n",
              "        <matplotlib.axes._subplots.AxesSubplot object at 0x7f42d717bf50>],\n",
              "       [<matplotlib.axes._subplots.AxesSubplot object at 0x7f42d58ee610>,\n",
              "        <matplotlib.axes._subplots.AxesSubplot object at 0x7f42d58c3fd0>,\n",
              "        <matplotlib.axes._subplots.AxesSubplot object at 0x7f42d58795d0>]],\n",
              "      dtype=object)"
            ]
          },
          "metadata": {},
          "execution_count": 87
        },
        {
          "output_type": "display_data",
          "data": {
            "image/png": "[encoded data removed]",
            "text/plain": [
              "<Figure size 1152x1152 with 12 Axes>"
            ]
          },
          "metadata": {
            "needs_background": "light"
          }
        }
      ]
    }
  ]
}