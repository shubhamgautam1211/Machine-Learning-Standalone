{
  "cells": [
    {
      "cell_type": "markdown",
      "metadata": {
        "id": "view-in-github",
        "colab_type": "text"
      },
      "source": [
        "<a href=\"https://colab.research.google.com/github/shubhamgautam1211/Machine-Learning-Standalone/blob/main/Clustering.ipynb\" target=\"_parent\"><img src=\"https://colab.research.google.com/assets/colab-badge.svg\" alt=\"Open In Colab\"/></a>"
      ]
    },
    {
      "cell_type": "markdown",
      "metadata": {
        "id": "j_ktHZ63IB2Y"
      },
      "source": [
        "#Objective: To demonstrates the concept of clustering techniques\n",
        "\n",
        "\n",
        "\n",
        "\n",
        "\n"
      ]
    },
    {
      "cell_type": "markdown",
      "metadata": {
        "id": "n66r95EDKESF"
      },
      "source": [
        "#Clustering\n",
        "\n",
        "It is the task of partitioning the dataset into groups, called clusters. The goal is to split up the data ins such a way that points within a single cluster are very similar and points in a different cluster are different\n",
        "\n",
        "##K-means clustering\n",
        "•\tTries to find cluster centers that are representative of certain regions of the data\n",
        "\n",
        "•\tAlternates between two steps: assigning each data point to the closest cluster center, and then setting each cluster center as the mean of the data points that are assigned to it\n",
        "\n",
        "•\tThe algorithm is finished when the assignment of instances to clusters no longer changes\n",
        "\n",
        "##Hierarchical clustering\n",
        "Hierarchical methods can be either divisive or agglomerative. A hierarchical clustering is a set of nested clusters that are arranged as a tree.\n",
        "In hierarchical clustering one can stop at any number of clusters, one finds appropriate by interpreting the dendrogram.\n",
        "\n",
        "Agglomerative methods begin with ‘n’ clusters and sequentially combine similar clusters until only one cluster is obtained.\n",
        "\n",
        "Divisive methods work in the opposite direction, beginning with one cluster that includes all the records and Hierarchical methods are especially useful when the target is to arrange the clusters into a natural hierarchy.\n",
        "In Hierarchical Clustering, results are reproducible in Hierarchical clustering. Hierarchical clustering don’t work as well as, k means when the shape of the clusters is hyper spherical.\n",
        "\n",
        "##DBSCAN\n",
        "Stands for “density based spatial clustering of applications with noise”\n",
        "\n",
        "•\tdoes not require the user to set the number of clusters a priori\n",
        "\n",
        "•\tcan capture clusters of complex shapes\n",
        "\n",
        "•\tcan identify points that are not part of any cluster (very useful as outliers detector)\n",
        "\n",
        "•\tis somewhat slower than agglomerative clustering and k-means, but still scales to relatively large datasets.\n",
        "\n",
        "•\tworks by identifying points that are in crowded regions of the feature space, where many data points are close together (dense regions in feature space)\n",
        "\n",
        "•\tPoints that are within a dense region are called core samples (or core points)\n",
        "\n",
        "•\tThere are two parameters in DBSCAN: min_samples and eps\n",
        "\n",
        "•\tIf there are at least min_samples many data points within a distance of eps to a given data point, that data point is classified as a core sample\n",
        "\n",
        "•\tcore samples that are closer to each other than the distance eps are put into the same cluster by DBSCAN."
      ]
    },
    {
      "cell_type": "markdown",
      "metadata": {
        "id": "y4fbtyKGJ_4Q"
      },
      "source": [
        "# Dataset 1 for k-means and hierarchical clustering:\n",
        " The dataset consists of Annual income (in $000) and their total spend (in $000) on an e-commerce site for a period of one year. Let us explore the data using numpy and pandas libraries in python.\n",
        "\n",
        "##Attributes:\n",
        "1. CustomerID: It is the unique ID given to a customer\n",
        "2. Gender: Gender of the customer\n",
        "3. Age: The age of the customer\n",
        "4. Annual Income(k$): It is the annual income of the customer\n",
        "5. Spending Score: It is the score(out of 100) given to a customer by the mall authorities, based on the money spent and the behavior of the customer.\n",
        "\n",
        "##Source\n",
        "https://www.kaggle.com/akram24/mall-customers"
      ]
    },
    {
      "cell_type": "markdown",
      "metadata": {
        "id": "emfRcIvTJ9Bs"
      },
      "source": [
        "#Dataset 2: Credit Card Dataset for Clustering for DBSCAN\n",
        "\n",
        "This case requires to develop a customer segmentation to define marketing strategy. The sample Dataset summarizes the usage behavior of about 9000 active credit card holders during the last 6 months. The file is at a customer level with 18 behavioral variables.\n",
        "\n",
        "##Attributes:\n",
        "1.\tCUSTID : Identification of Credit Card holder (Categorical)\n",
        "2.\tBALANCE : Balance amount left in their account to make purchases (\n",
        "3.\tBALANCEFREQUENCY : How frequently the Balance is updated, score between 0 and 1 (1 = frequently updated, 0 = not frequently updated)\n",
        "4.\tPURCHASES : Amount of purchases made from account\n",
        "5.\tONEOFFPURCHASES : Maximum purchase amount done in one-go\n",
        "6.\tINSTALLMENTSPURCHASES : Amount of purchase done in installment\n",
        "7.\tCASHADVANCE : Cash in advance given by the user\n",
        "8.\tPURCHASESFREQUENCY : How frequently the Purchases are being made, score between 0 and 1 (1 = frequently purchased, 0 = not frequently purchased)\n",
        "9.\tONEOFFPURCHASESFREQUENCY : How frequently Purchases are happening in one-go (1 = frequently purchased, 0 = not frequently purchased)\n",
        "10.\tPURCHASESINSTALLMENTSFREQUENCY : How frequently purchases in installments are being done (1 = frequently done, 0 = not frequently done)\n",
        "11.\tCASHADVANCEFREQUENCY : How frequently the cash in advance being paid\n",
        "12.\tCASHADVANCETRX : Number of Transactions made with \"Cash in Advanced\"\n",
        "13.\tPURCHASESTRX : Numbe of purchase transactions made\n",
        "14.\tCREDITLIMIT : Limit of Credit Card for user\n",
        "15.\tPAYMENTS : Amount of Payment done by user\n",
        "16.\tMINIMUM_PAYMENTS : Minimum amount of payments made by user\n",
        "17.\tPRCFULLPAYMENT : Percent of full payment paid by user\n",
        "18.\tTENURE : Tenure of credit card service for user\n",
        "\n",
        "##Source \n",
        "https://www.kaggle.com/arjunbhasin2013/ccdata"
      ]
    },
    {
      "cell_type": "markdown",
      "metadata": {
        "id": "YbytICfvJ5Oc"
      },
      "source": [
        "###Task 1: K Means Clustering\n",
        "1.\tObtain the dataset.\n",
        "2.\tSelect the potential features for clustering such as Annual Income and Spending Score.\n",
        "3.\tDefine the value of K\n",
        "4.\tApply K–means clustering\n",
        "5.\tVisualize the clusters\n",
        "6.\tScale the value of K and visualize the clusters\n",
        "7.\tObtain the optimal number of clusters by using the Elbow method and visualize the clusters\n",
        "\n",
        "### Task 2: Hierarchical clustering\n",
        "1.\tObtain the dataset\n",
        "2.\tSelect the potential features for clustering such as Annual Income and Spending Score.\n",
        "3.\tImplement dendrogram to obtain the optimal numbers of clusters\n",
        "4.\tApply hierarchical clustering on the data\n",
        "5.\tVisualize the clusters\n",
        "\n",
        "\n",
        "### Task 3: DBSCAN\n",
        "1.\tLoad the dataset\n",
        "2.\tDrop customer ID from the dataset\n",
        "3.\tHandle missing values\n",
        "4.\tApply data pre-processing techniques\n",
        "5.\t Reducing the dimensionality of the data by using PCA\n",
        "6.\tBuild DBSCAN model\n",
        "7.\tVisualize the clusters\n",
        "8.\tTune the parameters of DBSCAN\n",
        "\n",
        "### Optional (not included in evaluation)\n",
        "1.\tMeasure the performance using adjusted_rand_score. \n",
        "2.\tApply improved versions of k-means and DBSCAN algorithms"
      ]
    },
    {
      "cell_type": "markdown",
      "metadata": {
        "id": "LKHamscxJ0qP"
      },
      "source": [
        "## Suggested links:\n",
        "Difference between various clustering approaches please see:\n",
        "https://scikit-learn.org/stable/modules/clustering.html\n",
        "\n",
        "https://www.kdnuggets.com/2020/04/dbscan-clustering-algorithm-machine-learning.html\n",
        "\n",
        "https://towardsdatascience.com/dbscan-algorithm-complete-guide-and-application-with-python-scikit-learn-d690cbae4c5d\n",
        "https://towardsdatascience.com/dbscan-clustering-for-data-shapes-k-means-cant-handle-well-in-python-6be89af4e6ea\n",
        "https://www.analyticsvidhya.com/blog/2020/09/how-dbscan-clustering-works/\n"
      ]
    },
    {
      "cell_type": "markdown",
      "metadata": {
        "id": "QZO4sj9wIhlY"
      },
      "source": [
        "##Task 1: K Means Clustering"
      ]
    },
    {
      "cell_type": "code",
      "execution_count": null,
      "metadata": {
        "id": "padlDtrUIYvw"
      },
      "outputs": [],
      "source": [
        "#Obtain the dataset."
      ]
    },
    {
      "cell_type": "code",
      "execution_count": null,
      "metadata": {
        "id": "hibcB-wGIsah"
      },
      "outputs": [],
      "source": [
        "#Select the potential features for clustering such as Annual Income and Spending Score."
      ]
    },
    {
      "cell_type": "code",
      "execution_count": null,
      "metadata": {
        "id": "pw-XjthzIuZq"
      },
      "outputs": [],
      "source": [
        "#Define the value of K"
      ]
    },
    {
      "cell_type": "code",
      "execution_count": null,
      "metadata": {
        "id": "m-JbcIvIIvAL"
      },
      "outputs": [],
      "source": [
        "#Apply K–means clustering"
      ]
    },
    {
      "cell_type": "code",
      "execution_count": null,
      "metadata": {
        "id": "hdbdmAc1IvCb"
      },
      "outputs": [],
      "source": [
        "#Visualize the clusters"
      ]
    },
    {
      "cell_type": "code",
      "execution_count": null,
      "metadata": {
        "id": "XMIde_BFIvEy"
      },
      "outputs": [],
      "source": [
        "#Scale the value of K and visualize the clusters"
      ]
    },
    {
      "cell_type": "code",
      "execution_count": null,
      "metadata": {
        "id": "8bKJ5iLJIvIH"
      },
      "outputs": [],
      "source": [
        "#Obtain the optimal number of clusters by using the Elbow method and visualize the clusters"
      ]
    },
    {
      "cell_type": "markdown",
      "metadata": {
        "id": "3nLvcBQiI8IT"
      },
      "source": [
        "## Task 2: Hierarchical clustering"
      ]
    },
    {
      "cell_type": "code",
      "execution_count": null,
      "metadata": {
        "id": "SwiWS2T8JCmt"
      },
      "outputs": [],
      "source": [
        "#Obtain the dataset"
      ]
    },
    {
      "cell_type": "code",
      "execution_count": null,
      "metadata": {
        "id": "KnV7LUrFJDKZ"
      },
      "outputs": [],
      "source": [
        "#Select the potential features for clustering such as Annual Income and Spending Score."
      ]
    },
    {
      "cell_type": "code",
      "execution_count": null,
      "metadata": {
        "id": "3UIqcf9oJDl_"
      },
      "outputs": [],
      "source": [
        "#Implement dendrogram to obtain the optimal numbers of clusters"
      ]
    },
    {
      "cell_type": "code",
      "execution_count": null,
      "metadata": {
        "id": "K2wbpLz9JDaW"
      },
      "outputs": [],
      "source": [
        "#Apply hierarchical clustering on the data"
      ]
    },
    {
      "cell_type": "code",
      "execution_count": null,
      "metadata": {
        "id": "j-9MP96kJEHk"
      },
      "outputs": [],
      "source": [
        "#Visualize the clusters"
      ]
    },
    {
      "cell_type": "markdown",
      "metadata": {
        "id": "Bir07xbCJRTM"
      },
      "source": [
        "## Task 3: DBSCAN"
      ]
    },
    {
      "cell_type": "code",
      "execution_count": null,
      "metadata": {
        "id": "YemAvAUSJUNb"
      },
      "outputs": [],
      "source": [
        "#Load the dataset"
      ]
    },
    {
      "cell_type": "code",
      "execution_count": null,
      "metadata": {
        "id": "HJCriwwkJbtn"
      },
      "outputs": [],
      "source": [
        "#Drop customer ID from the dataset"
      ]
    },
    {
      "cell_type": "code",
      "execution_count": null,
      "metadata": {
        "id": "Z3eD-P5hJbxG"
      },
      "outputs": [],
      "source": [
        "#Handle missing values"
      ]
    },
    {
      "cell_type": "code",
      "execution_count": null,
      "metadata": {
        "id": "0eSpSVq8Jb0d"
      },
      "outputs": [],
      "source": [
        "#Apply data pre-processing techniques"
      ]
    },
    {
      "cell_type": "code",
      "execution_count": null,
      "metadata": {
        "id": "5pxu6lu1Jb33"
      },
      "outputs": [],
      "source": [
        "# Reducing the dimensionality of the data by using PCA"
      ]
    },
    {
      "cell_type": "code",
      "execution_count": null,
      "metadata": {
        "id": "RJmLM9XiJb69"
      },
      "outputs": [],
      "source": [
        "#Build DBSCAN model"
      ]
    },
    {
      "cell_type": "code",
      "execution_count": null,
      "metadata": {
        "id": "S_DssRhTJb-h"
      },
      "outputs": [],
      "source": [
        "#Visualize the clusters"
      ]
    },
    {
      "cell_type": "code",
      "execution_count": null,
      "metadata": {
        "id": "KsKk89zqJcCB"
      },
      "outputs": [],
      "source": [
        "#Tune the parameters of DBSCAN"
      ]
    },
    {
      "cell_type": "markdown",
      "metadata": {
        "id": "x6zp9kbCJoW0"
      },
      "source": [
        "## Optional (not included in evaluation)"
      ]
    },
    {
      "cell_type": "code",
      "execution_count": null,
      "metadata": {
        "id": "2_QNz_mqJsTy"
      },
      "outputs": [],
      "source": [
        "#\tMeasure the performance using adjusted_rand_score. \n"
      ]
    },
    {
      "cell_type": "code",
      "execution_count": null,
      "metadata": {
        "id": "3ZC2ezFEJwOc"
      },
      "outputs": [],
      "source": [
        "#\tApply improved versions of k-means and DBSCAN algorithms\n"
      ]
    }
  ],
  "metadata": {
    "colab": {
      "name": "Clustering.ipynb",
      "provenance": [],
      "include_colab_link": true
    },
    "kernelspec": {
      "display_name": "Python 3",
      "language": "python",
      "name": "python3"
    },
    "language_info": {
      "codemirror_mode": {
        "name": "ipython",
        "version": 3
      },
      "file_extension": ".py",
      "mimetype": "text/x-python",
      "name": "python",
      "nbconvert_exporter": "python",
      "pygments_lexer": "ipython3",
      "version": "3.7.7"
    }
  },
  "nbformat": 4,
  "nbformat_minor": 0
}