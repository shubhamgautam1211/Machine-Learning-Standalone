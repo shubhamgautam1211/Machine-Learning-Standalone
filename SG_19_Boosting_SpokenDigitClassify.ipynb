{
  "nbformat": 4,
  "nbformat_minor": 0,
  "metadata": {
    "colab": {
      "name": "SG-19_Boosting_SpokenDigitClassify.ipynb",
      "provenance": [],
      "collapsed_sections": [],
      "authorship_tag": "ABX9TyPXWlmeRk0mFKGXQUaHFmmM",
      "include_colab_link": true
    },
    "kernelspec": {
      "name": "python3",
      "display_name": "Python 3"
    },
    "language_info": {
      "name": "python"
    }
  },
  "cells": [
    {
      "cell_type": "markdown",
      "metadata": {
        "id": "view-in-github",
        "colab_type": "text"
      },
      "source": [
        "<a href=\"https://colab.research.google.com/github/shubhamgautam1211/Machine-Learning-Standalone/blob/main/SG_19_Boosting_SpokenDigitClassify.ipynb\" target=\"_parent\"><img src=\"https://colab.research.google.com/assets/colab-badge.svg\" alt=\"Open In Colab\"/></a>"
      ]
    },
    {
      "cell_type": "markdown",
      "metadata": {
        "id": "ALeJD5ooZn2R"
      },
      "source": [
        "# **Spoken Digit Classification (Boosting)**\n"
      ]
    },
    {
      "cell_type": "code",
      "metadata": {
        "id": "oUGsrajFWF1i"
      },
      "source": [
        "import matplotlib.pyplot as plt\n",
        "import os\n",
        "from scipy.io import wavfile\n",
        "from scipy import signal\n",
        "import numpy as np\n",
        "from scipy import signal as sig\n",
        "from scipy.fft import fft, fftshift\n",
        "import librosa\n",
        "import librosa.display\n",
        "import wave\n",
        "import random as rn\n",
        "import tensorflow as tf\n",
        "from tensorflow.keras.utils import to_categorical\n",
        "from sklearn.metrics import confusion_matrix\n",
        "import seaborn as sns"
      ],
      "execution_count": null,
      "outputs": []
    },
    {
      "cell_type": "code",
      "metadata": {
        "colab": {
          "base_uri": "https://localhost:8080/"
        },
        "id": "RLB3d5XQWXlg",
        "outputId": "553ac9b4-ae9e-4fa2-ac37-31ca0b1042b5"
      },
      "source": [
        "!git clone https://github.com/Jakobovski/free-spoken-digit-dataset.git"
      ],
      "execution_count": null,
      "outputs": [
        {
          "output_type": "stream",
          "name": "stdout",
          "text": [
            "Cloning into 'free-spoken-digit-dataset'...\n",
            "remote: Enumerating objects: 4185, done.\u001b[K\n",
            "remote: Counting objects: 100% (513/513), done.\u001b[K\n",
            "remote: Compressing objects: 100% (513/513), done.\u001b[K\n",
            "remote: Total 4185 (delta 4), reused 501 (delta 0), pack-reused 3672\u001b[K\n",
            "Receiving objects: 100% (4185/4185), 30.44 MiB | 28.34 MiB/s, done.\n",
            "Resolving deltas: 100% (81/81), done.\n"
          ]
        }
      ]
    },
    {
      "cell_type": "markdown",
      "metadata": {
        "id": "f_Xpap7eXqbr"
      },
      "source": [
        "# **Reading Dataset:**\n",
        "\n",
        "Read the audio using any library.\n",
        "\n",
        "File formats in .wav which can be read using any audio library.\n",
        "\n",
        "Extract the STFT features from the audio. STFT (Short Term Fourier Transform) is a frequency feature representation for audio.\n",
        "\n",
        "### **This can be handled in either one of the two ways.**\n",
        "\n",
        "**1)** Standard size of STFT features can be extracted from middle of each \n",
        "audio samples, then that 2D matrix can be flattened \n",
        "\n",
        "**2)** Taking average frequency across time from STFT features."
      ]
    },
    {
      "cell_type": "code",
      "metadata": {
        "colab": {
          "base_uri": "https://localhost:8080/"
        },
        "id": "8Kn3I4iRWY6f",
        "outputId": "e11d7513-4fbb-4db0-8a7b-07b475cd6e0c"
      },
      "source": [
        "#For testing Librosa stft for a single audio\n",
        "audio_path = '/content/free-spoken-digit-dataset/recordings/2_lucas_3.wav'\n",
        "x , sr = librosa.load(audio_path)\n",
        "print(type(x), type(sr))"
      ],
      "execution_count": null,
      "outputs": [
        {
          "output_type": "stream",
          "name": "stdout",
          "text": [
            "<class 'numpy.ndarray'> <class 'int'>\n"
          ]
        }
      ]
    },
    {
      "cell_type": "code",
      "metadata": {
        "colab": {
          "base_uri": "https://localhost:8080/",
          "height": 352
        },
        "id": "CXvNbv7cWbUP",
        "outputId": "85226879-2158-46de-c04d-fed474c87462"
      },
      "source": [
        "#For testing Librosa stft for a single audio and visualising the graph\n",
        "X = librosa.stft(x)\n",
        "Xdb = librosa.amplitude_to_db(abs(X))\n",
        "Xdb.shape\n",
        "plt.figure(figsize=(14, 5))\n",
        "# librosa.display.specshow(Xdb, sr=sr, x_axis='time', y_axis='hz') \n",
        "#If to pring log of frequencies  \n",
        "librosa.display.specshow(Xdb, sr=sr, x_axis='time', y_axis='log')\n",
        "plt.colorbar()"
      ],
      "execution_count": null,
      "outputs": [
        {
          "output_type": "execute_result",
          "data": {
            "text/plain": [
              "<matplotlib.colorbar.Colorbar at 0x7f61e6d22d90>"
            ]
          },
          "metadata": {},
          "execution_count": 4
        },
        {
          "output_type": "display_data",
          "data": {
            "image/png": "[encoded data removed]",
            "text/plain": [
              "<Figure size 1008x360 with 2 Axes>"
            ]
          },
          "metadata": {
            "needs_background": "light"
          }
        }
      ]
    },
    {
      "cell_type": "code",
      "metadata": {
        "id": "4JwGMCBgWbt1"
      },
      "source": [
        "data_dir='/content/free-spoken-digit-dataset/recordings'\n",
        "filenames=[]\n",
        "for i in os.listdir(data_dir):\n",
        "    filenames.append(i)\n",
        "rn.shuffle(filenames)"
      ],
      "execution_count": null,
      "outputs": []
    },
    {
      "cell_type": "markdown",
      "metadata": {
        "id": "nLtrEDiaYM8w"
      },
      "source": [
        "#**Training set, Testing set and Labels**\n",
        "\n",
        "**(1) X will contain the STFT features of each audio sample, where Y will contain the target audio class label.**\n",
        "\n",
        "**(2) Split the dataset (75% training and 25% testing) into training and testing sets with STFT audio features as input, audio class as target label**"
      ]
    },
    {
      "cell_type": "code",
      "metadata": {
        "id": "bXnDZxvyWdKC"
      },
      "source": [
        "test_speaker='theo'\n",
        "train_x=[]\n",
        "train_y=[]\n",
        "test_x=[]\n",
        "test_y=[]\n",
        "pad2d= lambda a, i: a[:,0:i] if a.shape[1]>i else np.hstack((a, np.zeros((a.shape[0],i-a.shape[1]))))\n",
        "for i in range(len(filenames)):\n",
        "    struct=filenames[i].split('_')\n",
        "    digit=struct[0]\n",
        "    speaker=struct[1]\n",
        "    wav,sr=librosa.load(os.path.join(data_dir,filenames[i]))\n",
        "    x=librosa.feature.mfcc(wav)\n",
        "    padded_x=pad2d(x,40)\n",
        "    if speaker==test_speaker:\n",
        "        test_x.append(padded_x.flatten())\n",
        "        test_y.append(int(digit))\n",
        "    else:\n",
        "        train_x.append(padded_x.flatten())\n",
        "        train_y.append(int(digit))"
      ],
      "execution_count": null,
      "outputs": []
    },
    {
      "cell_type": "code",
      "metadata": {
        "id": "A1X7858RWemm"
      },
      "source": [
        "train_x=np.array(train_x)\n",
        "test_x=np.array(test_x)\n",
        "train_ex=np.expand_dims(train_x,-1)\n",
        "test_ex=np.expand_dims(test_x,-1)\n",
        "train_ex=np.reshape(train_ex,(2500,800))\n",
        "test_ex=np.reshape(test_ex,(500,800))\n",
        "train_y=np.array(train_y)"
      ],
      "execution_count": null,
      "outputs": []
    },
    {
      "cell_type": "code",
      "metadata": {
        "colab": {
          "base_uri": "https://localhost:8080/"
        },
        "id": "rF836iYFWf3x",
        "outputId": "34c3880d-c07c-4aad-c8cd-a773323ac9cb"
      },
      "source": [
        "train_ex.shape"
      ],
      "execution_count": null,
      "outputs": [
        {
          "output_type": "execute_result",
          "data": {
            "text/plain": [
              "(2500, 800)"
            ]
          },
          "metadata": {},
          "execution_count": 13
        }
      ]
    },
    {
      "cell_type": "markdown",
      "metadata": {
        "id": "6dMMIi7DdugN"
      },
      "source": [
        "## **AdaBoost**"
      ]
    },
    {
      "cell_type": "code",
      "metadata": {
        "colab": {
          "base_uri": "https://localhost:8080/"
        },
        "id": "9SnwzTnxXGgZ",
        "outputId": "a7581bd8-5cc1-4457-df38-703b05e7ddaa"
      },
      "source": [
        "from sklearn.ensemble import AdaBoostClassifier\n",
        "model=AdaBoostClassifier(n_estimators=500,random_state=0)\n",
        "model.fit(train_ex,train_y)\n",
        "print(\"Score for Adaboost\")\n",
        "model.score(test_ex,test_y)"
      ],
      "execution_count": null,
      "outputs": [
        {
          "output_type": "stream",
          "name": "stdout",
          "text": [
            "Score for Adaboost\n"
          ]
        },
        {
          "output_type": "execute_result",
          "data": {
            "text/plain": [
              "0.504"
            ]
          },
          "metadata": {},
          "execution_count": 17
        }
      ]
    },
    {
      "cell_type": "markdown",
      "metadata": {
        "id": "I6maPeLidyBc"
      },
      "source": [
        "## **GradientBoost**"
      ]
    },
    {
      "cell_type": "code",
      "metadata": {
        "colab": {
          "base_uri": "https://localhost:8080/"
        },
        "id": "vuiVyygbXIoH",
        "outputId": "560556c7-31ea-4b81-f0c9-9f2390a34175"
      },
      "source": [
        "from sklearn.ensemble import GradientBoostingClassifier\n",
        "model=GradientBoostingClassifier(n_estimators=100,learning_rate=1.0,random_state=0, max_depth=1)\n",
        "model.fit(train_ex,train_y)\n",
        "print(\"Score for GradientBoost\")\n",
        "model.score(test_ex,test_y)"
      ],
      "execution_count": null,
      "outputs": [
        {
          "output_type": "stream",
          "name": "stdout",
          "text": [
            "Score for GradientBoost\n"
          ]
        },
        {
          "output_type": "execute_result",
          "data": {
            "text/plain": [
              "0.52"
            ]
          },
          "metadata": {},
          "execution_count": 15
        }
      ]
    }
  ]
}