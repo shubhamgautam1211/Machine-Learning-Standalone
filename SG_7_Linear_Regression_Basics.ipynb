{
  "nbformat": 4,
  "nbformat_minor": 0,
  "metadata": {
    "kernelspec": {
      "display_name": "Python 3",
      "language": "python",
      "name": "python3"
    },
    "language_info": {
      "codemirror_mode": {
        "name": "ipython",
        "version": 3
      },
      "file_extension": ".py",
      "mimetype": "text/x-python",
      "name": "python",
      "nbconvert_exporter": "python",
      "pygments_lexer": "ipython3",
      "version": "3.7.3"
    },
    "toc": {
      "base_numbering": 1,
      "nav_menu": {},
      "number_sections": true,
      "sideBar": true,
      "skip_h1_title": false,
      "title_cell": "Table of Contents",
      "title_sidebar": "Contents",
      "toc_cell": false,
      "toc_position": {},
      "toc_section_display": true,
      "toc_window_display": false
    },
    "colab": {
      "name": "SG-7_Linear Regression Basics.ipynb",
      "provenance": [],
      "collapsed_sections": [],
      "include_colab_link": true
    }
  },
  "cells": [
    {
      "cell_type": "markdown",
      "metadata": {
        "id": "view-in-github",
        "colab_type": "text"
      },
      "source": [
        "<a href=\"https://colab.research.google.com/github/shubhamgautam1211/Machine-Learning-Standalone/blob/main/SG_7_Linear_Regression_Basics.ipynb\" target=\"_parent\"><img src=\"https://colab.research.google.com/assets/colab-badge.svg\" alt=\"Open In Colab\"/></a>"
      ]
    },
    {
      "cell_type": "markdown",
      "source": [
        "# **Linear Regression Basics**\n"
      ],
      "metadata": {
        "id": "qEmkp1aLnaW5"
      }
    },
    {
      "cell_type": "code",
      "metadata": {
        "colab": {
          "base_uri": "https://localhost:8080/"
        },
        "id": "ZZpHUfk6b4PL",
        "outputId": "c4affe1a-a795-4367-8bda-5df2e0829607"
      },
      "source": [
        "from google.colab import drive\n",
        "drive.mount('/content/drive')"
      ],
      "execution_count": null,
      "outputs": [
        {
          "output_type": "stream",
          "name": "stdout",
          "text": [
            "Mounted at /content/drive\n"
          ]
        }
      ]
    },
    {
      "cell_type": "code",
      "metadata": {
        "id": "UeoXHz6GYHk-"
      },
      "source": [
        "import numpy as np\n",
        "import matplotlib.pyplot as plt\n",
        "import pandas as pd"
      ],
      "execution_count": null,
      "outputs": []
    },
    {
      "cell_type": "code",
      "metadata": {
        "colab": {
          "base_uri": "https://localhost:8080/",
          "height": 141
        },
        "id": "nUMkAHV3YHk_",
        "outputId": "60a30108-587d-45f1-d530-41f851e74a7c"
      },
      "source": [
        "# Read the data from provided dir\n",
        "data = pd.read_csv(\"/content/drive/MyDrive/simple_linear_data.csv\")\n",
        "data.head(3)"
      ],
      "execution_count": null,
      "outputs": [
        {
          "output_type": "execute_result",
          "data": {
            "text/html": [
              "<div>\n",
              "<style scoped>\n",
              "    .dataframe tbody tr th:only-of-type {\n",
              "        vertical-align: middle;\n",
              "    }\n",
              "\n",
              "    .dataframe tbody tr th {\n",
              "        vertical-align: top;\n",
              "    }\n",
              "\n",
              "    .dataframe thead th {\n",
              "        text-align: right;\n",
              "    }\n",
              "</style>\n",
              "<table border=\"1\" class=\"dataframe\">\n",
              "  <thead>\n",
              "    <tr style=\"text-align: right;\">\n",
              "      <th></th>\n",
              "      <th>G2</th>\n",
              "      <th>G3</th>\n",
              "    </tr>\n",
              "  </thead>\n",
              "  <tbody>\n",
              "    <tr>\n",
              "      <th>0</th>\n",
              "      <td>30</td>\n",
              "      <td>30</td>\n",
              "    </tr>\n",
              "    <tr>\n",
              "      <th>1</th>\n",
              "      <td>25</td>\n",
              "      <td>30</td>\n",
              "    </tr>\n",
              "    <tr>\n",
              "      <th>2</th>\n",
              "      <td>40</td>\n",
              "      <td>50</td>\n",
              "    </tr>\n",
              "  </tbody>\n",
              "</table>\n",
              "</div>"
            ],
            "text/plain": [
              "   G2  G3\n",
              "0  30  30\n",
              "1  25  30\n",
              "2  40  50"
            ]
          },
          "metadata": {},
          "execution_count": 3
        }
      ]
    },
    {
      "cell_type": "code",
      "metadata": {
        "colab": {
          "base_uri": "https://localhost:8080/",
          "height": 111
        },
        "id": "TBzPEEr2YHk_",
        "outputId": "e67cbff1-5ce7-4e5e-eec7-fc04dfbe33ad"
      },
      "source": [
        "# Add column which has all 1s\n",
        "# The idea is that weight corresponding to this column is equal to intercept\n",
        "# This way it is efficient and easier to handle the bias/intercept term\n",
        "\n",
        "data.insert(0,'Ones',1)\n",
        "data.head(2)"
      ],
      "execution_count": null,
      "outputs": [
        {
          "output_type": "execute_result",
          "data": {
            "text/html": [
              "<div>\n",
              "<style scoped>\n",
              "    .dataframe tbody tr th:only-of-type {\n",
              "        vertical-align: middle;\n",
              "    }\n",
              "\n",
              "    .dataframe tbody tr th {\n",
              "        vertical-align: top;\n",
              "    }\n",
              "\n",
              "    .dataframe thead th {\n",
              "        text-align: right;\n",
              "    }\n",
              "</style>\n",
              "<table border=\"1\" class=\"dataframe\">\n",
              "  <thead>\n",
              "    <tr style=\"text-align: right;\">\n",
              "      <th></th>\n",
              "      <th>Ones</th>\n",
              "      <th>G2</th>\n",
              "      <th>G3</th>\n",
              "    </tr>\n",
              "  </thead>\n",
              "  <tbody>\n",
              "    <tr>\n",
              "      <th>0</th>\n",
              "      <td>1</td>\n",
              "      <td>30</td>\n",
              "      <td>30</td>\n",
              "    </tr>\n",
              "    <tr>\n",
              "      <th>1</th>\n",
              "      <td>1</td>\n",
              "      <td>25</td>\n",
              "      <td>30</td>\n",
              "    </tr>\n",
              "  </tbody>\n",
              "</table>\n",
              "</div>"
            ],
            "text/plain": [
              "   Ones  G2  G3\n",
              "0     1  30  30\n",
              "1     1  25  30"
            ]
          },
          "metadata": {},
          "execution_count": 4
        }
      ]
    },
    {
      "cell_type": "code",
      "metadata": {
        "colab": {
          "base_uri": "https://localhost:8080/"
        },
        "id": "uZfz9fIzYHk_",
        "outputId": "ffb6b4d6-27e4-4af5-99f7-864d13b347af"
      },
      "source": [
        "# Print the dataframe rows\n",
        "\n",
        "print(data.iloc[40:56])"
      ],
      "execution_count": null,
      "outputs": [
        {
          "output_type": "stream",
          "name": "stdout",
          "text": [
            "    Ones  G2   G3\n",
            "40     1  50   55\n",
            "41     1  60   60\n",
            "42     1  90   90\n",
            "43     1  40   55\n",
            "44     1  50   45\n",
            "45     1  40   30\n",
            "46     1  60   55\n",
            "47     1  95  100\n",
            "48     1  75   70\n",
            "49     1  35   35\n",
            "50     1  65   65\n",
            "51     1  65   65\n",
            "52     1  55   50\n",
            "53     1  50   55\n",
            "54     1  65   65\n",
            "55     1  45   50\n"
          ]
        }
      ]
    },
    {
      "cell_type": "code",
      "metadata": {
        "id": "5dr0zWErYHlA"
      },
      "source": [
        "# Define X (input features) and y (output feature) \n",
        "X = data. values[:,0:-1]\n",
        "#X = data.iloc[:,[0,1]]   #Also possible using iloc to get rows,columns\n",
        "Y = data. values[:,-1]\n"
      ],
      "execution_count": null,
      "outputs": []
    },
    {
      "cell_type": "code",
      "metadata": {
        "colab": {
          "base_uri": "https://localhost:8080/"
        },
        "id": "8HU2JtE6YHlA",
        "outputId": "240736ee-2e4c-49f2-da58-1ef41108280f"
      },
      "source": [
        "X_shape = X.shape\n",
        "X_type  = type(X)\n",
        "y_shape = Y.reshape(395,1).shape\n",
        "y_type  = type(Y)\n",
        "print(f'X: Type-{X_type}, Shape-{X_shape}')\n",
        "print(f'y: Type-{y_type}, Shape-{y_shape}')"
      ],
      "execution_count": null,
      "outputs": [
        {
          "output_type": "stream",
          "name": "stdout",
          "text": [
            "X: Type-<class 'numpy.ndarray'>, Shape-(395, 2)\n",
            "y: Type-<class 'numpy.ndarray'>, Shape-(395, 1)\n"
          ]
        }
      ]
    },
    {
      "cell_type": "markdown",
      "metadata": {
        "id": "pvq0sL07YHlB"
      },
      "source": [
        "Let us visualize the relationship between X and y"
      ]
    },
    {
      "cell_type": "code",
      "metadata": {
        "colab": {
          "base_uri": "https://localhost:8080/",
          "height": 295
        },
        "id": "2Fd7PiE0YHlB",
        "outputId": "823790b7-78e8-4a4e-b158-5428c00d018c"
      },
      "source": [
        "# DO NOT EDIT THIS CODE CELL\n",
        "plt.scatter(X[:,1],Y)\n",
        "plt.title('Relation between second year grades and third year grades')\n",
        "plt.xlabel('G2 (X - Second year grades)')\n",
        "plt.ylabel('G3 (Y - Third year grades)')\n",
        "plt.show()"
      ],
      "execution_count": null,
      "outputs": [
        {
          "output_type": "display_data",
          "data": {
            "image/png": "[encoded data removed]",
            "text/plain": [
              "<Figure size 432x288 with 1 Axes>"
            ]
          },
          "metadata": {
            "needs_background": "light"
          }
        }
      ]
    },
    {
      "cell_type": "markdown",
      "metadata": {
        "id": "SLCh_Zy4YHlB"
      },
      "source": [
        "##### Let us start implementing linear regression from scratch. Just follow code cells, see hints if required."
      ]
    },
    {
      "cell_type": "code",
      "metadata": {
        "id": "_8v39ffgYHlC"
      },
      "source": [
        "def predict(X, weights):\n",
        "    ### START CODE HERE ###\n",
        "    y_pred = np.dot(X,weights)\n",
        "    ### END CODE HERE ###\n",
        "    \n",
        "    assert (y_pred.shape==(X.shape[0],)), 'Wrong implementation of predict function. Check carefully'\n",
        "    \n",
        "    return y_pred"
      ],
      "execution_count": null,
      "outputs": []
    },
    {
      "cell_type": "code",
      "metadata": {
        "id": "ShwcR7ogYHlC"
      },
      "source": [
        "def mean_squared_error(y_true, y_pred) : \n",
        "    ### START CODE HERE ###\n",
        "    loss = np.mean((y_true-y_pred)**2)/2\n",
        "    ### END CODE HERE ###\n",
        "    \n",
        "    return loss"
      ],
      "execution_count": null,
      "outputs": []
    },
    {
      "cell_type": "code",
      "metadata": {
        "id": "BeTT4VjQYHlC"
      },
      "source": [
        "def gradient(X, y_true, y_pred,weights):\n",
        "    # Initialize the gradient vector for w0 (intercept/bias) and w1 respectively\n",
        "    grad = np.zeros(2,)\n",
        "    \n",
        "    ### START CODE HERE ###\n",
        "    \n",
        "    grad[0] = np.mean(y_pred-y_true)\n",
        "    grad[1] = np.mean((y_pred-y_true)*X[:,1])\n",
        "    \n",
        "    ### END CODE HERE ###\n",
        "    \n",
        "    return grad"
      ],
      "execution_count": null,
      "outputs": []
    },
    {
      "cell_type": "code",
      "metadata": {
        "id": "m0Cu1SZHYHlC"
      },
      "source": [
        "def gradient_descent(X, y, alpha=0.0001, max_iterations=100):\n",
        "    # Initialise weights vector of random values of size (2,1)\n",
        "    weights = np.random.rand(2)\n",
        "    # Initialize a list to record all the losses \n",
        "    losses  = []\n",
        "  \n",
        "    ### START CODE HERE ###\n",
        "    for iter in range(max_iterations):\n",
        "        y_pred=predict(X,weights)\n",
        "        loss=mean_squared_error(Y,y_pred)\n",
        "        losses.append(loss)\n",
        "        grads=gradient(X,Y,y_pred,weights)\n",
        "        weights[0]=weights[0]-alpha*grads[0]\n",
        "        weights[1]=weights[1]-alpha*grads[1]\n",
        "    print('weights[0]:',weights[0])\n",
        "    print('weights[1]:',weights[1])\n",
        "    ### END CODE HERE ###\n",
        "    \n",
        "    return weights, losses"
      ],
      "execution_count": null,
      "outputs": []
    },
    {
      "cell_type": "markdown",
      "metadata": {
        "id": "shdSJ7w1YHlD"
      },
      "source": [
        "##### Congratulations! You have implemented linear regression from scratch. Let's see this in action."
      ]
    },
    {
      "cell_type": "code",
      "metadata": {
        "id": "R5rd9mB6YHlD",
        "colab": {
          "base_uri": "https://localhost:8080/"
        },
        "outputId": "df44fd81-437a-4ea9-c4e9-de1b0b83eebd"
      },
      "source": [
        "# Perform gradient descent\n",
        "optimal_weights, losses = gradient_descent(X,Y,0.0001,100)"
      ],
      "execution_count": null,
      "outputs": [
        {
          "output_type": "stream",
          "name": "stdout",
          "text": [
            "weights[0]: 0.3808875546296515\n",
            "weights[1]: 0.9800142511980504\n"
          ]
        }
      ]
    },
    {
      "cell_type": "code",
      "metadata": {
        "id": "-NMs5vJRYHlD",
        "colab": {
          "base_uri": "https://localhost:8080/"
        },
        "outputId": "bf58815e-32e3-49bc-80cb-a39ee94028ad"
      },
      "source": [
        "# DO NOT CHANGE THE FOLLOWING CODE CELLS\n",
        "# Print final loss\n",
        "print(\"Mean squared error:\", losses[-1])"
      ],
      "execution_count": null,
      "outputs": [
        {
          "output_type": "stream",
          "name": "stdout",
          "text": [
            "Mean squared error: 50.37794874323334\n"
          ]
        }
      ]
    },
    {
      "cell_type": "code",
      "metadata": {
        "id": "rgTu0mV8YHlE",
        "colab": {
          "base_uri": "https://localhost:8080/",
          "height": 295
        },
        "outputId": "4fd35e42-11c1-46af-b112-02cdfe06d9b1"
      },
      "source": [
        "# Plot the loss curve\n",
        "plt.plot([i for i in range(len(losses))], losses)\n",
        "plt.title(\"Loss curve\")\n",
        "plt.xlabel(\"Iteration num\")\n",
        "plt.ylabel(\"Loss\")\n",
        "plt.show()"
      ],
      "execution_count": null,
      "outputs": [
        {
          "output_type": "display_data",
          "data": {
            "image/png": "[encoded data removed]",
            "text/plain": [
              "<Figure size 432x288 with 1 Axes>"
            ]
          },
          "metadata": {
            "needs_background": "light"
          }
        }
      ]
    },
    {
      "cell_type": "code",
      "metadata": {
        "id": "t0GLKa-oYHlE",
        "colab": {
          "base_uri": "https://localhost:8080/"
        },
        "outputId": "97913bd9-8a9a-45b8-e76a-d4ebae644e00"
      },
      "source": [
        "# Make predictions using trained weights\n",
        "y_pred = predict(X, optimal_weights)\n",
        "print(y_pred)"
      ],
      "execution_count": null,
      "outputs": [
        {
          "output_type": "stream",
          "name": "stdout",
          "text": [
            "[29.78131509 24.88124383 39.5814576  68.98188514 49.38160011 73.88195639\n",
            " 59.18174263 24.88124383 88.58217016 73.88195639 39.5814576  59.18174263\n",
            " 68.98188514 49.38160011 78.78202765 68.98188514 68.98188514 49.38160011\n",
            " 24.88124383 49.38160011 68.98188514 73.88195639 73.88195639 64.08181388\n",
            " 44.48152886 44.48152886 59.18174263 78.78202765 54.28167137 59.18174263\n",
            " 54.28167137 78.78202765 78.78202765 49.38160011 68.98188514 34.68138635\n",
            " 78.78202765 78.78202765 59.18174263 64.08181388 49.38160011 59.18174263\n",
            " 88.58217016 39.5814576  49.38160011 39.5814576  59.18174263 93.48224142\n",
            " 73.88195639 34.68138635 64.08181388 64.08181388 54.28167137 49.38160011\n",
            " 64.08181388 44.48152886 73.88195639 73.88195639 49.38160011 78.78202765\n",
            " 54.28167137 39.5814576  49.38160011 44.48152886 49.38160011 73.88195639\n",
            " 64.08181388 34.68138635 44.48152886 78.78202765 73.88195639 49.38160011\n",
            " 29.78131509 59.18174263 59.18174263 44.48152886 54.28167137 54.28167137\n",
            " 39.5814576  24.88124383 59.18174263 49.38160011 29.78131509 73.88195639\n",
            " 49.38160011 44.48152886 34.68138635 68.98188514 49.38160011 29.78131509\n",
            " 34.68138635 83.68209891 29.78131509 49.38160011 64.08181388 49.38160011\n",
            " 73.88195639 44.48152886 68.98188514 44.48152886 34.68138635 83.68209891\n",
            " 64.08181388 29.78131509 88.58217016 54.28167137 39.5814576  88.58217016\n",
            " 64.08181388 73.88195639 93.48224142 49.38160011 64.08181388 93.48224142\n",
            " 44.48152886 73.88195639 64.08181388 68.98188514 34.68138635 64.08181388\n",
            " 73.88195639 68.98188514 64.08181388 54.28167137 34.68138635 64.08181388\n",
            " 49.38160011 39.5814576  19.98117258 88.58217016  0.38088755  0.38088755\n",
            " 64.08181388 54.28167137  0.38088755  0.38088755  0.38088755  0.38088755\n",
            " 59.18174263 78.78202765 44.48152886 44.48152886 54.28167137 68.98188514\n",
            "  0.38088755 54.28167137 34.68138635 54.28167137 29.78131509 44.48152886\n",
            " 24.88124383 64.08181388 49.38160011  0.38088755 54.28167137 39.5814576\n",
            " 59.18174263 39.5814576  73.88195639 59.18174263 29.78131509 44.48152886\n",
            "  0.38088755 49.38160011 39.5814576  54.28167137 49.38160011 73.88195639\n",
            " 34.68138635 68.98188514 24.88124383 73.88195639 54.28167137 34.68138635\n",
            " 54.28167137 44.48152886 64.08181388 24.88124383 39.5814576  49.38160011\n",
            " 39.5814576  64.08181388 83.68209891 44.48152886 64.08181388 59.18174263\n",
            " 59.18174263 73.88195639 34.68138635 44.48152886 59.18174263 39.5814576\n",
            " 39.5814576  44.48152886 68.98188514 73.88195639 73.88195639 44.48152886\n",
            " 88.58217016 44.48152886 78.78202765 49.38160011 44.48152886 29.78131509\n",
            " 49.38160011 44.48152886 34.68138635 59.18174263 44.48152886 34.68138635\n",
            " 39.5814576  59.18174263 64.08181388 34.68138635 49.38160011 73.88195639\n",
            " 29.78131509 29.78131509 34.68138635 49.38160011 29.78131509 24.88124383\n",
            " 78.78202765 64.08181388 64.08181388 39.5814576  73.88195639 54.28167137\n",
            " 39.5814576  49.38160011 64.08181388 54.28167137 44.48152886 64.08181388\n",
            " 34.68138635 44.48152886 64.08181388 59.18174263 54.28167137 34.68138635\n",
            " 59.18174263 54.28167137  0.38088755 59.18174263  0.38088755 88.58217016\n",
            " 59.18174263 39.5814576  24.88124383 73.88195639 39.5814576  49.38160011\n",
            " 44.48152886 44.48152886 59.18174263 44.48152886 59.18174263 54.28167137\n",
            " 68.98188514 44.48152886 88.58217016 39.5814576  59.18174263 44.48152886\n",
            " 49.38160011 83.68209891 44.48152886 49.38160011 44.48152886  0.38088755\n",
            " 44.48152886 68.98188514 54.28167137 68.98188514 49.38160011 59.18174263\n",
            " 44.48152886 44.48152886 39.5814576  54.28167137 39.5814576  44.48152886\n",
            " 59.18174263 44.48152886 44.48152886 49.38160011 88.58217016 59.18174263\n",
            " 68.98188514 64.08181388 54.28167137 73.88195639 59.18174263 88.58217016\n",
            " 64.08181388 59.18174263 44.48152886 39.5814576  64.08181388 73.88195639\n",
            " 49.38160011 54.28167137 59.18174263 83.68209891 68.98188514 59.18174263\n",
            " 88.58217016 44.48152886 59.18174263 49.38160011 44.48152886 59.18174263\n",
            " 54.28167137 49.38160011 64.08181388 54.28167137 39.5814576  49.38160011\n",
            " 54.28167137 54.28167137 64.08181388 44.48152886 54.28167137 68.98188514\n",
            " 73.88195639 59.18174263 73.88195639 49.38160011 44.48152886 68.98188514\n",
            " 39.5814576  68.98188514  0.38088755 39.5814576  44.48152886 73.88195639\n",
            " 64.08181388 39.5814576  73.88195639 49.38160011 59.18174263 49.38160011\n",
            " 73.88195639 39.5814576  49.38160011 64.08181388 73.88195639 49.38160011\n",
            " 73.88195639 64.08181388 34.68138635 64.08181388 34.68138635 39.5814576\n",
            " 54.28167137 44.48152886 64.08181388 59.18174263 49.38160011 78.78202765\n",
            " 64.08181388 59.18174263 54.28167137 73.88195639 54.28167137 49.38160011\n",
            " 64.08181388 29.78131509 49.38160011 59.18174263 34.68138635 59.18174263\n",
            " 54.28167137 24.88124383 88.58217016 39.5814576  68.98188514 44.48152886\n",
            " 73.88195639 49.38160011 68.98188514 29.78131509 54.28167137 24.88124383\n",
            " 24.88124383 44.48152886 24.88124383 24.88124383 44.48152886 24.88124383\n",
            " 44.48152886 78.78202765 39.5814576  59.18174263 44.48152886]\n"
          ]
        }
      ]
    },
    {
      "cell_type": "code",
      "metadata": {
        "id": "ONDYsub2YHlE",
        "colab": {
          "base_uri": "https://localhost:8080/",
          "height": 295
        },
        "outputId": "41ee1ec4-5419-464a-ad60-5ff1e6ceb2eb"
      },
      "source": [
        "# Visualize the results by plotting it\n",
        "plt.scatter(X[:,1], Y, c='r', label='Actual scores')\n",
        "plt.plot(X[:,1], y_pred, c='g', label='Fitted line | predictions')\n",
        "plt.legend()\n",
        "plt.title(\"Linear regression fitted line\")\n",
        "plt.xlabel(\"Second year grades\")\n",
        "plt.ylabel(\"Third year grades\")\n",
        "plt.show()"
      ],
      "execution_count": null,
      "outputs": [
        {
          "output_type": "display_data",
          "data": {
            "image/png": "[encoded data removed]",
            "text/plain": [
              "<Figure size 432x288 with 1 Axes>"
            ]
          },
          "metadata": {
            "needs_background": "light"
          }
        }
      ]
    }
  ]
}