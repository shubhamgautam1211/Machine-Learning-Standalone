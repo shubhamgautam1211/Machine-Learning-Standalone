{
  "nbformat": 4,
  "nbformat_minor": 0,
  "metadata": {
    "colab": {
      "name": "SG-25_Kmeans_HealthTweets.ipynb",
      "provenance": [],
      "collapsed_sections": [],
      "mount_file_id": "1EIs_Dk7jnUfsYtUErhC-cE_NsMHby_Pn",
      "authorship_tag": "ABX9TyOi43eliRbABkp5K4llP3og",
      "include_colab_link": true
    },
    "kernelspec": {
      "name": "python3",
      "display_name": "Python 3"
    },
    "language_info": {
      "name": "python"
    }
  },
  "cells": [
    {
      "cell_type": "markdown",
      "metadata": {
        "id": "view-in-github",
        "colab_type": "text"
      },
      "source": [
        "<a href=\"https://colab.research.google.com/github/shubhamgautam1211/Machine-Learning-Standalone/blob/main/SG_25_Kmeans_HealthTweets.ipynb\" target=\"_parent\"><img src=\"https://colab.research.google.com/assets/colab-badge.svg\" alt=\"Open In Colab\"/></a>"
      ]
    },
    {
      "cell_type": "markdown",
      "metadata": {
        "id": "P4hDDt6LqJy3"
      },
      "source": [
        "#**Text Clustering (cluster the similar tweets based on similarity of words within the sentences)**"
      ]
    },
    {
      "cell_type": "code",
      "metadata": {
        "id": "Q5XIuLMrLo1h"
      },
      "source": [
        "import pandas as pd\n",
        "import numpy as np\n",
        "import matplotlib.pyplot as plt\n",
        "import seaborn as sns\n",
        "import re\n",
        "import string\n",
        "import nltk\n",
        "from nltk.tokenize import word_tokenize\n",
        "from nltk.tag import pos_tag\n",
        "from nltk.stem import WordNetLemmatizer, PorterStemmer\n",
        "from sklearn.feature_extraction.text import TfidfVectorizer\n",
        "from sklearn.cluster import KMeans\n",
        "from sklearn.cluster import DBSCAN\n",
        "from sklearn.decomposition import PCA\n",
        "from sklearn.metrics import silhouette_score\n",
        "from mpl_toolkits.mplot3d import Axes3D"
      ],
      "execution_count": null,
      "outputs": []
    },
    {
      "cell_type": "code",
      "metadata": {
        "colab": {
          "base_uri": "https://localhost:8080/"
        },
        "id": "-yVz-ls69382",
        "outputId": "e1f52429-a0dd-45dc-bb80-dd760b54e529"
      },
      "source": [
        "nltk.download('punkt')\n",
        "lemmatizer = WordNetLemmatizer()\n",
        "nltk.download('wordnet')"
      ],
      "execution_count": null,
      "outputs": [
        {
          "output_type": "stream",
          "name": "stdout",
          "text": [
            "[nltk_data] Downloading package punkt to /root/nltk_data...\n",
            "[nltk_data]   Package punkt is already up-to-date!\n",
            "[nltk_data] Downloading package wordnet to /root/nltk_data...\n",
            "[nltk_data]   Package wordnet is already up-to-date!\n"
          ]
        },
        {
          "output_type": "execute_result",
          "data": {
            "text/plain": [
              "True"
            ]
          },
          "metadata": {},
          "execution_count": 58
        }
      ]
    },
    {
      "cell_type": "markdown",
      "metadata": {
        "id": "xl7tTyG0vI0f"
      },
      "source": [
        "Open the tweets file and extract the content line by line and save it in a list"
      ]
    },
    {
      "cell_type": "code",
      "metadata": {
        "id": "7bi_sBnXw3WK"
      },
      "source": [
        "with open('/content/drive/MyDrive/Health-Tweets/bbchealth.txt') as file:\n",
        "    contents = file.readlines()\n",
        "\n",
        "regex = re.compile(r'(?P<tweet_id>.*)\\|(?P<date>.*)\\|(?P<news>.*)\\s?(?P<link>http://.*)')"
      ],
      "execution_count": null,
      "outputs": []
    },
    {
      "cell_type": "code",
      "metadata": {
        "id": "cVsxVj_iqIzW"
      },
      "source": [
        "#with open('/content/drive/MyDrive/Health-Tweets/cnnhealth.txt') as file:\n",
        "    #contents2 = file.readlines()\n",
        "#regex2 = re.compile(r'(?P<tweet_id>.*)\\|(?P<date>.*)\\|(?P<news>.*)\\s?(?P<link>http://.*)')"
      ],
      "execution_count": null,
      "outputs": []
    },
    {
      "cell_type": "code",
      "metadata": {
        "colab": {
          "base_uri": "https://localhost:8080/"
        },
        "id": "_LoTGtgjvYuf",
        "outputId": "e4a33de0-d76a-4533-f778-be71ad20e9f3"
      },
      "source": [
        "re.search(regex, contents[2]).groupdict()"
      ],
      "execution_count": null,
      "outputs": [
        {
          "output_type": "execute_result",
          "data": {
            "text/plain": [
              "{'date': 'Wed Apr 08 23:30:18 +0000 2015',\n",
              " 'link': 'http://bbc.in/1ChTANp',\n",
              " 'news': \"Short people's 'heart risk greater' \",\n",
              " 'tweet_id': '585947807816650752'}"
            ]
          },
          "metadata": {},
          "execution_count": 61
        }
      ]
    },
    {
      "cell_type": "code",
      "metadata": {
        "id": "FPpOeN2gsD7d"
      },
      "source": [
        "#re.search(regex2, contents2[0]).groupdict()"
      ],
      "execution_count": null,
      "outputs": []
    },
    {
      "cell_type": "markdown",
      "metadata": {
        "id": "VDFclgOkvLrL"
      },
      "source": [
        "Extract data from the list of tweets. Hint: use regular expression for extracting tweet id, tweet \n",
        "date, news and link. Convert the extracted contents to dataframe"
      ]
    },
    {
      "cell_type": "code",
      "metadata": {
        "id": "8MLcY0qMvllF"
      },
      "source": [
        "df = pd.DataFrame(columns=['tweet_id', 'date', 'news', 'link'])\n",
        "#df2 = pd.DataFrame(columns=['tweet_id', 'date', 'news', 'link'])\n",
        "\n",
        "\n",
        "for line in contents:\n",
        "    line_data = re.search(regex, line).groupdict()\n",
        "    df = df.append(line_data, ignore_index=True)"
      ],
      "execution_count": null,
      "outputs": []
    },
    {
      "cell_type": "code",
      "metadata": {
        "colab": {
          "base_uri": "https://localhost:8080/",
          "height": 206
        },
        "id": "lsQBffWwwlK3",
        "outputId": "7d702a2c-c740-411f-c90a-39755d204310"
      },
      "source": [
        "df.head()"
      ],
      "execution_count": null,
      "outputs": [
        {
          "output_type": "execute_result",
          "data": {
            "text/html": [
              "<div>\n",
              "<style scoped>\n",
              "    .dataframe tbody tr th:only-of-type {\n",
              "        vertical-align: middle;\n",
              "    }\n",
              "\n",
              "    .dataframe tbody tr th {\n",
              "        vertical-align: top;\n",
              "    }\n",
              "\n",
              "    .dataframe thead th {\n",
              "        text-align: right;\n",
              "    }\n",
              "</style>\n",
              "<table border=\"1\" class=\"dataframe\">\n",
              "  <thead>\n",
              "    <tr style=\"text-align: right;\">\n",
              "      <th></th>\n",
              "      <th>tweet_id</th>\n",
              "      <th>date</th>\n",
              "      <th>news</th>\n",
              "      <th>link</th>\n",
              "    </tr>\n",
              "  </thead>\n",
              "  <tbody>\n",
              "    <tr>\n",
              "      <th>0</th>\n",
              "      <td>585978391360221184</td>\n",
              "      <td>Thu Apr 09 01:31:50 +0000 2015</td>\n",
              "      <td>Breast cancer risk test devised</td>\n",
              "      <td>http://bbc.in/1CimpJF</td>\n",
              "    </tr>\n",
              "    <tr>\n",
              "      <th>1</th>\n",
              "      <td>585947808772960257</td>\n",
              "      <td>Wed Apr 08 23:30:18 +0000 2015</td>\n",
              "      <td>GP workload harming care - BMA poll</td>\n",
              "      <td>http://bbc.in/1ChTBRv</td>\n",
              "    </tr>\n",
              "    <tr>\n",
              "      <th>2</th>\n",
              "      <td>585947807816650752</td>\n",
              "      <td>Wed Apr 08 23:30:18 +0000 2015</td>\n",
              "      <td>Short people's 'heart risk greater'</td>\n",
              "      <td>http://bbc.in/1ChTANp</td>\n",
              "    </tr>\n",
              "    <tr>\n",
              "      <th>3</th>\n",
              "      <td>585866060991078401</td>\n",
              "      <td>Wed Apr 08 18:05:28 +0000 2015</td>\n",
              "      <td>New approach against HIV 'promising'</td>\n",
              "      <td>http://bbc.in/1E6jAjt</td>\n",
              "    </tr>\n",
              "    <tr>\n",
              "      <th>4</th>\n",
              "      <td>585794106170839041</td>\n",
              "      <td>Wed Apr 08 13:19:33 +0000 2015</td>\n",
              "      <td>Coalition 'undermined NHS' - doctors</td>\n",
              "      <td>http://bbc.in/1CnLwK7</td>\n",
              "    </tr>\n",
              "  </tbody>\n",
              "</table>\n",
              "</div>"
            ],
            "text/plain": [
              "             tweet_id  ...                   link\n",
              "0  585978391360221184  ...  http://bbc.in/1CimpJF\n",
              "1  585947808772960257  ...  http://bbc.in/1ChTBRv\n",
              "2  585947807816650752  ...  http://bbc.in/1ChTANp\n",
              "3  585866060991078401  ...  http://bbc.in/1E6jAjt\n",
              "4  585794106170839041  ...  http://bbc.in/1CnLwK7\n",
              "\n",
              "[5 rows x 4 columns]"
            ]
          },
          "metadata": {},
          "execution_count": 64
        }
      ]
    },
    {
      "cell_type": "code",
      "metadata": {
        "id": "MV-I_E6ytKym"
      },
      "source": [
        "#df2.head()"
      ],
      "execution_count": null,
      "outputs": []
    },
    {
      "cell_type": "markdown",
      "metadata": {
        "id": "7w8n1bPsvTur"
      },
      "source": [
        "Remove the punctations and digits is any from the news \n",
        "columns. Then use from nltk.tokenize import word_tokenize to tokenize the sentences in news \n",
        "column]."
      ]
    },
    {
      "cell_type": "code",
      "metadata": {
        "id": "JBprrm9-yH5P"
      },
      "source": [
        "def normalize(line):\n",
        "    line = line.lower().strip()\n",
        "    line = ''.join([char for char in line if char not in string.punctuation+string.digits])\n",
        "    return word_tokenize(line)"
      ],
      "execution_count": null,
      "outputs": []
    },
    {
      "cell_type": "markdown",
      "metadata": {
        "id": "r3jAdZuTvQjv"
      },
      "source": [
        "Use from nltk.stem import WordNetLemmatizer. Apply this Lemmatizer to lemmatize the \n",
        "words"
      ]
    },
    {
      "cell_type": "code",
      "metadata": {
        "id": "Zlsb8Csw85IT"
      },
      "source": [
        "def lemmatize_sent(line_tokens):\n",
        "    return list(map(lemmatizer.lemmatize, line_tokens))"
      ],
      "execution_count": null,
      "outputs": []
    },
    {
      "cell_type": "code",
      "metadata": {
        "id": "DUBZ0bYx8-qb"
      },
      "source": [
        "df['news_tokens'] = df['news'].map(normalize)\n",
        "df['lemmatized_news_tokens'] = df['news_tokens'].map(lemmatize_sent)"
      ],
      "execution_count": null,
      "outputs": []
    },
    {
      "cell_type": "code",
      "metadata": {
        "id": "T-DFZXRe9Fhz"
      },
      "source": [
        "df.drop(labels=['link'], inplace=True, axis=1)\n",
        "df.drop(labels=['tweet_id'], inplace=True, axis=1)"
      ],
      "execution_count": null,
      "outputs": []
    },
    {
      "cell_type": "code",
      "metadata": {
        "id": "_yYkuU5uM44V",
        "colab": {
          "base_uri": "https://localhost:8080/",
          "height": 363
        },
        "outputId": "124bb9f7-3b00-4c99-859d-3bd19d479e48"
      },
      "source": [
        "df.head(10)"
      ],
      "execution_count": null,
      "outputs": [
        {
          "output_type": "execute_result",
          "data": {
            "text/html": [
              "<div>\n",
              "<style scoped>\n",
              "    .dataframe tbody tr th:only-of-type {\n",
              "        vertical-align: middle;\n",
              "    }\n",
              "\n",
              "    .dataframe tbody tr th {\n",
              "        vertical-align: top;\n",
              "    }\n",
              "\n",
              "    .dataframe thead th {\n",
              "        text-align: right;\n",
              "    }\n",
              "</style>\n",
              "<table border=\"1\" class=\"dataframe\">\n",
              "  <thead>\n",
              "    <tr style=\"text-align: right;\">\n",
              "      <th></th>\n",
              "      <th>date</th>\n",
              "      <th>news</th>\n",
              "      <th>news_tokens</th>\n",
              "      <th>lemmatized_news_tokens</th>\n",
              "    </tr>\n",
              "  </thead>\n",
              "  <tbody>\n",
              "    <tr>\n",
              "      <th>0</th>\n",
              "      <td>Thu Apr 09 01:31:50 +0000 2015</td>\n",
              "      <td>Breast cancer risk test devised</td>\n",
              "      <td>[breast, cancer, risk, test, devised]</td>\n",
              "      <td>[breast, cancer, risk, test, devised]</td>\n",
              "    </tr>\n",
              "    <tr>\n",
              "      <th>1</th>\n",
              "      <td>Wed Apr 08 23:30:18 +0000 2015</td>\n",
              "      <td>GP workload harming care - BMA poll</td>\n",
              "      <td>[gp, workload, harming, care, bma, poll]</td>\n",
              "      <td>[gp, workload, harming, care, bma, poll]</td>\n",
              "    </tr>\n",
              "    <tr>\n",
              "      <th>2</th>\n",
              "      <td>Wed Apr 08 23:30:18 +0000 2015</td>\n",
              "      <td>Short people's 'heart risk greater'</td>\n",
              "      <td>[short, peoples, heart, risk, greater]</td>\n",
              "      <td>[short, people, heart, risk, greater]</td>\n",
              "    </tr>\n",
              "    <tr>\n",
              "      <th>3</th>\n",
              "      <td>Wed Apr 08 18:05:28 +0000 2015</td>\n",
              "      <td>New approach against HIV 'promising'</td>\n",
              "      <td>[new, approach, against, hiv, promising]</td>\n",
              "      <td>[new, approach, against, hiv, promising]</td>\n",
              "    </tr>\n",
              "    <tr>\n",
              "      <th>4</th>\n",
              "      <td>Wed Apr 08 13:19:33 +0000 2015</td>\n",
              "      <td>Coalition 'undermined NHS' - doctors</td>\n",
              "      <td>[coalition, undermined, nhs, doctors]</td>\n",
              "      <td>[coalition, undermined, nh, doctor]</td>\n",
              "    </tr>\n",
              "    <tr>\n",
              "      <th>5</th>\n",
              "      <td>Wed Apr 08 09:18:39 +0000 2015</td>\n",
              "      <td>Review of case against NHS manager</td>\n",
              "      <td>[review, of, case, against, nhs, manager]</td>\n",
              "      <td>[review, of, case, against, nh, manager]</td>\n",
              "    </tr>\n",
              "    <tr>\n",
              "      <th>6</th>\n",
              "      <td>Wed Apr 08 09:18:39 +0000 2015</td>\n",
              "      <td>VIDEO: 'All day is empty, what am I going to d...</td>\n",
              "      <td>[video, all, day, is, empty, what, am, i, goin...</td>\n",
              "      <td>[video, all, day, is, empty, what, am, i, goin...</td>\n",
              "    </tr>\n",
              "    <tr>\n",
              "      <th>7</th>\n",
              "      <td>Wed Apr 08 07:11:58 +0000 2015</td>\n",
              "      <td>VIDEO: 'Overhaul needed' for end-of-life care</td>\n",
              "      <td>[video, overhaul, needed, for, endoflife, care]</td>\n",
              "      <td>[video, overhaul, needed, for, endoflife, care]</td>\n",
              "    </tr>\n",
              "    <tr>\n",
              "      <th>8</th>\n",
              "      <td>Wed Apr 08 01:51:00 +0000 2015</td>\n",
              "      <td>Care for dying 'needs overhaul'</td>\n",
              "      <td>[care, for, dying, needs, overhaul]</td>\n",
              "      <td>[care, for, dying, need, overhaul]</td>\n",
              "    </tr>\n",
              "    <tr>\n",
              "      <th>9</th>\n",
              "      <td>Tue Apr 07 13:41:42 +0000 2015</td>\n",
              "      <td>VIDEO: NHS: Labour and Tory key policies</td>\n",
              "      <td>[video, nhs, labour, and, tory, key, policies]</td>\n",
              "      <td>[video, nh, labour, and, tory, key, policy]</td>\n",
              "    </tr>\n",
              "  </tbody>\n",
              "</table>\n",
              "</div>"
            ],
            "text/plain": [
              "                             date  ...                             lemmatized_news_tokens\n",
              "0  Thu Apr 09 01:31:50 +0000 2015  ...              [breast, cancer, risk, test, devised]\n",
              "1  Wed Apr 08 23:30:18 +0000 2015  ...           [gp, workload, harming, care, bma, poll]\n",
              "2  Wed Apr 08 23:30:18 +0000 2015  ...              [short, people, heart, risk, greater]\n",
              "3  Wed Apr 08 18:05:28 +0000 2015  ...           [new, approach, against, hiv, promising]\n",
              "4  Wed Apr 08 13:19:33 +0000 2015  ...                [coalition, undermined, nh, doctor]\n",
              "5  Wed Apr 08 09:18:39 +0000 2015  ...           [review, of, case, against, nh, manager]\n",
              "6  Wed Apr 08 09:18:39 +0000 2015  ...  [video, all, day, is, empty, what, am, i, goin...\n",
              "7  Wed Apr 08 07:11:58 +0000 2015  ...    [video, overhaul, needed, for, endoflife, care]\n",
              "8  Wed Apr 08 01:51:00 +0000 2015  ...                 [care, for, dying, need, overhaul]\n",
              "9  Tue Apr 07 13:41:42 +0000 2015  ...        [video, nh, labour, and, tory, key, policy]\n",
              "\n",
              "[10 rows x 4 columns]"
            ]
          },
          "metadata": {},
          "execution_count": 70
        }
      ]
    },
    {
      "cell_type": "markdown",
      "metadata": {
        "id": "GYmSbMLCvY0L"
      },
      "source": [
        "Use TfidVectorizer (from sklearn.feature_extraction.text import TfidfVectorizer), to convert \n",
        "the words into vectors"
      ]
    },
    {
      "cell_type": "code",
      "metadata": {
        "id": "92HKPcyB_B14"
      },
      "source": [
        "tfidf = TfidfVectorizer()\n",
        "tfidf_matrix = tfidf.fit_transform(df['lemmatized_news_tokens'].map(lambda x: ' '.join(x)).tolist())"
      ],
      "execution_count": null,
      "outputs": []
    },
    {
      "cell_type": "code",
      "metadata": {
        "colab": {
          "base_uri": "https://localhost:8080/"
        },
        "id": "SI1RP0tb_r3x",
        "outputId": "dd80f631-9455-4c71-a5d2-9772f0ff931e"
      },
      "source": [
        "tfidf_matrix"
      ],
      "execution_count": null,
      "outputs": [
        {
          "output_type": "execute_result",
          "data": {
            "text/plain": [
              "<3929x3938 sparse matrix of type '<class 'numpy.float64'>'\n",
              "\twith 22121 stored elements in Compressed Sparse Row format>"
            ]
          },
          "metadata": {},
          "execution_count": 72
        }
      ]
    },
    {
      "cell_type": "markdown",
      "metadata": {
        "id": "e_159eqGvbRn"
      },
      "source": [
        "Now use kmeans algorithm to cluster these vectors of tweets"
      ]
    },
    {
      "cell_type": "code",
      "metadata": {
        "colab": {
          "base_uri": "https://localhost:8080/"
        },
        "id": "QZHgXT5t_k67",
        "outputId": "053953e4-5fbc-46fd-95be-846b2e46d826"
      },
      "source": [
        "kmeans = KMeans()\n",
        "kmeans.fit(tfidf_matrix)"
      ],
      "execution_count": null,
      "outputs": [
        {
          "output_type": "execute_result",
          "data": {
            "text/plain": [
              "KMeans()"
            ]
          },
          "metadata": {},
          "execution_count": 73
        }
      ]
    },
    {
      "cell_type": "markdown",
      "metadata": {
        "id": "gN9GUqDxveW7"
      },
      "source": [
        " use elbow method to check the appropriate number of clusters. Also you can use \n",
        "silhouette_score() to compare cluster quality for different k values. (vary k from 2 to 15)"
      ]
    },
    {
      "cell_type": "code",
      "metadata": {
        "colab": {
          "base_uri": "https://localhost:8080/",
          "height": 638
        },
        "id": "hwDt2coE_oJX",
        "outputId": "6643a277-190a-4251-9e18-a1883b6cdddb"
      },
      "source": [
        "x, y = [], []\n",
        "plt.figure(figsize=(10,10))\n",
        "for k in range(1, 16):\n",
        "    kmeans = KMeans(n_clusters=k)\n",
        "    kmeans.fit(tfidf_matrix)\n",
        "    x.append(k)\n",
        "    y.append(kmeans.inertia_)\n",
        "    \n",
        "plt.plot(x, y,color=\"red\")\n",
        "plt.xlabel(\"K Value\")\n",
        "plt.ylabel(\"WCSS\")\n",
        "plt.title(\"Elbow graph\")"
      ],
      "execution_count": null,
      "outputs": [
        {
          "output_type": "execute_result",
          "data": {
            "text/plain": [
              "Text(0.5, 1.0, 'Elbow graph')"
            ]
          },
          "metadata": {},
          "execution_count": 74
        },
        {
          "output_type": "display_data",
          "data": {
            "image/png": "[encoded data removed]",
            "text/plain": [
              "<Figure size 720x720 with 1 Axes>"
            ]
          },
          "metadata": {
            "needs_background": "light"
          }
        }
      ]
    },
    {
      "cell_type": "code",
      "metadata": {
        "colab": {
          "base_uri": "https://localhost:8080/"
        },
        "id": "GJauk2mY_9J_",
        "outputId": "3fb7c8ff-2555-49d1-ad1f-fb15cbae963f"
      },
      "source": [
        "for k in range(2, 16):\n",
        "    kmeans = KMeans(n_clusters=k).fit(tfidf_matrix)\n",
        "    sil_score = silhouette_score(tfidf_matrix, kmeans.labels_)\n",
        "    print('Number of clusters: {}, Silhoutte Score: {}'.format(k, sil_score))"
      ],
      "execution_count": null,
      "outputs": [
        {
          "output_type": "stream",
          "name": "stdout",
          "text": [
            "Number of clusters: 2, Silhoutte Score: 0.003774829794170699\n",
            "Number of clusters: 3, Silhoutte Score: 0.0055455459719364105\n",
            "Number of clusters: 4, Silhoutte Score: 0.007124145262229194\n",
            "Number of clusters: 5, Silhoutte Score: 0.007845815644367954\n",
            "Number of clusters: 6, Silhoutte Score: 0.009713286860119737\n",
            "Number of clusters: 7, Silhoutte Score: 0.01036656299581149\n",
            "Number of clusters: 8, Silhoutte Score: 0.011380446607439601\n",
            "Number of clusters: 9, Silhoutte Score: 0.01160459000183601\n",
            "Number of clusters: 10, Silhoutte Score: 0.013829875315800192\n",
            "Number of clusters: 11, Silhoutte Score: 0.014133670023678966\n",
            "Number of clusters: 12, Silhoutte Score: 0.013261212586195633\n",
            "Number of clusters: 13, Silhoutte Score: 0.01500668826937936\n",
            "Number of clusters: 14, Silhoutte Score: 0.015107302479974142\n",
            "Number of clusters: 15, Silhoutte Score: 0.015617918314945313\n"
          ]
        }
      ]
    }
  ]
}