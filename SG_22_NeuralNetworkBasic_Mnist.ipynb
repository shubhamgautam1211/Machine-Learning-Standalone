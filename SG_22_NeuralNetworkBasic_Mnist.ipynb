{
  "nbformat": 4,
  "nbformat_minor": 0,
  "metadata": {
    "colab": {
      "name": "SG-22_NeuralNetworkBasic_Mnist.ipynb",
      "provenance": [],
      "collapsed_sections": [],
      "include_colab_link": true
    },
    "kernelspec": {
      "name": "python3",
      "display_name": "Python 3"
    },
    "language_info": {
      "name": "python"
    }
  },
  "cells": [
    {
      "cell_type": "markdown",
      "metadata": {
        "id": "view-in-github",
        "colab_type": "text"
      },
      "source": [
        "<a href=\"https://colab.research.google.com/github/shubhamgautam1211/Machine-Learning-Standalone/blob/main/SG_22_NeuralNetworkBasic_Mnist.ipynb\" target=\"_parent\"><img src=\"https://colab.research.google.com/assets/colab-badge.svg\" alt=\"Open In Colab\"/></a>"
      ]
    },
    {
      "cell_type": "markdown",
      "metadata": {
        "id": "iuqDpX1ZgA_F"
      },
      "source": [
        "# **Neural Networks**"
      ]
    },
    {
      "cell_type": "code",
      "metadata": {
        "id": "iE41o-mgvKAD"
      },
      "source": [
        "import warnings\n",
        "warnings.filterwarnings('ignore')\n",
        "\n",
        "import numpy as np\n",
        "import matplotlib.pyplot as plt\n",
        "import keras\n",
        "from keras.datasets import mnist\n",
        "from keras.models import Sequential,model_from_json\n",
        "from keras.layers import Dense\n",
        "from keras.optimizers import rmsprop_v2\n",
        "import pylab as plt"
      ],
      "execution_count": null,
      "outputs": []
    },
    {
      "cell_type": "code",
      "metadata": {
        "id": "dfscAolfvhyz"
      },
      "source": [
        "batch_size = 128\n",
        "num_classes = 10\n",
        "epochs = 2"
      ],
      "execution_count": null,
      "outputs": []
    },
    {
      "cell_type": "code",
      "metadata": {
        "id": "zWMfhXTpvk1A",
        "colab": {
          "base_uri": "https://localhost:8080/"
        },
        "outputId": "1557ab3e-db8e-4a5b-e7e1-7fe877c54b4f"
      },
      "source": [
        "(x_train, y_train), (x_test, y_test) = mnist.load_data()"
      ],
      "execution_count": null,
      "outputs": [
        {
          "output_type": "stream",
          "name": "stdout",
          "text": [
            "Downloading data from https://storage.googleapis.com/tensorflow/tf-keras-datasets/mnist.npz\n",
            "11493376/11490434 [==============================] - 0s 0us/step\n",
            "11501568/11490434 [==============================] - 0s 0us/step\n"
          ]
        }
      ]
    },
    {
      "cell_type": "code",
      "metadata": {
        "colab": {
          "base_uri": "https://localhost:8080/"
        },
        "id": "GNqRtDJ7v217",
        "outputId": "74572277-fcab-41cb-941b-004a4de2689d"
      },
      "source": [
        "(x_train.shape, y_train.shape), (x_test.shape, y_test.shape)"
      ],
      "execution_count": null,
      "outputs": [
        {
          "output_type": "execute_result",
          "data": {
            "text/plain": [
              "(((60000, 28, 28), (60000,)), ((10000, 28, 28), (10000,)))"
            ]
          },
          "metadata": {},
          "execution_count": 4
        }
      ]
    },
    {
      "cell_type": "code",
      "metadata": {
        "colab": {
          "base_uri": "https://localhost:8080/",
          "height": 282
        },
        "id": "eRu7qD97wLDY",
        "outputId": "bcf24856-dd4b-438f-c7a1-3bdf0204d75a"
      },
      "source": [
        "plt.imshow(x_train[100],cmap = \"gray\")"
      ],
      "execution_count": null,
      "outputs": [
        {
          "output_type": "execute_result",
          "data": {
            "text/plain": [
              "<matplotlib.image.AxesImage at 0x7f86070cdf90>"
            ]
          },
          "metadata": {},
          "execution_count": 5
        },
        {
          "output_type": "display_data",
          "data": {
            "image/png": "[encoded data removed]",
            "text/plain": [
              "<Figure size 432x288 with 1 Axes>"
            ]
          },
          "metadata": {
            "needs_background": "light"
          }
        }
      ]
    },
    {
      "cell_type": "code",
      "metadata": {
        "colab": {
          "base_uri": "https://localhost:8080/"
        },
        "id": "tvfUI1hmwTN_",
        "outputId": "5bbf1dc6-1af6-4e0e-b6a0-38aef88c7fb7"
      },
      "source": [
        "y_train[100]"
      ],
      "execution_count": null,
      "outputs": [
        {
          "output_type": "execute_result",
          "data": {
            "text/plain": [
              "5"
            ]
          },
          "metadata": {},
          "execution_count": 6
        }
      ]
    },
    {
      "cell_type": "code",
      "metadata": {
        "id": "qajRNhRNwXE4"
      },
      "source": [
        "x_train = x_train.reshape(60000, 784)\n",
        "x_test = x_test.reshape(10000, 784)\n",
        "x_train = x_train.astype('float32')\n",
        "x_test = x_test.astype('float32')"
      ],
      "execution_count": null,
      "outputs": []
    },
    {
      "cell_type": "code",
      "metadata": {
        "id": "Z9FOgPQuwZLp"
      },
      "source": [
        "# Normalize to 0 to 1 range\n",
        "x_train /= 255\n",
        "x_test /= 255"
      ],
      "execution_count": null,
      "outputs": []
    },
    {
      "cell_type": "code",
      "metadata": {
        "colab": {
          "base_uri": "https://localhost:8080/"
        },
        "id": "FrjPBuYBwbBi",
        "outputId": "82b13dfd-ff77-4d46-c6ef-51d26af6820c"
      },
      "source": [
        "print(x_train.shape[0], 'train samples')\n",
        "print(x_test.shape[0], 'test samples')"
      ],
      "execution_count": null,
      "outputs": [
        {
          "output_type": "stream",
          "name": "stdout",
          "text": [
            "60000 train samples\n",
            "10000 test samples\n"
          ]
        }
      ]
    },
    {
      "cell_type": "code",
      "metadata": {
        "colab": {
          "base_uri": "https://localhost:8080/"
        },
        "id": "feYhK5FFwcjQ",
        "outputId": "219d7e11-106e-49e8-9e47-9d8e5688b880"
      },
      "source": [
        "y_train[0]"
      ],
      "execution_count": null,
      "outputs": [
        {
          "output_type": "execute_result",
          "data": {
            "text/plain": [
              "5"
            ]
          },
          "metadata": {},
          "execution_count": 10
        }
      ]
    },
    {
      "cell_type": "code",
      "metadata": {
        "id": "iYsx1Eb3wekp"
      },
      "source": [
        "# convert class vectors to binary class matrices\n",
        "y_train = keras.utils.np_utils.to_categorical(y_train, num_classes)\n",
        "y_test = keras.utils.np_utils.to_categorical(y_test, num_classes)"
      ],
      "execution_count": null,
      "outputs": []
    },
    {
      "cell_type": "code",
      "metadata": {
        "colab": {
          "base_uri": "https://localhost:8080/"
        },
        "id": "4omOio27wgqS",
        "outputId": "a35f1255-e12f-4258-9c34-3ed1f47c5a97"
      },
      "source": [
        "y_train[0]"
      ],
      "execution_count": null,
      "outputs": [
        {
          "output_type": "execute_result",
          "data": {
            "text/plain": [
              "array([0., 0., 0., 0., 0., 1., 0., 0., 0., 0.], dtype=float32)"
            ]
          },
          "metadata": {},
          "execution_count": 12
        }
      ]
    },
    {
      "cell_type": "code",
      "metadata": {
        "id": "EOJOrstXwkCR",
        "colab": {
          "base_uri": "https://localhost:8080/"
        },
        "outputId": "ca74832b-97ae-4133-df63-bd1af7e93541"
      },
      "source": [
        "first_layer_size = 32\n",
        "model = Sequential()\n",
        "model.add(Dense(first_layer_size, activation='sigmoid', input_shape=(784,)))\n",
        "model.add(Dense(32, activation='sigmoid'))\n",
        "model.add(Dense(32, activation='sigmoid'))\n",
        "model.add(Dense(num_classes, activation='softmax'))\n",
        "\n",
        "model.summary()"
      ],
      "execution_count": null,
      "outputs": [
        {
          "output_type": "stream",
          "name": "stdout",
          "text": [
            "Model: \"sequential\"\n",
            "_________________________________________________________________\n",
            "Layer (type)                 Output Shape              Param #   \n",
            "=================================================================\n",
            "dense (Dense)                (None, 32)                25120     \n",
            "_________________________________________________________________\n",
            "dense_1 (Dense)              (None, 32)                1056      \n",
            "_________________________________________________________________\n",
            "dense_2 (Dense)              (None, 32)                1056      \n",
            "_________________________________________________________________\n",
            "dense_3 (Dense)              (None, 10)                330       \n",
            "=================================================================\n",
            "Total params: 27,562\n",
            "Trainable params: 27,562\n",
            "Non-trainable params: 0\n",
            "_________________________________________________________________\n"
          ]
        }
      ]
    },
    {
      "cell_type": "code",
      "metadata": {
        "id": "mu6bTb2VwoCu"
      },
      "source": [
        "model.compile(loss='categorical_crossentropy',\n",
        "              optimizer=rmsprop_v2.RMSprop(),\n",
        "              metrics=['accuracy'])"
      ],
      "execution_count": null,
      "outputs": []
    },
    {
      "cell_type": "code",
      "metadata": {
        "colab": {
          "base_uri": "https://localhost:8080/"
        },
        "id": "SEIRQPrSwqHh",
        "outputId": "9fe390f8-f6a1-443b-f08c-ca19c3cd5ba3"
      },
      "source": [
        "# Write the Training input and output variables, size of the batch, number of epochs\n",
        "history = model.fit(x_train,y_train,\n",
        "                    batch_size=batch_size,\n",
        "                    epochs=10,\n",
        "                    verbose=1)"
      ],
      "execution_count": null,
      "outputs": [
        {
          "output_type": "stream",
          "name": "stdout",
          "text": [
            "Epoch 1/10\n",
            "469/469 [==============================] - 2s 2ms/step - loss: 1.6044 - accuracy: 0.5588\n",
            "Epoch 2/10\n",
            "469/469 [==============================] - 1s 2ms/step - loss: 0.6451 - accuracy: 0.8376\n",
            "Epoch 3/10\n",
            "469/469 [==============================] - 1s 2ms/step - loss: 0.3944 - accuracy: 0.8960\n",
            "Epoch 4/10\n",
            "469/469 [==============================] - 1s 2ms/step - loss: 0.2942 - accuracy: 0.9199\n",
            "Epoch 5/10\n",
            "469/469 [==============================] - 1s 2ms/step - loss: 0.2404 - accuracy: 0.9335\n",
            "Epoch 6/10\n",
            "469/469 [==============================] - 1s 2ms/step - loss: 0.2054 - accuracy: 0.9419\n",
            "Epoch 7/10\n",
            "469/469 [==============================] - 1s 2ms/step - loss: 0.1815 - accuracy: 0.9484\n",
            "Epoch 8/10\n",
            "469/469 [==============================] - 1s 2ms/step - loss: 0.1630 - accuracy: 0.9538\n",
            "Epoch 9/10\n",
            "469/469 [==============================] - 1s 2ms/step - loss: 0.1492 - accuracy: 0.9570\n",
            "Epoch 10/10\n",
            "469/469 [==============================] - 1s 2ms/step - loss: 0.1376 - accuracy: 0.9608\n"
          ]
        }
      ]
    },
    {
      "cell_type": "code",
      "metadata": {
        "colab": {
          "base_uri": "https://localhost:8080/"
        },
        "id": "W2H7FEFSwsPO",
        "outputId": "07e40117-8d5b-4c47-f488-3199b9982bbb"
      },
      "source": [
        "# Write the testing input and output variables\n",
        "score = model.evaluate(x_test, y_test, verbose=0)\n",
        "print('Test loss:', score[0])\n",
        "print('Test accuracy:', score[1])"
      ],
      "execution_count": null,
      "outputs": [
        {
          "output_type": "stream",
          "name": "stdout",
          "text": [
            "Test loss: 0.16172349452972412\n",
            "Test accuracy: 0.953499972820282\n"
          ]
        }
      ]
    },
    {
      "cell_type": "code",
      "metadata": {
        "id": "balXJaYuwyt7",
        "colab": {
          "base_uri": "https://localhost:8080/"
        },
        "outputId": "779aa9f6-9e16-4bfc-befe-7188e494f24a"
      },
      "source": [
        "# Write the index of the test sample to test\n",
        "prediction = model.predict(x_test[10:11])\n",
        "prediction = prediction[0]\n",
        "print('Prediction\\n',prediction)\n",
        "print('\\nThresholded output\\n',(prediction>0.5)*1)"
      ],
      "execution_count": null,
      "outputs": [
        {
          "output_type": "stream",
          "name": "stdout",
          "text": [
            "Prediction\n",
            " [9.9665773e-01 3.3817187e-06 1.0098398e-03 2.8326141e-04 2.6162758e-07\n",
            " 1.3537271e-03 3.1895463e-05 6.4192049e-04 1.1819122e-06 1.6868747e-05]\n",
            "\n",
            "Thresholded output\n",
            " [1 0 0 0 0 0 0 0 0 0]\n"
          ]
        }
      ]
    },
    {
      "cell_type": "code",
      "metadata": {
        "id": "cz4mwungw2or",
        "colab": {
          "base_uri": "https://localhost:8080/"
        },
        "outputId": "4f05c0c2-76ea-4105-9ef7-a32550084569"
      },
      "source": [
        "y_test[10:11]"
      ],
      "execution_count": null,
      "outputs": [
        {
          "output_type": "execute_result",
          "data": {
            "text/plain": [
              "array([[1., 0., 0., 0., 0., 0., 0., 0., 0., 0.]], dtype=float32)"
            ]
          },
          "metadata": {},
          "execution_count": 18
        }
      ]
    },
    {
      "cell_type": "code",
      "metadata": {
        "id": "cGHmAt6uw4UK",
        "colab": {
          "base_uri": "https://localhost:8080/",
          "height": 265
        },
        "outputId": "7882dfcb-a4f6-45ac-d38a-355f9f93ccd4"
      },
      "source": [
        "plt.imshow(x_test[10:11].reshape(28,28), cmap = \"gray\")\n",
        "plt.show()"
      ],
      "execution_count": null,
      "outputs": [
        {
          "output_type": "display_data",
          "data": {
            "image/png": "[encoded data removed]",
            "text/plain": [
              "<Figure size 432x288 with 1 Axes>"
            ]
          },
          "metadata": {
            "needs_background": "light"
          }
        }
      ]
    },
    {
      "cell_type": "markdown",
      "metadata": {
        "id": "b23KV5P-4V1M"
      },
      "source": [
        "##Task-1\n"
      ]
    },
    {
      "cell_type": "code",
      "metadata": {
        "id": "ZMmMf8g54Y0C"
      },
      "source": [
        "batch_size = 128\n",
        "num_classes = 10\n",
        "epochs = 10"
      ],
      "execution_count": null,
      "outputs": []
    },
    {
      "cell_type": "code",
      "metadata": {
        "id": "KdhoAxAk4n0U"
      },
      "source": [
        "(x_train, y_train), (x_test, y_test) = mnist.load_data()"
      ],
      "execution_count": null,
      "outputs": []
    },
    {
      "cell_type": "code",
      "metadata": {
        "colab": {
          "base_uri": "https://localhost:8080/"
        },
        "id": "CAFnsIo54qCj",
        "outputId": "d712c4e7-dadb-49f0-e245-a499155845d2"
      },
      "source": [
        "(x_train.shape, y_train.shape), (x_test.shape, y_test.shape)"
      ],
      "execution_count": null,
      "outputs": [
        {
          "output_type": "execute_result",
          "data": {
            "text/plain": [
              "(((60000, 28, 28), (60000,)), ((10000, 28, 28), (10000,)))"
            ]
          },
          "metadata": {},
          "execution_count": 22
        }
      ]
    },
    {
      "cell_type": "code",
      "metadata": {
        "id": "9fLWJrXc4tjL"
      },
      "source": [
        "x_train = x_train.reshape(60000, 784)\n",
        "x_test = x_test.reshape(10000, 784)\n",
        "x_train = x_train.astype('float32')\n",
        "x_test = x_test.astype('float32')"
      ],
      "execution_count": null,
      "outputs": []
    },
    {
      "cell_type": "code",
      "metadata": {
        "id": "xKomwIzK4vxT"
      },
      "source": [
        "# Normalize to 0 to 1 range\n",
        "x_train /= 255\n",
        "x_test /= 255"
      ],
      "execution_count": null,
      "outputs": []
    },
    {
      "cell_type": "code",
      "metadata": {
        "id": "opqX03cV4y17"
      },
      "source": [
        "# convert class vectors to binary class matrices\n",
        "y_train = keras.utils.np_utils.to_categorical(y_train, num_classes)\n",
        "y_test = keras.utils.np_utils.to_categorical(y_test, num_classes)"
      ],
      "execution_count": null,
      "outputs": []
    },
    {
      "cell_type": "code",
      "metadata": {
        "colab": {
          "base_uri": "https://localhost:8080/"
        },
        "id": "1oVhM97I41Gq",
        "outputId": "c52710b4-7b18-47a1-a6fd-2243004f3898"
      },
      "source": [
        "first_layer_size = 32\n",
        "model1 = Sequential()\n",
        "model1.add(Dense(first_layer_size, activation='sigmoid', input_shape=(784,)))\n",
        "\n",
        "# model1.add(Dense(4, activation='sigmoid'))\n",
        "# model1.add(Dense(32, activation='sigmoid'))\n",
        "# model1.add(Dense(128, activation='sigmoid'))\n",
        "# model1.add(Dense(512, activation='sigmoid'))\n",
        "model1.add(Dense(2056, activation='sigmoid'))\n",
        "\n",
        "model1.add(Dense(num_classes, activation='softmax'))\n",
        "\n",
        "model1.summary()"
      ],
      "execution_count": null,
      "outputs": [
        {
          "output_type": "stream",
          "name": "stdout",
          "text": [
            "Model: \"sequential_1\"\n",
            "_________________________________________________________________\n",
            "Layer (type)                 Output Shape              Param #   \n",
            "=================================================================\n",
            "dense_4 (Dense)              (None, 32)                25120     \n",
            "_________________________________________________________________\n",
            "dense_5 (Dense)              (None, 2056)              67848     \n",
            "_________________________________________________________________\n",
            "dense_6 (Dense)              (None, 10)                20570     \n",
            "=================================================================\n",
            "Total params: 113,538\n",
            "Trainable params: 113,538\n",
            "Non-trainable params: 0\n",
            "_________________________________________________________________\n"
          ]
        }
      ]
    },
    {
      "cell_type": "code",
      "metadata": {
        "id": "mUcv-plA44Bj"
      },
      "source": [
        "model1.compile(loss='categorical_crossentropy',\n",
        "              optimizer=rmsprop_v2.RMSprop(),\n",
        "              metrics=['accuracy'])"
      ],
      "execution_count": null,
      "outputs": []
    },
    {
      "cell_type": "code",
      "metadata": {
        "colab": {
          "base_uri": "https://localhost:8080/"
        },
        "id": "R36aVF9a46Qz",
        "outputId": "c7c1ab31-66fa-4e4c-dd8b-25f9505fd175"
      },
      "source": [
        "# Write the Training input and output variables, size of the batch, number of epochs\n",
        "history = model1.fit(x_train,y_train,\n",
        "                    batch_size=batch_size,\n",
        "                    epochs=10,\n",
        "                    verbose=1)"
      ],
      "execution_count": null,
      "outputs": [
        {
          "output_type": "stream",
          "name": "stdout",
          "text": [
            "Epoch 1/10\n",
            "469/469 [==============================] - 4s 7ms/step - loss: 0.9487 - accuracy: 0.6832\n",
            "Epoch 2/10\n",
            "469/469 [==============================] - 3s 7ms/step - loss: 0.3219 - accuracy: 0.9020\n",
            "Epoch 3/10\n",
            "469/469 [==============================] - 3s 6ms/step - loss: 0.2523 - accuracy: 0.9240\n",
            "Epoch 4/10\n",
            "469/469 [==============================] - 3s 6ms/step - loss: 0.2132 - accuracy: 0.9359\n",
            "Epoch 5/10\n",
            "469/469 [==============================] - 3s 6ms/step - loss: 0.1852 - accuracy: 0.9452\n",
            "Epoch 6/10\n",
            "469/469 [==============================] - 3s 6ms/step - loss: 0.1649 - accuracy: 0.9511\n",
            "Epoch 7/10\n",
            "469/469 [==============================] - 3s 6ms/step - loss: 0.1501 - accuracy: 0.9548\n",
            "Epoch 8/10\n",
            "469/469 [==============================] - 3s 6ms/step - loss: 0.1363 - accuracy: 0.9592\n",
            "Epoch 9/10\n",
            "469/469 [==============================] - 3s 6ms/step - loss: 0.1271 - accuracy: 0.9620\n",
            "Epoch 10/10\n",
            "469/469 [==============================] - 3s 7ms/step - loss: 0.1187 - accuracy: 0.9645\n"
          ]
        }
      ]
    },
    {
      "cell_type": "code",
      "metadata": {
        "colab": {
          "base_uri": "https://localhost:8080/"
        },
        "id": "V7gEUBQy49s7",
        "outputId": "0d3a7b92-4a90-48a2-9d86-7925f948b55d"
      },
      "source": [
        "# Write the testing input and output variables\n",
        "score = model1.evaluate(x_test, y_test, verbose=0)\n",
        "print('Test loss', score[0])\n",
        "print('Test accuracy', score[1])"
      ],
      "execution_count": null,
      "outputs": [
        {
          "output_type": "stream",
          "name": "stdout",
          "text": [
            "Test loss 0.14248640835285187\n",
            "Test accuracy 0.9578999876976013\n"
          ]
        }
      ]
    },
    {
      "cell_type": "markdown",
      "metadata": {
        "id": "odTyGQPy7bh-"
      },
      "source": [
        "##### Test loss for 4 nodes: 0.4413, Test accuracy for 4 nodes: 0.9113\n",
        "##### Test loss for 32 nodes: 0.1530, Test accuracy for 32 nodes: 0.9556\n",
        "##### Test loss for 128 nodes: 0.1398, Test accuracy for 128 nodes: 0.9585\n",
        "##### Test loss for 512 nodes: 0.1232, Test accuracy for 512 nodes: 0.9607\n",
        "##### Test loss for 2056 nodes: 0.1331, Test accuracy for 2056 nodes: 0.9625"
      ]
    },
    {
      "cell_type": "markdown",
      "metadata": {
        "id": "itQt5vrv9Gub"
      },
      "source": [
        "# Task-2"
      ]
    },
    {
      "cell_type": "code",
      "metadata": {
        "id": "rkXrqIiO9NOz"
      },
      "source": [
        "batch_size = 128\n",
        "num_classes = 10\n",
        "# epochs = 10\n",
        "epochs=30"
      ],
      "execution_count": null,
      "outputs": []
    },
    {
      "cell_type": "code",
      "metadata": {
        "id": "gkj4TbBw9WDj"
      },
      "source": [
        "(x_train, y_train), (x_test, y_test) = mnist.load_data()"
      ],
      "execution_count": null,
      "outputs": []
    },
    {
      "cell_type": "code",
      "metadata": {
        "colab": {
          "base_uri": "https://localhost:8080/"
        },
        "id": "SGW9Ir7I9Wig",
        "outputId": "e0a21876-8978-4c44-ed75-6677a94b6b18"
      },
      "source": [
        "(x_train.shape, y_train.shape), (x_test.shape, y_test.shape)"
      ],
      "execution_count": null,
      "outputs": [
        {
          "output_type": "execute_result",
          "data": {
            "text/plain": [
              "(((60000, 28, 28), (60000,)), ((10000, 28, 28), (10000,)))"
            ]
          },
          "metadata": {},
          "execution_count": 32
        }
      ]
    },
    {
      "cell_type": "code",
      "metadata": {
        "id": "y0qxEWGc9bBE"
      },
      "source": [
        "x_train = x_train.reshape(60000, 784)\n",
        "x_test = x_test.reshape(10000, 784)\n",
        "x_train = x_train.astype('float32')\n",
        "x_test = x_test.astype('float32')"
      ],
      "execution_count": null,
      "outputs": []
    },
    {
      "cell_type": "code",
      "metadata": {
        "id": "bEGkpj8z9dKU"
      },
      "source": [
        "# Normalize to 0 to 1 range\n",
        "x_train /= 255\n",
        "x_test /= 255"
      ],
      "execution_count": null,
      "outputs": []
    },
    {
      "cell_type": "code",
      "metadata": {
        "id": "mxtkY7pM9fis"
      },
      "source": [
        "# convert class vectors to binary class matrices\n",
        "y_train = keras.utils.np_utils.to_categorical(y_train, num_classes)\n",
        "y_test = keras.utils.np_utils.to_categorical(y_test, num_classes)"
      ],
      "execution_count": null,
      "outputs": []
    },
    {
      "cell_type": "code",
      "metadata": {
        "id": "SHWkrm8V9hr8",
        "colab": {
          "base_uri": "https://localhost:8080/"
        },
        "outputId": "415060aa-113c-484e-f255-991c8eee1032"
      },
      "source": [
        "# first_layer_size = 4\n",
        "# first_layer_size = 6\n",
        "# first_layer_size = 8\n",
        "first_layer_size = 16\n",
        "model2 = Sequential()\n",
        "model2.add(Dense(first_layer_size, activation='sigmoid', input_shape=(784,)))\n",
        "\n",
        "model2.add(Dense(32, activation='sigmoid'))\n",
        "model2.add(Dense(32, activation='sigmoid'))\n",
        "model2.add(Dense(32, activation='sigmoid'))\n",
        "\n",
        "model2.add(Dense(num_classes, activation='softmax'))\n",
        "\n",
        "model2.summary()"
      ],
      "execution_count": null,
      "outputs": [
        {
          "output_type": "stream",
          "name": "stdout",
          "text": [
            "Model: \"sequential_2\"\n",
            "_________________________________________________________________\n",
            "Layer (type)                 Output Shape              Param #   \n",
            "=================================================================\n",
            "dense_7 (Dense)              (None, 16)                12560     \n",
            "_________________________________________________________________\n",
            "dense_8 (Dense)              (None, 32)                544       \n",
            "_________________________________________________________________\n",
            "dense_9 (Dense)              (None, 32)                1056      \n",
            "_________________________________________________________________\n",
            "dense_10 (Dense)             (None, 32)                1056      \n",
            "_________________________________________________________________\n",
            "dense_11 (Dense)             (None, 10)                330       \n",
            "=================================================================\n",
            "Total params: 15,546\n",
            "Trainable params: 15,546\n",
            "Non-trainable params: 0\n",
            "_________________________________________________________________\n"
          ]
        }
      ]
    },
    {
      "cell_type": "code",
      "metadata": {
        "id": "zff9raUp9jT0"
      },
      "source": [
        "model2.compile(loss='categorical_crossentropy',\n",
        "              optimizer=rmsprop_v2.RMSprop(),\n",
        "              metrics=['accuracy'])"
      ],
      "execution_count": null,
      "outputs": []
    },
    {
      "cell_type": "code",
      "metadata": {
        "id": "62aujIB_9k-Y",
        "colab": {
          "base_uri": "https://localhost:8080/"
        },
        "outputId": "c428df5d-3431-4926-fe4d-1c718710b4eb"
      },
      "source": [
        "# Write the Training input and output variables, size of the batch, number of epochs\n",
        "history = model2.fit(x_train,y_train,\n",
        "                    batch_size=batch_size,\n",
        "                    epochs=30,\n",
        "                    verbose=1)"
      ],
      "execution_count": null,
      "outputs": [
        {
          "output_type": "stream",
          "name": "stdout",
          "text": [
            "Epoch 1/30\n",
            "469/469 [==============================] - 2s 2ms/step - loss: 1.9154 - accuracy: 0.3657\n",
            "Epoch 2/30\n",
            "469/469 [==============================] - 1s 2ms/step - loss: 1.0976 - accuracy: 0.6657\n",
            "Epoch 3/30\n",
            "469/469 [==============================] - 1s 2ms/step - loss: 0.8351 - accuracy: 0.7670\n",
            "Epoch 4/30\n",
            "469/469 [==============================] - 1s 2ms/step - loss: 0.6416 - accuracy: 0.8271\n",
            "Epoch 5/30\n",
            "469/469 [==============================] - 1s 2ms/step - loss: 0.4862 - accuracy: 0.8707\n",
            "Epoch 6/30\n",
            "469/469 [==============================] - 1s 2ms/step - loss: 0.4098 - accuracy: 0.8891\n",
            "Epoch 7/30\n",
            "469/469 [==============================] - 1s 2ms/step - loss: 0.3637 - accuracy: 0.9017\n",
            "Epoch 8/30\n",
            "469/469 [==============================] - 1s 2ms/step - loss: 0.3297 - accuracy: 0.9109\n",
            "Epoch 9/30\n",
            "469/469 [==============================] - 1s 2ms/step - loss: 0.3029 - accuracy: 0.9183\n",
            "Epoch 10/30\n",
            "469/469 [==============================] - 1s 2ms/step - loss: 0.2804 - accuracy: 0.9243\n",
            "Epoch 11/30\n",
            "469/469 [==============================] - 1s 2ms/step - loss: 0.2625 - accuracy: 0.9288\n",
            "Epoch 12/30\n",
            "469/469 [==============================] - 1s 2ms/step - loss: 0.2476 - accuracy: 0.9337\n",
            "Epoch 13/30\n",
            "469/469 [==============================] - 1s 2ms/step - loss: 0.2366 - accuracy: 0.9364\n",
            "Epoch 14/30\n",
            "469/469 [==============================] - 1s 2ms/step - loss: 0.2275 - accuracy: 0.9384\n",
            "Epoch 15/30\n",
            "469/469 [==============================] - 1s 2ms/step - loss: 0.2189 - accuracy: 0.9403\n",
            "Epoch 16/30\n",
            "469/469 [==============================] - 1s 2ms/step - loss: 0.2121 - accuracy: 0.9416\n",
            "Epoch 17/30\n",
            "469/469 [==============================] - 1s 2ms/step - loss: 0.2055 - accuracy: 0.9443\n",
            "Epoch 18/30\n",
            "469/469 [==============================] - 1s 2ms/step - loss: 0.1983 - accuracy: 0.9451\n",
            "Epoch 19/30\n",
            "469/469 [==============================] - 1s 2ms/step - loss: 0.1935 - accuracy: 0.9467\n",
            "Epoch 20/30\n",
            "469/469 [==============================] - 1s 2ms/step - loss: 0.1881 - accuracy: 0.9475\n",
            "Epoch 21/30\n",
            "469/469 [==============================] - 1s 2ms/step - loss: 0.1821 - accuracy: 0.9491\n",
            "Epoch 22/30\n",
            "469/469 [==============================] - 1s 2ms/step - loss: 0.1779 - accuracy: 0.9506\n",
            "Epoch 23/30\n",
            "469/469 [==============================] - 1s 2ms/step - loss: 0.1727 - accuracy: 0.9517\n",
            "Epoch 24/30\n",
            "469/469 [==============================] - 1s 2ms/step - loss: 0.1686 - accuracy: 0.9528\n",
            "Epoch 25/30\n",
            "469/469 [==============================] - 1s 2ms/step - loss: 0.1639 - accuracy: 0.9541\n",
            "Epoch 26/30\n",
            "469/469 [==============================] - 1s 2ms/step - loss: 0.1600 - accuracy: 0.9554\n",
            "Epoch 27/30\n",
            "469/469 [==============================] - 1s 2ms/step - loss: 0.1562 - accuracy: 0.9560\n",
            "Epoch 28/30\n",
            "469/469 [==============================] - 1s 2ms/step - loss: 0.1523 - accuracy: 0.9572\n",
            "Epoch 29/30\n",
            "469/469 [==============================] - 1s 2ms/step - loss: 0.1486 - accuracy: 0.9579\n",
            "Epoch 30/30\n",
            "469/469 [==============================] - 1s 2ms/step - loss: 0.1454 - accuracy: 0.9593\n"
          ]
        }
      ]
    },
    {
      "cell_type": "code",
      "metadata": {
        "id": "uZgFzkZL9nkU",
        "colab": {
          "base_uri": "https://localhost:8080/"
        },
        "outputId": "b65ed1ad-0fda-4607-e0d6-25bc64362215"
      },
      "source": [
        "# Write the testing input and output variables\n",
        "score = model2.evaluate(x_test, y_test, verbose=0)\n",
        "print('Test loss', score[0])\n",
        "print('Test accuracy', score[1])"
      ],
      "execution_count": null,
      "outputs": [
        {
          "output_type": "stream",
          "name": "stdout",
          "text": [
            "Test loss 0.19250567257404327\n",
            "Test accuracy 0.9472000002861023\n"
          ]
        }
      ]
    },
    {
      "cell_type": "markdown",
      "metadata": {
        "id": "jHpdPXIb-iA_"
      },
      "source": [
        "##### Test loss for 4 layers: 0.6484, Test accuracy for 4 layers: 0.8012\n",
        "##### Test loss for 6 layers: 0.5854, Test accuracy for 6 layers: 0.8241\n",
        "##### Test loss for 8 layers: 0.4160, Test accuracy for 8 layers: 0.8884\n",
        "##### Test loss for 16 layers: 0.2970, Test accuracy for 16 layers: 0.9225\n",
        "\n"
      ]
    },
    {
      "cell_type": "markdown",
      "metadata": {
        "id": "F8onn5GN_khE"
      },
      "source": [
        "##### Test loss for 32 layers and 30 epochs: 0.2101, Test accuracy for 32 layers and 30 epochs: 0.9452"
      ]
    },
    {
      "cell_type": "markdown",
      "metadata": {
        "id": "216fcSMBAjdS"
      },
      "source": [
        "# Task-3"
      ]
    },
    {
      "cell_type": "code",
      "metadata": {
        "id": "XuNDxmbbAo3b"
      },
      "source": [
        "batch_size = 128\n",
        "num_classes = 10\n",
        "epochs = 10"
      ],
      "execution_count": null,
      "outputs": []
    },
    {
      "cell_type": "code",
      "metadata": {
        "id": "wgST9G9EApdX"
      },
      "source": [
        "(x_train, y_train), (x_test, y_test) = mnist.load_data()"
      ],
      "execution_count": null,
      "outputs": []
    },
    {
      "cell_type": "code",
      "metadata": {
        "colab": {
          "base_uri": "https://localhost:8080/"
        },
        "id": "Fn6h1fhEAqCU",
        "outputId": "af9a8b23-d389-4ea6-8742-9e59ccd3f2ee"
      },
      "source": [
        "(x_train.shape, y_train.shape), (x_test.shape, y_test.shape)"
      ],
      "execution_count": null,
      "outputs": [
        {
          "output_type": "execute_result",
          "data": {
            "text/plain": [
              "(((60000, 28, 28), (60000,)), ((10000, 28, 28), (10000,)))"
            ]
          },
          "metadata": {},
          "execution_count": 42
        }
      ]
    },
    {
      "cell_type": "code",
      "metadata": {
        "id": "a5Y68i-kAqF2"
      },
      "source": [
        "x_train = x_train.reshape(60000, 784)\n",
        "x_test = x_test.reshape(10000, 784)\n",
        "x_train = x_train.astype('float32')\n",
        "x_test = x_test.astype('float32')"
      ],
      "execution_count": null,
      "outputs": []
    },
    {
      "cell_type": "code",
      "metadata": {
        "colab": {
          "base_uri": "https://localhost:8080/"
        },
        "id": "u2VdOdkhT53h",
        "outputId": "e19a1ae1-89fb-4d39-8dda-c687d98e476c"
      },
      "source": [
        "(x_train.shape, y_train.shape), (x_test.shape, y_test.shape)"
      ],
      "execution_count": null,
      "outputs": [
        {
          "output_type": "execute_result",
          "data": {
            "text/plain": [
              "(((60000, 784), (60000,)), ((10000, 784), (10000,)))"
            ]
          },
          "metadata": {},
          "execution_count": 44
        }
      ]
    },
    {
      "cell_type": "code",
      "metadata": {
        "id": "k1jnwroqAqKU"
      },
      "source": [
        "# Normalize to 0 to 1 range\n",
        "x_train /= 255\n",
        "x_test /= 255"
      ],
      "execution_count": null,
      "outputs": []
    },
    {
      "cell_type": "code",
      "metadata": {
        "id": "xeTgFQMGAqNE"
      },
      "source": [
        "# convert class vectors to binary class matrices\n",
        "y_train = keras.utils.np_utils.to_categorical(y_train, num_classes)\n",
        "y_test = keras.utils.np_utils.to_categorical(y_test, num_classes)"
      ],
      "execution_count": null,
      "outputs": []
    },
    {
      "cell_type": "code",
      "metadata": {
        "colab": {
          "base_uri": "https://localhost:8080/"
        },
        "id": "z7nKZRLUAqS-",
        "outputId": "14fad9a6-e5dd-4f4f-b9eb-f6971168cce8"
      },
      "source": [
        "first_layer_size = 32\n",
        "model3 = Sequential()\n",
        "model3.add(Dense(first_layer_size, activation='sigmoid', input_shape=(784,)))\n",
        "\n",
        "model3.add(Dense(2056, activation='sigmoid'))\n",
        "model3.add(Dense(512, activation='sigmoid'))\n",
        "model3.add(Dense(128, activation='sigmoid'))\n",
        "model3.add(Dense(512, activation='sigmoid'))\n",
        "\n",
        "model3.add(Dense(num_classes, activation='softmax'))\n",
        "\n",
        "model3.summary()"
      ],
      "execution_count": null,
      "outputs": [
        {
          "output_type": "stream",
          "name": "stdout",
          "text": [
            "Model: \"sequential_3\"\n",
            "_________________________________________________________________\n",
            "Layer (type)                 Output Shape              Param #   \n",
            "=================================================================\n",
            "dense_12 (Dense)             (None, 32)                25120     \n",
            "_________________________________________________________________\n",
            "dense_13 (Dense)             (None, 2056)              67848     \n",
            "_________________________________________________________________\n",
            "dense_14 (Dense)             (None, 512)               1053184   \n",
            "_________________________________________________________________\n",
            "dense_15 (Dense)             (None, 128)               65664     \n",
            "_________________________________________________________________\n",
            "dense_16 (Dense)             (None, 512)               66048     \n",
            "_________________________________________________________________\n",
            "dense_17 (Dense)             (None, 10)                5130      \n",
            "=================================================================\n",
            "Total params: 1,282,994\n",
            "Trainable params: 1,282,994\n",
            "Non-trainable params: 0\n",
            "_________________________________________________________________\n"
          ]
        }
      ]
    },
    {
      "cell_type": "code",
      "metadata": {
        "id": "2s1vA_0VAqWe"
      },
      "source": [
        "model3.compile(loss='categorical_crossentropy',\n",
        "              optimizer=rmsprop_v2.RMSprop(),\n",
        "              metrics=['accuracy'])"
      ],
      "execution_count": null,
      "outputs": []
    },
    {
      "cell_type": "code",
      "metadata": {
        "colab": {
          "base_uri": "https://localhost:8080/"
        },
        "id": "nfGcXNarA4K4",
        "outputId": "5ed5d10c-68ca-4f2d-e67e-34509eacf2c0"
      },
      "source": [
        "# Write the Training input and output variables, size of the batch, number of epochs\n",
        "history = model3.fit(x_train,y_train,\n",
        "                    batch_size=batch_size,\n",
        "                    epochs=10,\n",
        "                    verbose=1)"
      ],
      "execution_count": null,
      "outputs": [
        {
          "output_type": "stream",
          "name": "stdout",
          "text": [
            "Epoch 1/10\n",
            "469/469 [==============================] - 18s 37ms/step - loss: 1.7599 - accuracy: 0.2968\n",
            "Epoch 2/10\n",
            "469/469 [==============================] - 17s 37ms/step - loss: 1.1022 - accuracy: 0.5785\n",
            "Epoch 3/10\n",
            "469/469 [==============================] - 17s 35ms/step - loss: 0.6469 - accuracy: 0.8019\n",
            "Epoch 4/10\n",
            "469/469 [==============================] - 17s 35ms/step - loss: 0.4341 - accuracy: 0.8737\n",
            "Epoch 5/10\n",
            "469/469 [==============================] - 16s 35ms/step - loss: 0.3386 - accuracy: 0.9027\n",
            "Epoch 6/10\n",
            "469/469 [==============================] - 17s 35ms/step - loss: 0.2795 - accuracy: 0.9186\n",
            "Epoch 7/10\n",
            "469/469 [==============================] - 16s 35ms/step - loss: 0.2423 - accuracy: 0.9296\n",
            "Epoch 8/10\n",
            "469/469 [==============================] - 17s 36ms/step - loss: 0.2137 - accuracy: 0.9376\n",
            "Epoch 9/10\n",
            "469/469 [==============================] - 17s 37ms/step - loss: 0.1926 - accuracy: 0.9438\n",
            "Epoch 10/10\n",
            "469/469 [==============================] - 17s 37ms/step - loss: 0.1770 - accuracy: 0.9482\n"
          ]
        }
      ]
    },
    {
      "cell_type": "code",
      "metadata": {
        "colab": {
          "base_uri": "https://localhost:8080/"
        },
        "id": "NpL5BLylA6sM",
        "outputId": "8d37f732-5b39-4e5f-b00b-6c3d9c0b77bc"
      },
      "source": [
        "# Write the testing input and output variables\n",
        "score = model3.evaluate(x_test, y_test, verbose=0)\n",
        "print('Test loss', score[0])\n",
        "print('Test accuracy', score[1])"
      ],
      "execution_count": null,
      "outputs": [
        {
          "output_type": "stream",
          "name": "stdout",
          "text": [
            "Test loss 0.22658371925354004\n",
            "Test accuracy 0.9351000189781189\n"
          ]
        }
      ]
    },
    {
      "cell_type": "markdown",
      "metadata": {
        "id": "0gLdbLgdCApj"
      },
      "source": [
        "##### Test loss for 1st model structure: 0.6968, Test accuracy for 1st model structure: 0.8271\n",
        "##### Test loss for 2nd model structure: 0.2263, Test accuracy for 2nd model structure: 0.9338\n",
        "##### Test loss for 3rd model structure: 0.2112, Test accuracy for 3rd model structure: 0.9377\n",
        "##### Test loss for 4th model structure: 0.2113, Test accuracy for 4th model structure: 0.9388"
      ]
    },
    {
      "cell_type": "markdown",
      "metadata": {
        "id": "B5PpvrTARLmC"
      },
      "source": [
        "# Task-4"
      ]
    },
    {
      "cell_type": "markdown",
      "metadata": {
        "id": "s4Sni2xUYhYi"
      },
      "source": [
        "Reshaping to 56 X 56"
      ]
    },
    {
      "cell_type": "code",
      "metadata": {
        "id": "7E3DVyRsSAvZ"
      },
      "source": [
        "batch_size = 128\n",
        "num_classes = 10\n",
        "epochs = 10"
      ],
      "execution_count": null,
      "outputs": []
    },
    {
      "cell_type": "code",
      "metadata": {
        "id": "a7g6VYNESAvZ"
      },
      "source": [
        "(x_train, y_train), (x_test, y_test) = mnist.load_data()"
      ],
      "execution_count": null,
      "outputs": []
    },
    {
      "cell_type": "code",
      "metadata": {
        "colab": {
          "base_uri": "https://localhost:8080/"
        },
        "id": "vWnJ-5JzV819",
        "outputId": "ac5b1787-7d51-4d5a-e5dd-ae0394334196"
      },
      "source": [
        "(x_train.shape, y_train.shape), (x_test.shape, y_test.shape)"
      ],
      "execution_count": null,
      "outputs": [
        {
          "output_type": "execute_result",
          "data": {
            "text/plain": [
              "(((60000, 28, 28), (60000,)), ((10000, 28, 28), (10000,)))"
            ]
          },
          "metadata": {},
          "execution_count": 53
        }
      ]
    },
    {
      "cell_type": "code",
      "metadata": {
        "id": "iq1Hqb2uSDHh"
      },
      "source": [
        "x_train,x_test = x_train.reshape(15000,56,56),x_test.reshape(2500,56,56)\n",
        "x_train,x_test = x_train.astype('float32'),x_test.astype('float32') \n",
        "\n",
        "y_train,y_test = y_train[:15000],y_test[:2500]"
      ],
      "execution_count": null,
      "outputs": []
    },
    {
      "cell_type": "code",
      "metadata": {
        "colab": {
          "base_uri": "https://localhost:8080/"
        },
        "id": "9vyMvL3ITSls",
        "outputId": "5cfad315-9eda-4d54-bc3e-3604c2a4644b"
      },
      "source": [
        "(x_train.shape, y_train.shape), (x_test.shape, y_test.shape)"
      ],
      "execution_count": null,
      "outputs": [
        {
          "output_type": "execute_result",
          "data": {
            "text/plain": [
              "(((15000, 56, 56), (15000,)), ((2500, 56, 56), (2500,)))"
            ]
          },
          "metadata": {},
          "execution_count": 55
        }
      ]
    },
    {
      "cell_type": "code",
      "metadata": {
        "id": "5fvb4rQcSAvZ"
      },
      "source": [
        "x_train = x_train.reshape(15000,3136)\n",
        "x_test = x_test.reshape(2500, 3136)\n",
        "x_train = x_train.astype('float32')\n",
        "x_test = x_test.astype('float32')"
      ],
      "execution_count": null,
      "outputs": []
    },
    {
      "cell_type": "code",
      "metadata": {
        "id": "yETwPjfKSAvZ"
      },
      "source": [
        "# Normalize to 0 to 1 range\n",
        "x_train /= 255\n",
        "x_test /= 255"
      ],
      "execution_count": null,
      "outputs": []
    },
    {
      "cell_type": "code",
      "metadata": {
        "id": "6VX-HFckSAva"
      },
      "source": [
        "# convert class vectors to binary class matrices\n",
        "y_train = keras.utils.np_utils.to_categorical(y_train, num_classes)\n",
        "y_test = keras.utils.np_utils.to_categorical(y_test, num_classes)"
      ],
      "execution_count": null,
      "outputs": []
    },
    {
      "cell_type": "code",
      "metadata": {
        "colab": {
          "base_uri": "https://localhost:8080/"
        },
        "id": "SxJSL204SAvb",
        "outputId": "4e375384-504f-4740-fcfe-9a88b28468cc"
      },
      "source": [
        "first_layer_size = 32\n",
        "model4 = Sequential()\n",
        "model4.add(Dense(first_layer_size, activation='sigmoid', input_shape=(3136,)))\n",
        "\n",
        "model4.add(Dense(128, activation='relu'))\n",
        "model4.add(Dense(128, activation='relu'))\n",
        "model4.add(Dense(128, activation='relu'))\n",
        "\n",
        "model4.add(Dense(num_classes, activation='softmax'))\n",
        "\n",
        "model4.summary()"
      ],
      "execution_count": null,
      "outputs": [
        {
          "output_type": "stream",
          "name": "stdout",
          "text": [
            "Model: \"sequential_4\"\n",
            "_________________________________________________________________\n",
            "Layer (type)                 Output Shape              Param #   \n",
            "=================================================================\n",
            "dense_18 (Dense)             (None, 32)                100384    \n",
            "_________________________________________________________________\n",
            "dense_19 (Dense)             (None, 128)               4224      \n",
            "_________________________________________________________________\n",
            "dense_20 (Dense)             (None, 128)               16512     \n",
            "_________________________________________________________________\n",
            "dense_21 (Dense)             (None, 128)               16512     \n",
            "_________________________________________________________________\n",
            "dense_22 (Dense)             (None, 10)                1290      \n",
            "=================================================================\n",
            "Total params: 138,922\n",
            "Trainable params: 138,922\n",
            "Non-trainable params: 0\n",
            "_________________________________________________________________\n"
          ]
        }
      ]
    },
    {
      "cell_type": "code",
      "metadata": {
        "id": "tNbe4pflSAvb"
      },
      "source": [
        "model4.compile(loss='categorical_crossentropy',\n",
        "              optimizer=rmsprop_v2.RMSprop(),\n",
        "              metrics=['accuracy'])"
      ],
      "execution_count": null,
      "outputs": []
    },
    {
      "cell_type": "code",
      "metadata": {
        "colab": {
          "base_uri": "https://localhost:8080/"
        },
        "id": "d6wxAxNrSAvc",
        "outputId": "46908ffe-fb37-412a-d7d7-947d207116c7"
      },
      "source": [
        "# Write the Training input and output variables, size of the batch, number of epochs\n",
        "history = model4.fit(x_train,y_train,\n",
        "                    batch_size=batch_size,\n",
        "                    epochs=10,\n",
        "                    verbose=1)"
      ],
      "execution_count": null,
      "outputs": [
        {
          "output_type": "stream",
          "name": "stdout",
          "text": [
            "Epoch 1/10\n",
            "118/118 [==============================] - 1s 6ms/step - loss: 2.3037 - accuracy: 0.1064\n",
            "Epoch 2/10\n",
            "118/118 [==============================] - 1s 6ms/step - loss: 2.3000 - accuracy: 0.1107\n",
            "Epoch 3/10\n",
            "118/118 [==============================] - 1s 7ms/step - loss: 2.2951 - accuracy: 0.1199\n",
            "Epoch 4/10\n",
            "118/118 [==============================] - 1s 6ms/step - loss: 2.2804 - accuracy: 0.1365\n",
            "Epoch 5/10\n",
            "118/118 [==============================] - 1s 7ms/step - loss: 2.2593 - accuracy: 0.1589\n",
            "Epoch 6/10\n",
            "118/118 [==============================] - 1s 7ms/step - loss: 2.2348 - accuracy: 0.1690\n",
            "Epoch 7/10\n",
            "118/118 [==============================] - 1s 6ms/step - loss: 2.2044 - accuracy: 0.1911\n",
            "Epoch 8/10\n",
            "118/118 [==============================] - 1s 6ms/step - loss: 2.1754 - accuracy: 0.2053\n",
            "Epoch 9/10\n",
            "118/118 [==============================] - 1s 6ms/step - loss: 2.1418 - accuracy: 0.2210\n",
            "Epoch 10/10\n",
            "118/118 [==============================] - 1s 6ms/step - loss: 2.1092 - accuracy: 0.2377\n"
          ]
        }
      ]
    },
    {
      "cell_type": "code",
      "metadata": {
        "id": "5dtc1_3fSAvc",
        "colab": {
          "base_uri": "https://localhost:8080/"
        },
        "outputId": "4803f76b-d903-4113-abc5-9b4899bd3c34"
      },
      "source": [
        "# Write the testing input and output variables\n",
        "score = model4.evaluate(x_test, y_test, verbose=0)\n",
        "print('Test loss', score[0])\n",
        "print('Test accuracy', score[1])"
      ],
      "execution_count": null,
      "outputs": [
        {
          "output_type": "stream",
          "name": "stdout",
          "text": [
            "Test loss 2.492973566055298\n",
            "Test accuracy 0.10119999945163727\n"
          ]
        }
      ]
    },
    {
      "cell_type": "markdown",
      "metadata": {
        "id": "0P9IAWtRZppY"
      },
      "source": [
        "# Task-5"
      ]
    },
    {
      "cell_type": "code",
      "metadata": {
        "id": "5_qAeWgUaIA4"
      },
      "source": [
        "batch_size = 128\n",
        "num_classes = 10\n",
        "epochs = 10"
      ],
      "execution_count": null,
      "outputs": []
    },
    {
      "cell_type": "code",
      "metadata": {
        "id": "F5DYHrOWaIA4"
      },
      "source": [
        "(x_train, y_train), (x_test, y_test) = mnist.load_data()\n",
        "X = np.concatenate([x_train, x_test])\n",
        "y = np.concatenate([y_train, y_test])"
      ],
      "execution_count": null,
      "outputs": []
    },
    {
      "cell_type": "code",
      "metadata": {
        "id": "oFqqtwBycokh"
      },
      "source": [
        "from sklearn.model_selection import train_test_split\n",
        "x_train, x_test, y_train, y_test = train_test_split(X,y, test_size=0.3)"
      ],
      "execution_count": null,
      "outputs": []
    },
    {
      "cell_type": "code",
      "metadata": {
        "colab": {
          "base_uri": "https://localhost:8080/"
        },
        "id": "wvY-UCLbfElj",
        "outputId": "10a1d1fc-14a8-48be-d69d-ec3c8e928011"
      },
      "source": [
        "(x_train.shape, y_train.shape), (x_test.shape, y_test.shape)"
      ],
      "execution_count": null,
      "outputs": [
        {
          "output_type": "execute_result",
          "data": {
            "text/plain": [
              "(((49000, 28, 28), (49000,)), ((21000, 28, 28), (21000,)))"
            ]
          },
          "metadata": {},
          "execution_count": 66
        }
      ]
    },
    {
      "cell_type": "code",
      "metadata": {
        "id": "FSWbHoNYaIA4"
      },
      "source": [
        "x_train = x_train.reshape(x_train.shape[0], 784)\n",
        "x_test = x_test.reshape(x_test.shape[0],784 )\n",
        "x_train = x_train.astype('float32')\n",
        "x_test = x_test.astype('float32')"
      ],
      "execution_count": null,
      "outputs": []
    },
    {
      "cell_type": "code",
      "metadata": {
        "colab": {
          "base_uri": "https://localhost:8080/"
        },
        "id": "sgFN0EheaIA4",
        "outputId": "8500b55e-c359-4970-bfe3-34e8c61752e6"
      },
      "source": [
        "(x_train.shape, y_train.shape), (x_test.shape, y_test.shape)"
      ],
      "execution_count": null,
      "outputs": [
        {
          "output_type": "execute_result",
          "data": {
            "text/plain": [
              "(((49000, 784), (49000,)), ((21000, 784), (21000,)))"
            ]
          },
          "metadata": {},
          "execution_count": 68
        }
      ]
    },
    {
      "cell_type": "code",
      "metadata": {
        "id": "l-aYrAb9aIA5"
      },
      "source": [
        "# Normalize to 0 to 1 range\n",
        "x_train /= 255\n",
        "x_test /= 255"
      ],
      "execution_count": null,
      "outputs": []
    },
    {
      "cell_type": "code",
      "metadata": {
        "id": "GGRsulUuaIA5"
      },
      "source": [
        "# convert class vectors to binary class matrices\n",
        "y_train = keras.utils.np_utils.to_categorical(y_train, num_classes)\n",
        "y_test = keras.utils.np_utils.to_categorical(y_test, num_classes)"
      ],
      "execution_count": null,
      "outputs": []
    },
    {
      "cell_type": "code",
      "metadata": {
        "colab": {
          "base_uri": "https://localhost:8080/"
        },
        "id": "BEJyCJgUaIA5",
        "outputId": "6442ebf8-5f7d-453f-a00d-8d2e36456727"
      },
      "source": [
        "first_layer_size = 32\n",
        "model5 = Sequential()\n",
        "model5.add(Dense(first_layer_size, activation='sigmoid', input_shape=(784,)))\n",
        "\n",
        "model5.add(Dense(32, activation='sigmoid'))\n",
        "model5.add(Dense(32, activation='sigmoid'))\n",
        "model5.add(Dense(32, activation='sigmoid'))\n",
        "\n",
        "model5.add(Dense(num_classes, activation='softmax'))\n",
        "\n",
        "model5.summary()"
      ],
      "execution_count": null,
      "outputs": [
        {
          "output_type": "stream",
          "name": "stdout",
          "text": [
            "Model: \"sequential_5\"\n",
            "_________________________________________________________________\n",
            "Layer (type)                 Output Shape              Param #   \n",
            "=================================================================\n",
            "dense_23 (Dense)             (None, 32)                25120     \n",
            "_________________________________________________________________\n",
            "dense_24 (Dense)             (None, 32)                1056      \n",
            "_________________________________________________________________\n",
            "dense_25 (Dense)             (None, 32)                1056      \n",
            "_________________________________________________________________\n",
            "dense_26 (Dense)             (None, 32)                1056      \n",
            "_________________________________________________________________\n",
            "dense_27 (Dense)             (None, 10)                330       \n",
            "=================================================================\n",
            "Total params: 28,618\n",
            "Trainable params: 28,618\n",
            "Non-trainable params: 0\n",
            "_________________________________________________________________\n"
          ]
        }
      ]
    },
    {
      "cell_type": "code",
      "metadata": {
        "id": "R8erEnW-aIA5"
      },
      "source": [
        "model5.compile(loss='categorical_crossentropy',\n",
        "              optimizer=rmsprop_v2.RMSprop(),\n",
        "              metrics=['accuracy'])"
      ],
      "execution_count": null,
      "outputs": []
    },
    {
      "cell_type": "code",
      "metadata": {
        "colab": {
          "base_uri": "https://localhost:8080/"
        },
        "id": "2W9qg5SnaIA5",
        "outputId": "b953d05e-93a6-4daa-f92c-5fded2f1e534"
      },
      "source": [
        "# Write the Training input and output variables, size of the batch, number of epochs\n",
        "history = model5.fit(x_train,y_train,\n",
        "                    batch_size=batch_size,\n",
        "                    epochs=10,\n",
        "                    verbose=1)"
      ],
      "execution_count": null,
      "outputs": [
        {
          "output_type": "stream",
          "name": "stdout",
          "text": [
            "Epoch 1/10\n",
            "383/383 [==============================] - 2s 3ms/step - loss: 1.8905 - accuracy: 0.3843\n",
            "Epoch 2/10\n",
            "383/383 [==============================] - 1s 2ms/step - loss: 0.9832 - accuracy: 0.7521\n",
            "Epoch 3/10\n",
            "383/383 [==============================] - 1s 2ms/step - loss: 0.5697 - accuracy: 0.8625\n",
            "Epoch 4/10\n",
            "383/383 [==============================] - 1s 3ms/step - loss: 0.4170 - accuracy: 0.8951\n",
            "Epoch 5/10\n",
            "383/383 [==============================] - 1s 3ms/step - loss: 0.3437 - accuracy: 0.9117\n",
            "Epoch 6/10\n",
            "383/383 [==============================] - 1s 3ms/step - loss: 0.2992 - accuracy: 0.9220\n",
            "Epoch 7/10\n",
            "383/383 [==============================] - 1s 3ms/step - loss: 0.2675 - accuracy: 0.9301\n",
            "Epoch 8/10\n",
            "383/383 [==============================] - 1s 2ms/step - loss: 0.2448 - accuracy: 0.9360\n",
            "Epoch 9/10\n",
            "383/383 [==============================] - 1s 2ms/step - loss: 0.2264 - accuracy: 0.9406\n",
            "Epoch 10/10\n",
            "383/383 [==============================] - 1s 3ms/step - loss: 0.2102 - accuracy: 0.9446\n"
          ]
        }
      ]
    },
    {
      "cell_type": "code",
      "metadata": {
        "colab": {
          "base_uri": "https://localhost:8080/"
        },
        "id": "ZrhK6bddaIA5",
        "outputId": "7fa25590-8d22-4cce-f659-3645ea2cfc92"
      },
      "source": [
        "# Write the testing input and output variables\n",
        "score = model5.evaluate(x_test, y_test, verbose=0)\n",
        "print('Test loss', score[0])\n",
        "print('Test accuracy', score[1])"
      ],
      "execution_count": null,
      "outputs": [
        {
          "output_type": "stream",
          "name": "stdout",
          "text": [
            "Test loss 0.23791052401065826\n",
            "Test accuracy 0.9362857341766357\n"
          ]
        }
      ]
    },
    {
      "cell_type": "markdown",
      "metadata": {
        "id": "hTKY_ftBg8ia"
      },
      "source": [
        "Testing Loss and Accuracy in this case where we splitted the dataset in 70:30 ratio is 0.2672 and 0.9311 "
      ]
    }
  ]
}