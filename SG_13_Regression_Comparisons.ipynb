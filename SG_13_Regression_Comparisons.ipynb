{
  "nbformat": 4,
  "nbformat_minor": 0,
  "metadata": {
    "colab": {
      "name": "SG-13_Regression_Comparisons.ipynb",
      "provenance": [],
      "collapsed_sections": [],
      "authorship_tag": "ABX9TyPmxHz5vawf13P4fOTPiop7",
      "include_colab_link": true
    },
    "kernelspec": {
      "name": "python3",
      "display_name": "Python 3"
    },
    "language_info": {
      "name": "python"
    }
  },
  "cells": [
    {
      "cell_type": "markdown",
      "metadata": {
        "id": "view-in-github",
        "colab_type": "text"
      },
      "source": [
        "<a href=\"https://colab.research.google.com/github/shubhamgautam1211/Machine-Learning-Standalone/blob/main/SG_13_Regression_Comparisons.ipynb\" target=\"_parent\"><img src=\"https://colab.research.google.com/assets/colab-badge.svg\" alt=\"Open In Colab\"/></a>"
      ]
    },
    {
      "cell_type": "code",
      "metadata": {
        "id": "64TeRCRrIJig"
      },
      "source": [
        "import numpy as np\n",
        "import pandas as pd\n",
        "import matplotlib.pyplot as plt\n",
        "from sklearn.model_selection import train_test_split\n",
        "from sklearn.metrics import accuracy_score\n",
        "from sklearn.linear_model import LogisticRegression\n",
        "from sklearn.metrics import mean_squared_error\n",
        "# importing libraries for polynomial transform\n",
        "from sklearn.preprocessing import PolynomialFeatures\n",
        "# for creating pipeline\n",
        "from sklearn.pipeline import Pipeline\n",
        "from sklearn.linear_model import LinearRegression\n",
        "from sklearn.pipeline import make_pipeline\n",
        "from sklearn.metrics import mean_absolute_error\n",
        "from sklearn.metrics import median_absolute_error\n",
        "from sklearn.metrics import mean_squared_log_error\n",
        "from sklearn.metrics import max_error\n",
        "from sklearn.metrics import explained_variance_score\n",
        "from sklearn.metrics import r2_score"
      ],
      "execution_count": null,
      "outputs": []
    },
    {
      "cell_type": "code",
      "metadata": {
        "colab": {
          "base_uri": "https://localhost:8080/"
        },
        "id": "Jm8gH_oCbhyW",
        "outputId": "f6a4b85b-8b50-4296-b9c0-2eab33981e5e"
      },
      "source": [
        "! pip install regressormetricgraphplot"
      ],
      "execution_count": null,
      "outputs": [
        {
          "output_type": "stream",
          "name": "stdout",
          "text": [
            "Requirement already satisfied: regressormetricgraphplot in /usr/local/lib/python3.7/dist-packages (0.0.3)\n"
          ]
        }
      ]
    },
    {
      "cell_type": "code",
      "metadata": {
        "colab": {
          "base_uri": "https://localhost:8080/",
          "height": 224
        },
        "id": "Pmq6j7FHJPWE",
        "outputId": "58d212fc-46ea-40a1-b2e2-e51431e150a9"
      },
      "source": [
        "data = pd.read_csv(\"Behavior of the urban traffic.csv\")\n",
        "data.head()"
      ],
      "execution_count": null,
      "outputs": [
        {
          "output_type": "execute_result",
          "data": {
            "text/html": [
              "<div>\n",
              "<style scoped>\n",
              "    .dataframe tbody tr th:only-of-type {\n",
              "        vertical-align: middle;\n",
              "    }\n",
              "\n",
              "    .dataframe tbody tr th {\n",
              "        vertical-align: top;\n",
              "    }\n",
              "\n",
              "    .dataframe thead th {\n",
              "        text-align: right;\n",
              "    }\n",
              "</style>\n",
              "<table border=\"1\" class=\"dataframe\">\n",
              "  <thead>\n",
              "    <tr style=\"text-align: right;\">\n",
              "      <th></th>\n",
              "      <th>id</th>\n",
              "      <th>Hour</th>\n",
              "      <th>Immobilized_bus</th>\n",
              "      <th>Broken_Truck</th>\n",
              "      <th>Vehicle_excess</th>\n",
              "      <th>Accident_victim</th>\n",
              "      <th>Running_over</th>\n",
              "      <th>Fire_vehicles</th>\n",
              "      <th>Occurrence_involving_freight</th>\n",
              "      <th>Incident_involving_dangerous_freight</th>\n",
              "      <th>Lack_of_electricity</th>\n",
              "      <th>Fire</th>\n",
              "      <th>Point_of_flooding</th>\n",
              "      <th>Manifestations</th>\n",
              "      <th>Defect_in_the_network_of_trolleybuses</th>\n",
              "      <th>Tree_on_the_road</th>\n",
              "      <th>Semaphore_off</th>\n",
              "      <th>Intermittent_Semaphore</th>\n",
              "      <th>Slowness_in_traffic_percent</th>\n",
              "    </tr>\n",
              "  </thead>\n",
              "  <tbody>\n",
              "    <tr>\n",
              "      <th>0</th>\n",
              "      <td>1</td>\n",
              "      <td>7:00</td>\n",
              "      <td>0.0</td>\n",
              "      <td>0.0</td>\n",
              "      <td>0.0</td>\n",
              "      <td>0.0</td>\n",
              "      <td>0.0</td>\n",
              "      <td>0.0</td>\n",
              "      <td>0.0</td>\n",
              "      <td>0.0</td>\n",
              "      <td>0.0</td>\n",
              "      <td>0.0</td>\n",
              "      <td>0.0</td>\n",
              "      <td>0.0</td>\n",
              "      <td>0.0</td>\n",
              "      <td>0.0</td>\n",
              "      <td>0.0</td>\n",
              "      <td>0.0</td>\n",
              "      <td>4.1</td>\n",
              "    </tr>\n",
              "    <tr>\n",
              "      <th>1</th>\n",
              "      <td>2</td>\n",
              "      <td>7:30</td>\n",
              "      <td>0.0</td>\n",
              "      <td>0.0</td>\n",
              "      <td>0.0</td>\n",
              "      <td>0.0</td>\n",
              "      <td>0.0</td>\n",
              "      <td>0.0</td>\n",
              "      <td>0.0</td>\n",
              "      <td>0.0</td>\n",
              "      <td>0.0</td>\n",
              "      <td>0.0</td>\n",
              "      <td>0.0</td>\n",
              "      <td>0.0</td>\n",
              "      <td>0.0</td>\n",
              "      <td>0.0</td>\n",
              "      <td>0.0</td>\n",
              "      <td>0.0</td>\n",
              "      <td>6.6</td>\n",
              "    </tr>\n",
              "    <tr>\n",
              "      <th>2</th>\n",
              "      <td>3</td>\n",
              "      <td>8:00</td>\n",
              "      <td>0.0</td>\n",
              "      <td>0.0</td>\n",
              "      <td>0.0</td>\n",
              "      <td>0.0</td>\n",
              "      <td>0.0</td>\n",
              "      <td>0.0</td>\n",
              "      <td>0.0</td>\n",
              "      <td>0.0</td>\n",
              "      <td>0.0</td>\n",
              "      <td>0.0</td>\n",
              "      <td>0.0</td>\n",
              "      <td>0.0</td>\n",
              "      <td>0.0</td>\n",
              "      <td>0.0</td>\n",
              "      <td>0.0</td>\n",
              "      <td>0.0</td>\n",
              "      <td>8.7</td>\n",
              "    </tr>\n",
              "    <tr>\n",
              "      <th>3</th>\n",
              "      <td>4</td>\n",
              "      <td>8:30</td>\n",
              "      <td>0.0</td>\n",
              "      <td>0.0</td>\n",
              "      <td>0.0</td>\n",
              "      <td>0.0</td>\n",
              "      <td>0.0</td>\n",
              "      <td>0.0</td>\n",
              "      <td>0.0</td>\n",
              "      <td>0.0</td>\n",
              "      <td>0.0</td>\n",
              "      <td>0.0</td>\n",
              "      <td>0.0</td>\n",
              "      <td>0.0</td>\n",
              "      <td>0.0</td>\n",
              "      <td>0.0</td>\n",
              "      <td>0.0</td>\n",
              "      <td>0.0</td>\n",
              "      <td>9.2</td>\n",
              "    </tr>\n",
              "    <tr>\n",
              "      <th>4</th>\n",
              "      <td>5</td>\n",
              "      <td>9:00</td>\n",
              "      <td>0.0</td>\n",
              "      <td>0.0</td>\n",
              "      <td>0.0</td>\n",
              "      <td>0.0</td>\n",
              "      <td>0.0</td>\n",
              "      <td>0.0</td>\n",
              "      <td>0.0</td>\n",
              "      <td>0.0</td>\n",
              "      <td>0.0</td>\n",
              "      <td>0.0</td>\n",
              "      <td>0.0</td>\n",
              "      <td>0.0</td>\n",
              "      <td>0.0</td>\n",
              "      <td>0.0</td>\n",
              "      <td>0.0</td>\n",
              "      <td>0.0</td>\n",
              "      <td>11.1</td>\n",
              "    </tr>\n",
              "  </tbody>\n",
              "</table>\n",
              "</div>"
            ],
            "text/plain": [
              "   id  Hour  ...  Intermittent_Semaphore  Slowness_in_traffic_percent\n",
              "0   1  7:00  ...                     0.0                          4.1\n",
              "1   2  7:30  ...                     0.0                          6.6\n",
              "2   3  8:00  ...                     0.0                          8.7\n",
              "3   4  8:30  ...                     0.0                          9.2\n",
              "4   5  9:00  ...                     0.0                         11.1\n",
              "\n",
              "[5 rows x 19 columns]"
            ]
          },
          "metadata": {},
          "execution_count": 398
        }
      ]
    },
    {
      "cell_type": "code",
      "metadata": {
        "colab": {
          "base_uri": "https://localhost:8080/",
          "height": 224
        },
        "id": "IT5DOAusJj8G",
        "outputId": "fd48f509-7d5c-473b-859c-70cddaeb71e1"
      },
      "source": [
        "data = pd.get_dummies(data,columns=['Hour'],drop_first=True)\n",
        "data.head()"
      ],
      "execution_count": null,
      "outputs": [
        {
          "output_type": "execute_result",
          "data": {
            "text/html": [
              "<div>\n",
              "<style scoped>\n",
              "    .dataframe tbody tr th:only-of-type {\n",
              "        vertical-align: middle;\n",
              "    }\n",
              "\n",
              "    .dataframe tbody tr th {\n",
              "        vertical-align: top;\n",
              "    }\n",
              "\n",
              "    .dataframe thead th {\n",
              "        text-align: right;\n",
              "    }\n",
              "</style>\n",
              "<table border=\"1\" class=\"dataframe\">\n",
              "  <thead>\n",
              "    <tr style=\"text-align: right;\">\n",
              "      <th></th>\n",
              "      <th>id</th>\n",
              "      <th>Immobilized_bus</th>\n",
              "      <th>Broken_Truck</th>\n",
              "      <th>Vehicle_excess</th>\n",
              "      <th>Accident_victim</th>\n",
              "      <th>Running_over</th>\n",
              "      <th>Fire_vehicles</th>\n",
              "      <th>Occurrence_involving_freight</th>\n",
              "      <th>Incident_involving_dangerous_freight</th>\n",
              "      <th>Lack_of_electricity</th>\n",
              "      <th>Fire</th>\n",
              "      <th>Point_of_flooding</th>\n",
              "      <th>Manifestations</th>\n",
              "      <th>Defect_in_the_network_of_trolleybuses</th>\n",
              "      <th>Tree_on_the_road</th>\n",
              "      <th>Semaphore_off</th>\n",
              "      <th>Intermittent_Semaphore</th>\n",
              "      <th>Slowness_in_traffic_percent</th>\n",
              "      <th>Hour_10:30</th>\n",
              "      <th>Hour_11:00</th>\n",
              "      <th>Hour_11:30</th>\n",
              "      <th>Hour_12:00</th>\n",
              "      <th>Hour_12:30</th>\n",
              "      <th>Hour_13:00</th>\n",
              "      <th>Hour_13:30</th>\n",
              "      <th>Hour_14:00</th>\n",
              "      <th>Hour_14:30</th>\n",
              "      <th>Hour_15:00</th>\n",
              "      <th>Hour_15:30</th>\n",
              "      <th>Hour_16:00</th>\n",
              "      <th>Hour_16:30</th>\n",
              "      <th>Hour_17:00</th>\n",
              "      <th>Hour_17:30</th>\n",
              "      <th>Hour_18:00</th>\n",
              "      <th>Hour_18:30</th>\n",
              "      <th>Hour_19:00</th>\n",
              "      <th>Hour_19:30</th>\n",
              "      <th>Hour_20:00</th>\n",
              "      <th>Hour_7:00</th>\n",
              "      <th>Hour_7:30</th>\n",
              "      <th>Hour_8:00</th>\n",
              "      <th>Hour_8:30</th>\n",
              "      <th>Hour_9:00</th>\n",
              "      <th>Hour_9:30</th>\n",
              "    </tr>\n",
              "  </thead>\n",
              "  <tbody>\n",
              "    <tr>\n",
              "      <th>0</th>\n",
              "      <td>1</td>\n",
              "      <td>0.0</td>\n",
              "      <td>0.0</td>\n",
              "      <td>0.0</td>\n",
              "      <td>0.0</td>\n",
              "      <td>0.0</td>\n",
              "      <td>0.0</td>\n",
              "      <td>0.0</td>\n",
              "      <td>0.0</td>\n",
              "      <td>0.0</td>\n",
              "      <td>0.0</td>\n",
              "      <td>0.0</td>\n",
              "      <td>0.0</td>\n",
              "      <td>0.0</td>\n",
              "      <td>0.0</td>\n",
              "      <td>0.0</td>\n",
              "      <td>0.0</td>\n",
              "      <td>4.1</td>\n",
              "      <td>0</td>\n",
              "      <td>0</td>\n",
              "      <td>0</td>\n",
              "      <td>0</td>\n",
              "      <td>0</td>\n",
              "      <td>0</td>\n",
              "      <td>0</td>\n",
              "      <td>0</td>\n",
              "      <td>0</td>\n",
              "      <td>0</td>\n",
              "      <td>0</td>\n",
              "      <td>0</td>\n",
              "      <td>0</td>\n",
              "      <td>0</td>\n",
              "      <td>0</td>\n",
              "      <td>0</td>\n",
              "      <td>0</td>\n",
              "      <td>0</td>\n",
              "      <td>0</td>\n",
              "      <td>0</td>\n",
              "      <td>1</td>\n",
              "      <td>0</td>\n",
              "      <td>0</td>\n",
              "      <td>0</td>\n",
              "      <td>0</td>\n",
              "      <td>0</td>\n",
              "    </tr>\n",
              "    <tr>\n",
              "      <th>1</th>\n",
              "      <td>2</td>\n",
              "      <td>0.0</td>\n",
              "      <td>0.0</td>\n",
              "      <td>0.0</td>\n",
              "      <td>0.0</td>\n",
              "      <td>0.0</td>\n",
              "      <td>0.0</td>\n",
              "      <td>0.0</td>\n",
              "      <td>0.0</td>\n",
              "      <td>0.0</td>\n",
              "      <td>0.0</td>\n",
              "      <td>0.0</td>\n",
              "      <td>0.0</td>\n",
              "      <td>0.0</td>\n",
              "      <td>0.0</td>\n",
              "      <td>0.0</td>\n",
              "      <td>0.0</td>\n",
              "      <td>6.6</td>\n",
              "      <td>0</td>\n",
              "      <td>0</td>\n",
              "      <td>0</td>\n",
              "      <td>0</td>\n",
              "      <td>0</td>\n",
              "      <td>0</td>\n",
              "      <td>0</td>\n",
              "      <td>0</td>\n",
              "      <td>0</td>\n",
              "      <td>0</td>\n",
              "      <td>0</td>\n",
              "      <td>0</td>\n",
              "      <td>0</td>\n",
              "      <td>0</td>\n",
              "      <td>0</td>\n",
              "      <td>0</td>\n",
              "      <td>0</td>\n",
              "      <td>0</td>\n",
              "      <td>0</td>\n",
              "      <td>0</td>\n",
              "      <td>0</td>\n",
              "      <td>1</td>\n",
              "      <td>0</td>\n",
              "      <td>0</td>\n",
              "      <td>0</td>\n",
              "      <td>0</td>\n",
              "    </tr>\n",
              "    <tr>\n",
              "      <th>2</th>\n",
              "      <td>3</td>\n",
              "      <td>0.0</td>\n",
              "      <td>0.0</td>\n",
              "      <td>0.0</td>\n",
              "      <td>0.0</td>\n",
              "      <td>0.0</td>\n",
              "      <td>0.0</td>\n",
              "      <td>0.0</td>\n",
              "      <td>0.0</td>\n",
              "      <td>0.0</td>\n",
              "      <td>0.0</td>\n",
              "      <td>0.0</td>\n",
              "      <td>0.0</td>\n",
              "      <td>0.0</td>\n",
              "      <td>0.0</td>\n",
              "      <td>0.0</td>\n",
              "      <td>0.0</td>\n",
              "      <td>8.7</td>\n",
              "      <td>0</td>\n",
              "      <td>0</td>\n",
              "      <td>0</td>\n",
              "      <td>0</td>\n",
              "      <td>0</td>\n",
              "      <td>0</td>\n",
              "      <td>0</td>\n",
              "      <td>0</td>\n",
              "      <td>0</td>\n",
              "      <td>0</td>\n",
              "      <td>0</td>\n",
              "      <td>0</td>\n",
              "      <td>0</td>\n",
              "      <td>0</td>\n",
              "      <td>0</td>\n",
              "      <td>0</td>\n",
              "      <td>0</td>\n",
              "      <td>0</td>\n",
              "      <td>0</td>\n",
              "      <td>0</td>\n",
              "      <td>0</td>\n",
              "      <td>0</td>\n",
              "      <td>1</td>\n",
              "      <td>0</td>\n",
              "      <td>0</td>\n",
              "      <td>0</td>\n",
              "    </tr>\n",
              "    <tr>\n",
              "      <th>3</th>\n",
              "      <td>4</td>\n",
              "      <td>0.0</td>\n",
              "      <td>0.0</td>\n",
              "      <td>0.0</td>\n",
              "      <td>0.0</td>\n",
              "      <td>0.0</td>\n",
              "      <td>0.0</td>\n",
              "      <td>0.0</td>\n",
              "      <td>0.0</td>\n",
              "      <td>0.0</td>\n",
              "      <td>0.0</td>\n",
              "      <td>0.0</td>\n",
              "      <td>0.0</td>\n",
              "      <td>0.0</td>\n",
              "      <td>0.0</td>\n",
              "      <td>0.0</td>\n",
              "      <td>0.0</td>\n",
              "      <td>9.2</td>\n",
              "      <td>0</td>\n",
              "      <td>0</td>\n",
              "      <td>0</td>\n",
              "      <td>0</td>\n",
              "      <td>0</td>\n",
              "      <td>0</td>\n",
              "      <td>0</td>\n",
              "      <td>0</td>\n",
              "      <td>0</td>\n",
              "      <td>0</td>\n",
              "      <td>0</td>\n",
              "      <td>0</td>\n",
              "      <td>0</td>\n",
              "      <td>0</td>\n",
              "      <td>0</td>\n",
              "      <td>0</td>\n",
              "      <td>0</td>\n",
              "      <td>0</td>\n",
              "      <td>0</td>\n",
              "      <td>0</td>\n",
              "      <td>0</td>\n",
              "      <td>0</td>\n",
              "      <td>0</td>\n",
              "      <td>1</td>\n",
              "      <td>0</td>\n",
              "      <td>0</td>\n",
              "    </tr>\n",
              "    <tr>\n",
              "      <th>4</th>\n",
              "      <td>5</td>\n",
              "      <td>0.0</td>\n",
              "      <td>0.0</td>\n",
              "      <td>0.0</td>\n",
              "      <td>0.0</td>\n",
              "      <td>0.0</td>\n",
              "      <td>0.0</td>\n",
              "      <td>0.0</td>\n",
              "      <td>0.0</td>\n",
              "      <td>0.0</td>\n",
              "      <td>0.0</td>\n",
              "      <td>0.0</td>\n",
              "      <td>0.0</td>\n",
              "      <td>0.0</td>\n",
              "      <td>0.0</td>\n",
              "      <td>0.0</td>\n",
              "      <td>0.0</td>\n",
              "      <td>11.1</td>\n",
              "      <td>0</td>\n",
              "      <td>0</td>\n",
              "      <td>0</td>\n",
              "      <td>0</td>\n",
              "      <td>0</td>\n",
              "      <td>0</td>\n",
              "      <td>0</td>\n",
              "      <td>0</td>\n",
              "      <td>0</td>\n",
              "      <td>0</td>\n",
              "      <td>0</td>\n",
              "      <td>0</td>\n",
              "      <td>0</td>\n",
              "      <td>0</td>\n",
              "      <td>0</td>\n",
              "      <td>0</td>\n",
              "      <td>0</td>\n",
              "      <td>0</td>\n",
              "      <td>0</td>\n",
              "      <td>0</td>\n",
              "      <td>0</td>\n",
              "      <td>0</td>\n",
              "      <td>0</td>\n",
              "      <td>0</td>\n",
              "      <td>1</td>\n",
              "      <td>0</td>\n",
              "    </tr>\n",
              "  </tbody>\n",
              "</table>\n",
              "</div>"
            ],
            "text/plain": [
              "   id  Immobilized_bus  Broken_Truck  ...  Hour_8:30  Hour_9:00  Hour_9:30\n",
              "0   1              0.0           0.0  ...          0          0          0\n",
              "1   2              0.0           0.0  ...          0          0          0\n",
              "2   3              0.0           0.0  ...          0          0          0\n",
              "3   4              0.0           0.0  ...          1          0          0\n",
              "4   5              0.0           0.0  ...          0          1          0\n",
              "\n",
              "[5 rows x 44 columns]"
            ]
          },
          "metadata": {},
          "execution_count": 399
        }
      ]
    },
    {
      "cell_type": "code",
      "metadata": {
        "colab": {
          "base_uri": "https://localhost:8080/"
        },
        "id": "2eLF3znDKF5O",
        "outputId": "d9ddb8e1-5637-4a37-f572-c8d014e2ec81"
      },
      "source": [
        "data.info()"
      ],
      "execution_count": null,
      "outputs": [
        {
          "output_type": "stream",
          "name": "stdout",
          "text": [
            "<class 'pandas.core.frame.DataFrame'>\n",
            "RangeIndex: 135 entries, 0 to 134\n",
            "Data columns (total 44 columns):\n",
            " #   Column                                 Non-Null Count  Dtype  \n",
            "---  ------                                 --------------  -----  \n",
            " 0   id                                     135 non-null    int64  \n",
            " 1   Immobilized_bus                        135 non-null    float64\n",
            " 2   Broken_Truck                           135 non-null    float64\n",
            " 3   Vehicle_excess                         135 non-null    float64\n",
            " 4   Accident_victim                        135 non-null    float64\n",
            " 5   Running_over                           135 non-null    float64\n",
            " 6   Fire_vehicles                          135 non-null    float64\n",
            " 7   Occurrence_involving_freight           135 non-null    float64\n",
            " 8   Incident_involving_dangerous_freight   135 non-null    float64\n",
            " 9   Lack_of_electricity                    135 non-null    float64\n",
            " 10  Fire                                   135 non-null    float64\n",
            " 11  Point_of_flooding                      135 non-null    float64\n",
            " 12  Manifestations                         135 non-null    float64\n",
            " 13  Defect_in_the_network_of_trolleybuses  135 non-null    float64\n",
            " 14  Tree_on_the_road                       135 non-null    float64\n",
            " 15  Semaphore_off                          135 non-null    float64\n",
            " 16  Intermittent_Semaphore                 135 non-null    float64\n",
            " 17  Slowness_in_traffic_percent            135 non-null    float64\n",
            " 18  Hour_10:30                             135 non-null    uint8  \n",
            " 19  Hour_11:00                             135 non-null    uint8  \n",
            " 20  Hour_11:30                             135 non-null    uint8  \n",
            " 21  Hour_12:00                             135 non-null    uint8  \n",
            " 22  Hour_12:30                             135 non-null    uint8  \n",
            " 23  Hour_13:00                             135 non-null    uint8  \n",
            " 24  Hour_13:30                             135 non-null    uint8  \n",
            " 25  Hour_14:00                             135 non-null    uint8  \n",
            " 26  Hour_14:30                             135 non-null    uint8  \n",
            " 27  Hour_15:00                             135 non-null    uint8  \n",
            " 28  Hour_15:30                             135 non-null    uint8  \n",
            " 29  Hour_16:00                             135 non-null    uint8  \n",
            " 30  Hour_16:30                             135 non-null    uint8  \n",
            " 31  Hour_17:00                             135 non-null    uint8  \n",
            " 32  Hour_17:30                             135 non-null    uint8  \n",
            " 33  Hour_18:00                             135 non-null    uint8  \n",
            " 34  Hour_18:30                             135 non-null    uint8  \n",
            " 35  Hour_19:00                             135 non-null    uint8  \n",
            " 36  Hour_19:30                             135 non-null    uint8  \n",
            " 37  Hour_20:00                             135 non-null    uint8  \n",
            " 38  Hour_7:00                              135 non-null    uint8  \n",
            " 39  Hour_7:30                              135 non-null    uint8  \n",
            " 40  Hour_8:00                              135 non-null    uint8  \n",
            " 41  Hour_8:30                              135 non-null    uint8  \n",
            " 42  Hour_9:00                              135 non-null    uint8  \n",
            " 43  Hour_9:30                              135 non-null    uint8  \n",
            "dtypes: float64(17), int64(1), uint8(26)\n",
            "memory usage: 22.5 KB\n"
          ]
        }
      ]
    },
    {
      "cell_type": "code",
      "metadata": {
        "id": "mUM7rgDUKPDB"
      },
      "source": [
        "X=data.drop(['Slowness_in_traffic_percent','id'],axis=1).values\n",
        "y=data['Slowness_in_traffic_percent'].values"
      ],
      "execution_count": null,
      "outputs": []
    },
    {
      "cell_type": "code",
      "metadata": {
        "colab": {
          "base_uri": "https://localhost:8080/"
        },
        "id": "cEfYI_pDNwNS",
        "outputId": "30d394b8-b795-43cb-d975-cc1d4943e7b0"
      },
      "source": [
        "X_shape = X.shape\n",
        "X_type  = type(X)\n",
        "y_shape = y.shape\n",
        "y_type  = type(y)\n",
        "print(f'X: Type-{X_type}, Shape-{X_shape}')\n",
        "print(f'y: Type-{y_type}, Shape-{y_shape}')"
      ],
      "execution_count": null,
      "outputs": [
        {
          "output_type": "stream",
          "name": "stdout",
          "text": [
            "X: Type-<class 'numpy.ndarray'>, Shape-(135, 42)\n",
            "y: Type-<class 'numpy.ndarray'>, Shape-(135,)\n"
          ]
        }
      ]
    },
    {
      "cell_type": "code",
      "metadata": {
        "colab": {
          "base_uri": "https://localhost:8080/"
        },
        "id": "RiKaIVewNzFC",
        "outputId": "ad52ca2f-f1f5-4962-f3c2-f784e44d424f"
      },
      "source": [
        "X_train, X_test, y_train, y_test = train_test_split(X,y,test_size=0.2,random_state=0)\n",
        "\n",
        "X_train_shape = X_train.shape\n",
        "y_train_shape = y_train.shape\n",
        "X_test_shape  = X_test.shape\n",
        "y_test_shape  = y_test.shape\n",
        "\n",
        "print(f\"X_train: {X_train_shape} , y_train: {y_train_shape}\")\n",
        "print(f\"X_test: {X_test_shape} , y_test: {y_test_shape}\")"
      ],
      "execution_count": null,
      "outputs": [
        {
          "output_type": "stream",
          "name": "stdout",
          "text": [
            "X_train: (108, 42) , y_train: (108,)\n",
            "X_test: (27, 42) , y_test: (27,)\n"
          ]
        }
      ]
    },
    {
      "cell_type": "markdown",
      "metadata": {
        "id": "PDsLDaSlIe9Y"
      },
      "source": [
        "## **Linear regression**"
      ]
    },
    {
      "cell_type": "code",
      "metadata": {
        "colab": {
          "base_uri": "https://localhost:8080/"
        },
        "id": "4xvIaichN6n0",
        "outputId": "7d7d66b3-9104-4b77-89ec-c9057460e8db"
      },
      "source": [
        "model = LinearRegression(fit_intercept=True)\n",
        "model.fit(X_train, y_train)"
      ],
      "execution_count": null,
      "outputs": [
        {
          "output_type": "execute_result",
          "data": {
            "text/plain": [
              "LinearRegression(copy_X=True, fit_intercept=True, n_jobs=None, normalize=False)"
            ]
          },
          "metadata": {},
          "execution_count": 404
        }
      ]
    },
    {
      "cell_type": "code",
      "metadata": {
        "id": "hO4ekNQYO5ib"
      },
      "source": [
        "y_pred = model.predict(X_test)"
      ],
      "execution_count": null,
      "outputs": []
    },
    {
      "cell_type": "markdown",
      "metadata": {
        "id": "yXBCafnZPmsh"
      },
      "source": [
        "### **Testing , evaluation metrics**"
      ]
    },
    {
      "cell_type": "code",
      "metadata": {
        "colab": {
          "base_uri": "https://localhost:8080/"
        },
        "id": "pP7z0I27PBNb",
        "outputId": "96becbc5-bfe1-4c50-8bae-8181254b2013"
      },
      "source": [
        "mse = np.mean( (y - model.predict(X))**2 )\n",
        "print(\"MSE:\",mse)\n",
        "\n",
        "print(\"----------------------------------------------\")\n",
        "\n",
        "mae = mean_absolute_error(y_test, y_pred)\n",
        "print(\"Mean absolute error: \",mae)\n",
        "\n",
        "print(\"----------------------------------------------\")\n",
        "\n",
        "MAE = median_absolute_error(y_test, y_pred)\n",
        "print(\"Median absolute error: \",MAE)\n",
        "\n",
        "print(\"----------------------------------------------\")\n",
        "\n",
        "msle = mean_squared_log_error(y_test, y_pred)\n",
        "print(\"Mean squared logarithmic error: \",msle)\n",
        "\n",
        "print(\"----------------------------------------------\")\n",
        "\n",
        "me = max_error(y_test, y_pred)\n",
        "print(\"Max error: \",me)\n",
        "\n",
        "print(\"----------------------------------------------\")\n",
        "\n",
        "vscore= explained_variance_score(y_test, y_pred)\n",
        "print(\"Explained variance score: \",vscore)\n",
        "\n",
        "print(\"----------------------------------------------\")\n",
        "\n",
        "rscore = r2_score(y_test, y_pred)\n",
        "print(\"r2 score: \",rscore)"
      ],
      "execution_count": null,
      "outputs": [
        {
          "output_type": "stream",
          "name": "stdout",
          "text": [
            "MSE: 5.091807078854171\n",
            "----------------------------------------------\n",
            "Mean absolute error:  2.809458545067806\n",
            "----------------------------------------------\n",
            "Median absolute error:  2.166830171051224\n",
            "----------------------------------------------\n",
            "Mean squared logarithmic error:  0.10101311810989103\n",
            "----------------------------------------------\n",
            "Max error:  7.963189885259467\n",
            "----------------------------------------------\n",
            "Explained variance score:  0.24871772877689335\n",
            "----------------------------------------------\n",
            "r2 score:  0.23530838731669124\n"
          ]
        }
      ]
    },
    {
      "cell_type": "code",
      "metadata": {
        "colab": {
          "base_uri": "https://localhost:8080/",
          "height": 320
        },
        "id": "X3XB-fqzbrrj",
        "outputId": "c97afa69-abc2-41da-e2e6-a9c5c7cdb5e3"
      },
      "source": [
        "from regressormetricgraphplot import CompareModels\n",
        "\n",
        "plot = CompareModels()\n",
        "x = plot.add(model_name='Linear Regression', y_test=y_test, y_pred=y_pred)\n",
        "plot.show(figsize=(10, 5))"
      ],
      "execution_count": null,
      "outputs": [
        {
          "output_type": "display_data",
          "data": {
            "image/png": "[encoded data removed]",
            "text/plain": [
              "<Figure size 720x360 with 1 Axes>"
            ]
          },
          "metadata": {
            "needs_background": "light"
          }
        }
      ]
    },
    {
      "cell_type": "markdown",
      "metadata": {
        "id": "p4C58PWEIX1O"
      },
      "source": [
        "## **Polynomial Regression (various degrees can be checked although more is the degree, more is the probability of overfitting, So degree 2 and 3 can work better)**"
      ]
    },
    {
      "cell_type": "code",
      "metadata": {
        "id": "NWqK4gbHRyEH"
      },
      "source": [
        "polyreg=make_pipeline(PolynomialFeatures(2),LinearRegression())\n",
        "polyreg.fit(X,y)\n",
        "y_pred=polyreg.predict(X_test)"
      ],
      "execution_count": null,
      "outputs": []
    },
    {
      "cell_type": "code",
      "metadata": {
        "colab": {
          "base_uri": "https://localhost:8080/"
        },
        "id": "11tJCT-NSwiQ",
        "outputId": "be8e489a-9b11-4077-b86d-337002c54e57"
      },
      "source": [
        "mse = mean_squared_error(y_test,y_pred)\n",
        "print(\"MSE:\",mse)\n",
        "\n",
        "print(\"----------------------------------------------\")\n",
        "\n",
        "mae = mean_absolute_error(y_test, y_pred)\n",
        "print(\"Mean absolute error: \",mae)\n",
        "\n",
        "print(\"----------------------------------------------\")\n",
        "\n",
        "MAE = median_absolute_error(y_test, y_pred)\n",
        "print(\"Median absolute error: \",MAE)\n",
        "\n",
        "print(\"----------------------------------------------\")\n",
        "\n",
        "msle = mean_squared_log_error(y_test, y_pred)\n",
        "print(\"Mean squared logarithmic error: \",msle)\n",
        "\n",
        "print(\"----------------------------------------------\")\n",
        "\n",
        "me = max_error(y_test, y_pred)\n",
        "print(\"Max error: \",me)\n",
        "\n",
        "print(\"----------------------------------------------\")\n",
        "\n",
        "vscore= explained_variance_score(y_test, y_pred)\n",
        "print(\"Explained variance score: \",vscore)\n",
        "\n",
        "print(\"----------------------------------------------\")\n",
        "\n",
        "rscore = r2_score(y_test, y_pred)\n",
        "print(\"r2 score: \",rscore)"
      ],
      "execution_count": null,
      "outputs": [
        {
          "output_type": "stream",
          "name": "stdout",
          "text": [
            "MSE: 0.5616738429334432\n",
            "----------------------------------------------\n",
            "Mean absolute error:  0.19515064380787053\n",
            "----------------------------------------------\n",
            "Median absolute error:  0.0034301757812498224\n",
            "----------------------------------------------\n",
            "Mean squared logarithmic error:  0.002982273165778329\n",
            "----------------------------------------------\n",
            "Max error:  3.5511596679687507\n",
            "----------------------------------------------\n",
            "Explained variance score:  0.967144236753845\n",
            "----------------------------------------------\n",
            "r2 score:  0.9648275971266226\n"
          ]
        }
      ]
    },
    {
      "cell_type": "code",
      "metadata": {
        "colab": {
          "base_uri": "https://localhost:8080/",
          "height": 320
        },
        "id": "gDPblCT6cMoc",
        "outputId": "8f62a2a3-5c86-47cd-e6e2-7e0e19408c46"
      },
      "source": [
        "x = plot.add('Polynomial Regression(degree=2)',y_test,y_pred)\n",
        "plot.show(figsize=(10, 5))"
      ],
      "execution_count": null,
      "outputs": [
        {
          "output_type": "display_data",
          "data": {
            "image/png": "[encoded data removed]",
            "text/plain": [
              "<Figure size 720x360 with 1 Axes>"
            ]
          },
          "metadata": {
            "needs_background": "light"
          }
        }
      ]
    },
    {
      "cell_type": "markdown",
      "metadata": {
        "id": "1-h6O7qtTNBh"
      },
      "source": [
        "## **Playing with Model, the following are the options -:**\n",
        "\n",
        "**(1) Encoding of features**\n",
        "\n",
        "**(2) removal of some features**\n",
        "\n",
        "**(3) normalization methods**\n",
        "\n",
        "**(4)  Shuffling of training samples**\n",
        "\n",
        "**(5) Degree of polynomials (such as 2, 3, 4 etc print parameters of the polynomial models)**"
      ]
    },
    {
      "cell_type": "code",
      "metadata": {
        "id": "HrQpw16VTKGt"
      },
      "source": [
        "X=data.drop(['Slowness_in_traffic_percent','id','Lack_of_electricity','Fire','Semaphore_off'],axis=1).values  \n",
        "Y=data['Slowness_in_traffic_percent'].values"
      ],
      "execution_count": null,
      "outputs": []
    },
    {
      "cell_type": "markdown",
      "metadata": {
        "id": "xut9GY9lOafg"
      },
      "source": [
        "**removed 3 features, and error has increased significantly as you will see**"
      ]
    },
    {
      "cell_type": "code",
      "metadata": {
        "colab": {
          "base_uri": "https://localhost:8080/"
        },
        "id": "N7jG9Ro7UBOd",
        "outputId": "6f2a2573-aa7f-4e22-a86d-d4946414008a"
      },
      "source": [
        "X_shape = X.shape\n",
        "X_type  = type(X)\n",
        "y_shape = y.shape\n",
        "y_type  = type(y)\n",
        "print(f'X: Type-{X_type}, Shape-{X_shape}')\n",
        "print(f'y: Type-{y_type}, Shape-{y_shape}')"
      ],
      "execution_count": null,
      "outputs": [
        {
          "output_type": "stream",
          "name": "stdout",
          "text": [
            "X: Type-<class 'numpy.ndarray'>, Shape-(135, 39)\n",
            "y: Type-<class 'numpy.ndarray'>, Shape-(135,)\n"
          ]
        }
      ]
    },
    {
      "cell_type": "code",
      "metadata": {
        "colab": {
          "base_uri": "https://localhost:8080/"
        },
        "id": "2rsLXei6UDtv",
        "outputId": "95ba8d5b-d599-4b7e-8b37-aa64de2a983c"
      },
      "source": [
        "X_train, X_test, y_train, y_test = train_test_split(X,y,test_size=0.2,random_state=0)\n",
        "X_train_shape = X_train.shape\n",
        "y_train_shape = y_train.shape\n",
        "X_test_shape  = X_test.shape\n",
        "y_test_shape  = y_test.shape\n",
        "\n",
        "print(f\"X_train: {X_train_shape} , y_train: {y_train_shape}\")\n",
        "print(f\"X_test: {X_test_shape} , y_test: {y_test_shape}\")"
      ],
      "execution_count": null,
      "outputs": [
        {
          "output_type": "stream",
          "name": "stdout",
          "text": [
            "X_train: (108, 39) , y_train: (108,)\n",
            "X_test: (27, 39) , y_test: (27,)\n"
          ]
        }
      ]
    },
    {
      "cell_type": "code",
      "metadata": {
        "id": "XAjfwvLWUJAF"
      },
      "source": [
        "model = LinearRegression(fit_intercept=True)\n",
        "model.fit(X_train, y_train)\n",
        "y_pred = model.predict(X_test)"
      ],
      "execution_count": null,
      "outputs": []
    },
    {
      "cell_type": "code",
      "metadata": {
        "colab": {
          "base_uri": "https://localhost:8080/"
        },
        "id": "naZyhBlVVLCK",
        "outputId": "7d532f35-9484-47c0-d6f5-2d5d18d8fa93"
      },
      "source": [
        "mse = np.mean( (y - model.predict(X))**2 )\n",
        "print(\"MSE:\",mse)\n",
        "\n",
        "print(\"----------------------------------------------\")\n",
        "\n",
        "mae = mean_absolute_error(y_test, y_pred)\n",
        "print(\"Mean absolute error: \",mae)\n",
        "\n",
        "print(\"----------------------------------------------\")\n",
        "\n",
        "MAE = median_absolute_error(y_test, y_pred)\n",
        "print(\"Median absolute error: \",MAE)\n",
        "\n",
        "print(\"----------------------------------------------\")\n",
        "\n",
        "msle = mean_squared_log_error(y_test, y_pred)\n",
        "print(\"Mean squared logarithmic error: \",msle)\n",
        "\n",
        "print(\"----------------------------------------------\")\n",
        "\n",
        "me = max_error(y_test, y_pred)\n",
        "print(\"Max error: \",me)\n",
        "\n",
        "print(\"----------------------------------------------\")\n",
        "\n",
        "vscore= explained_variance_score(y_test, y_pred)\n",
        "print(\"Explained variance score: \",vscore)\n",
        "\n",
        "print(\"----------------------------------------------\")\n",
        "\n",
        "rscore = r2_score(y_test, y_pred)\n",
        "print(\"r2 score: \",rscore)"
      ],
      "execution_count": null,
      "outputs": [
        {
          "output_type": "stream",
          "name": "stdout",
          "text": [
            "MSE: 5.525011807471965\n",
            "----------------------------------------------\n",
            "Mean absolute error:  2.886998719474469\n",
            "----------------------------------------------\n",
            "Median absolute error:  3.0414094805100973\n",
            "----------------------------------------------\n",
            "Mean squared logarithmic error:  0.10358065508478008\n",
            "----------------------------------------------\n",
            "Max error:  7.913861259607538\n",
            "----------------------------------------------\n",
            "Explained variance score:  0.22090715691163987\n",
            "----------------------------------------------\n",
            "r2 score:  0.19895007370330564\n"
          ]
        }
      ]
    },
    {
      "cell_type": "markdown",
      "metadata": {
        "id": "jycZgFO4Wl0v"
      },
      "source": [
        "**Normalization method now**"
      ]
    },
    {
      "cell_type": "code",
      "metadata": {
        "colab": {
          "base_uri": "https://localhost:8080/",
          "height": 224
        },
        "id": "okNUTT5LWqF9",
        "outputId": "eb2aef40-3ac6-4555-831a-a07c2c249d8f"
      },
      "source": [
        "from sklearn import preprocessing\n",
        "d = preprocessing.normalize(data, axis=1)\n",
        "names = data.columns\n",
        "scaled_df = pd.DataFrame(d, columns=names)\n",
        "scaled_df.head()"
      ],
      "execution_count": null,
      "outputs": [
        {
          "output_type": "execute_result",
          "data": {
            "text/html": [
              "<div>\n",
              "<style scoped>\n",
              "    .dataframe tbody tr th:only-of-type {\n",
              "        vertical-align: middle;\n",
              "    }\n",
              "\n",
              "    .dataframe tbody tr th {\n",
              "        vertical-align: top;\n",
              "    }\n",
              "\n",
              "    .dataframe thead th {\n",
              "        text-align: right;\n",
              "    }\n",
              "</style>\n",
              "<table border=\"1\" class=\"dataframe\">\n",
              "  <thead>\n",
              "    <tr style=\"text-align: right;\">\n",
              "      <th></th>\n",
              "      <th>id</th>\n",
              "      <th>Immobilized_bus</th>\n",
              "      <th>Broken_Truck</th>\n",
              "      <th>Vehicle_excess</th>\n",
              "      <th>Accident_victim</th>\n",
              "      <th>Running_over</th>\n",
              "      <th>Fire_vehicles</th>\n",
              "      <th>Occurrence_involving_freight</th>\n",
              "      <th>Incident_involving_dangerous_freight</th>\n",
              "      <th>Lack_of_electricity</th>\n",
              "      <th>Fire</th>\n",
              "      <th>Point_of_flooding</th>\n",
              "      <th>Manifestations</th>\n",
              "      <th>Defect_in_the_network_of_trolleybuses</th>\n",
              "      <th>Tree_on_the_road</th>\n",
              "      <th>Semaphore_off</th>\n",
              "      <th>Intermittent_Semaphore</th>\n",
              "      <th>Slowness_in_traffic_percent</th>\n",
              "      <th>Hour_10:30</th>\n",
              "      <th>Hour_11:00</th>\n",
              "      <th>Hour_11:30</th>\n",
              "      <th>Hour_12:00</th>\n",
              "      <th>Hour_12:30</th>\n",
              "      <th>Hour_13:00</th>\n",
              "      <th>Hour_13:30</th>\n",
              "      <th>Hour_14:00</th>\n",
              "      <th>Hour_14:30</th>\n",
              "      <th>Hour_15:00</th>\n",
              "      <th>Hour_15:30</th>\n",
              "      <th>Hour_16:00</th>\n",
              "      <th>Hour_16:30</th>\n",
              "      <th>Hour_17:00</th>\n",
              "      <th>Hour_17:30</th>\n",
              "      <th>Hour_18:00</th>\n",
              "      <th>Hour_18:30</th>\n",
              "      <th>Hour_19:00</th>\n",
              "      <th>Hour_19:30</th>\n",
              "      <th>Hour_20:00</th>\n",
              "      <th>Hour_7:00</th>\n",
              "      <th>Hour_7:30</th>\n",
              "      <th>Hour_8:00</th>\n",
              "      <th>Hour_8:30</th>\n",
              "      <th>Hour_9:00</th>\n",
              "      <th>Hour_9:30</th>\n",
              "    </tr>\n",
              "  </thead>\n",
              "  <tbody>\n",
              "    <tr>\n",
              "      <th>0</th>\n",
              "      <td>0.230571</td>\n",
              "      <td>0.0</td>\n",
              "      <td>0.0</td>\n",
              "      <td>0.0</td>\n",
              "      <td>0.0</td>\n",
              "      <td>0.0</td>\n",
              "      <td>0.0</td>\n",
              "      <td>0.0</td>\n",
              "      <td>0.0</td>\n",
              "      <td>0.0</td>\n",
              "      <td>0.0</td>\n",
              "      <td>0.0</td>\n",
              "      <td>0.0</td>\n",
              "      <td>0.0</td>\n",
              "      <td>0.0</td>\n",
              "      <td>0.0</td>\n",
              "      <td>0.0</td>\n",
              "      <td>0.945343</td>\n",
              "      <td>0.0</td>\n",
              "      <td>0.0</td>\n",
              "      <td>0.0</td>\n",
              "      <td>0.0</td>\n",
              "      <td>0.0</td>\n",
              "      <td>0.0</td>\n",
              "      <td>0.0</td>\n",
              "      <td>0.0</td>\n",
              "      <td>0.0</td>\n",
              "      <td>0.0</td>\n",
              "      <td>0.0</td>\n",
              "      <td>0.0</td>\n",
              "      <td>0.0</td>\n",
              "      <td>0.0</td>\n",
              "      <td>0.0</td>\n",
              "      <td>0.0</td>\n",
              "      <td>0.0</td>\n",
              "      <td>0.0</td>\n",
              "      <td>0.0</td>\n",
              "      <td>0.0</td>\n",
              "      <td>0.230571</td>\n",
              "      <td>0.000000</td>\n",
              "      <td>0.000000</td>\n",
              "      <td>0.00000</td>\n",
              "      <td>0.000000</td>\n",
              "      <td>0.0</td>\n",
              "    </tr>\n",
              "    <tr>\n",
              "      <th>1</th>\n",
              "      <td>0.287006</td>\n",
              "      <td>0.0</td>\n",
              "      <td>0.0</td>\n",
              "      <td>0.0</td>\n",
              "      <td>0.0</td>\n",
              "      <td>0.0</td>\n",
              "      <td>0.0</td>\n",
              "      <td>0.0</td>\n",
              "      <td>0.0</td>\n",
              "      <td>0.0</td>\n",
              "      <td>0.0</td>\n",
              "      <td>0.0</td>\n",
              "      <td>0.0</td>\n",
              "      <td>0.0</td>\n",
              "      <td>0.0</td>\n",
              "      <td>0.0</td>\n",
              "      <td>0.0</td>\n",
              "      <td>0.947119</td>\n",
              "      <td>0.0</td>\n",
              "      <td>0.0</td>\n",
              "      <td>0.0</td>\n",
              "      <td>0.0</td>\n",
              "      <td>0.0</td>\n",
              "      <td>0.0</td>\n",
              "      <td>0.0</td>\n",
              "      <td>0.0</td>\n",
              "      <td>0.0</td>\n",
              "      <td>0.0</td>\n",
              "      <td>0.0</td>\n",
              "      <td>0.0</td>\n",
              "      <td>0.0</td>\n",
              "      <td>0.0</td>\n",
              "      <td>0.0</td>\n",
              "      <td>0.0</td>\n",
              "      <td>0.0</td>\n",
              "      <td>0.0</td>\n",
              "      <td>0.0</td>\n",
              "      <td>0.0</td>\n",
              "      <td>0.000000</td>\n",
              "      <td>0.143503</td>\n",
              "      <td>0.000000</td>\n",
              "      <td>0.00000</td>\n",
              "      <td>0.000000</td>\n",
              "      <td>0.0</td>\n",
              "    </tr>\n",
              "    <tr>\n",
              "      <th>2</th>\n",
              "      <td>0.324083</td>\n",
              "      <td>0.0</td>\n",
              "      <td>0.0</td>\n",
              "      <td>0.0</td>\n",
              "      <td>0.0</td>\n",
              "      <td>0.0</td>\n",
              "      <td>0.0</td>\n",
              "      <td>0.0</td>\n",
              "      <td>0.0</td>\n",
              "      <td>0.0</td>\n",
              "      <td>0.0</td>\n",
              "      <td>0.0</td>\n",
              "      <td>0.0</td>\n",
              "      <td>0.0</td>\n",
              "      <td>0.0</td>\n",
              "      <td>0.0</td>\n",
              "      <td>0.0</td>\n",
              "      <td>0.939841</td>\n",
              "      <td>0.0</td>\n",
              "      <td>0.0</td>\n",
              "      <td>0.0</td>\n",
              "      <td>0.0</td>\n",
              "      <td>0.0</td>\n",
              "      <td>0.0</td>\n",
              "      <td>0.0</td>\n",
              "      <td>0.0</td>\n",
              "      <td>0.0</td>\n",
              "      <td>0.0</td>\n",
              "      <td>0.0</td>\n",
              "      <td>0.0</td>\n",
              "      <td>0.0</td>\n",
              "      <td>0.0</td>\n",
              "      <td>0.0</td>\n",
              "      <td>0.0</td>\n",
              "      <td>0.0</td>\n",
              "      <td>0.0</td>\n",
              "      <td>0.0</td>\n",
              "      <td>0.0</td>\n",
              "      <td>0.000000</td>\n",
              "      <td>0.000000</td>\n",
              "      <td>0.108028</td>\n",
              "      <td>0.00000</td>\n",
              "      <td>0.000000</td>\n",
              "      <td>0.0</td>\n",
              "    </tr>\n",
              "    <tr>\n",
              "      <th>3</th>\n",
              "      <td>0.396760</td>\n",
              "      <td>0.0</td>\n",
              "      <td>0.0</td>\n",
              "      <td>0.0</td>\n",
              "      <td>0.0</td>\n",
              "      <td>0.0</td>\n",
              "      <td>0.0</td>\n",
              "      <td>0.0</td>\n",
              "      <td>0.0</td>\n",
              "      <td>0.0</td>\n",
              "      <td>0.0</td>\n",
              "      <td>0.0</td>\n",
              "      <td>0.0</td>\n",
              "      <td>0.0</td>\n",
              "      <td>0.0</td>\n",
              "      <td>0.0</td>\n",
              "      <td>0.0</td>\n",
              "      <td>0.912548</td>\n",
              "      <td>0.0</td>\n",
              "      <td>0.0</td>\n",
              "      <td>0.0</td>\n",
              "      <td>0.0</td>\n",
              "      <td>0.0</td>\n",
              "      <td>0.0</td>\n",
              "      <td>0.0</td>\n",
              "      <td>0.0</td>\n",
              "      <td>0.0</td>\n",
              "      <td>0.0</td>\n",
              "      <td>0.0</td>\n",
              "      <td>0.0</td>\n",
              "      <td>0.0</td>\n",
              "      <td>0.0</td>\n",
              "      <td>0.0</td>\n",
              "      <td>0.0</td>\n",
              "      <td>0.0</td>\n",
              "      <td>0.0</td>\n",
              "      <td>0.0</td>\n",
              "      <td>0.0</td>\n",
              "      <td>0.000000</td>\n",
              "      <td>0.000000</td>\n",
              "      <td>0.000000</td>\n",
              "      <td>0.09919</td>\n",
              "      <td>0.000000</td>\n",
              "      <td>0.0</td>\n",
              "    </tr>\n",
              "    <tr>\n",
              "      <th>4</th>\n",
              "      <td>0.409328</td>\n",
              "      <td>0.0</td>\n",
              "      <td>0.0</td>\n",
              "      <td>0.0</td>\n",
              "      <td>0.0</td>\n",
              "      <td>0.0</td>\n",
              "      <td>0.0</td>\n",
              "      <td>0.0</td>\n",
              "      <td>0.0</td>\n",
              "      <td>0.0</td>\n",
              "      <td>0.0</td>\n",
              "      <td>0.0</td>\n",
              "      <td>0.0</td>\n",
              "      <td>0.0</td>\n",
              "      <td>0.0</td>\n",
              "      <td>0.0</td>\n",
              "      <td>0.0</td>\n",
              "      <td>0.908707</td>\n",
              "      <td>0.0</td>\n",
              "      <td>0.0</td>\n",
              "      <td>0.0</td>\n",
              "      <td>0.0</td>\n",
              "      <td>0.0</td>\n",
              "      <td>0.0</td>\n",
              "      <td>0.0</td>\n",
              "      <td>0.0</td>\n",
              "      <td>0.0</td>\n",
              "      <td>0.0</td>\n",
              "      <td>0.0</td>\n",
              "      <td>0.0</td>\n",
              "      <td>0.0</td>\n",
              "      <td>0.0</td>\n",
              "      <td>0.0</td>\n",
              "      <td>0.0</td>\n",
              "      <td>0.0</td>\n",
              "      <td>0.0</td>\n",
              "      <td>0.0</td>\n",
              "      <td>0.0</td>\n",
              "      <td>0.000000</td>\n",
              "      <td>0.000000</td>\n",
              "      <td>0.000000</td>\n",
              "      <td>0.00000</td>\n",
              "      <td>0.081866</td>\n",
              "      <td>0.0</td>\n",
              "    </tr>\n",
              "  </tbody>\n",
              "</table>\n",
              "</div>"
            ],
            "text/plain": [
              "         id  Immobilized_bus  Broken_Truck  ...  Hour_8:30  Hour_9:00  Hour_9:30\n",
              "0  0.230571              0.0           0.0  ...    0.00000   0.000000        0.0\n",
              "1  0.287006              0.0           0.0  ...    0.00000   0.000000        0.0\n",
              "2  0.324083              0.0           0.0  ...    0.00000   0.000000        0.0\n",
              "3  0.396760              0.0           0.0  ...    0.09919   0.000000        0.0\n",
              "4  0.409328              0.0           0.0  ...    0.00000   0.081866        0.0\n",
              "\n",
              "[5 rows x 44 columns]"
            ]
          },
          "metadata": {},
          "execution_count": 416
        }
      ]
    },
    {
      "cell_type": "code",
      "metadata": {
        "id": "uMBNEr2gW_Wn"
      },
      "source": [
        "X=data.drop(['Slowness_in_traffic_percent','id'],axis=1).values\n",
        "y=data['Slowness_in_traffic_percent'].values"
      ],
      "execution_count": null,
      "outputs": []
    },
    {
      "cell_type": "code",
      "metadata": {
        "colab": {
          "base_uri": "https://localhost:8080/"
        },
        "id": "iKltilASW_-U",
        "outputId": "356efbbc-7b9c-4846-c149-1c4e6ce2e631"
      },
      "source": [
        "X_shape = X.shape\n",
        "X_type  = type(X)\n",
        "y_shape = y.shape\n",
        "y_type  = type(y)\n",
        "print(f'X: Type-{X_type}, Shape-{X_shape}')\n",
        "print(f'y: Type-{y_type}, Shape-{y_shape}')"
      ],
      "execution_count": null,
      "outputs": [
        {
          "output_type": "stream",
          "name": "stdout",
          "text": [
            "X: Type-<class 'numpy.ndarray'>, Shape-(135, 42)\n",
            "y: Type-<class 'numpy.ndarray'>, Shape-(135,)\n"
          ]
        }
      ]
    },
    {
      "cell_type": "code",
      "metadata": {
        "colab": {
          "base_uri": "https://localhost:8080/"
        },
        "id": "UOmNs9jMXCJJ",
        "outputId": "c35bd1ed-5f01-49c8-ddc7-04f52b28f3bd"
      },
      "source": [
        "X_train, X_test, y_train, y_test = train_test_split(X,y,test_size=0.2,random_state=0)\n",
        "X_train_shape = X_train.shape\n",
        "y_train_shape = y_train.shape\n",
        "X_test_shape  = X_test.shape\n",
        "y_test_shape  = y_test.shape\n",
        "\n",
        "print(f\"X_train: {X_train_shape} , y_train: {y_train_shape}\")\n",
        "print(f\"X_test: {X_test_shape} , y_test: {y_test_shape}\")"
      ],
      "execution_count": null,
      "outputs": [
        {
          "output_type": "stream",
          "name": "stdout",
          "text": [
            "X_train: (108, 42) , y_train: (108,)\n",
            "X_test: (27, 42) , y_test: (27,)\n"
          ]
        }
      ]
    },
    {
      "cell_type": "code",
      "metadata": {
        "id": "8ZRQdnrHXHlV"
      },
      "source": [
        "model = LinearRegression(fit_intercept=True)\n",
        "model.fit(X_train, y_train)\n",
        "y_pred = model.predict(X_test)"
      ],
      "execution_count": null,
      "outputs": []
    },
    {
      "cell_type": "code",
      "metadata": {
        "colab": {
          "base_uri": "https://localhost:8080/"
        },
        "id": "b_dZAfHBXOcE",
        "outputId": "9fcc93b0-772e-407b-d2af-570dc3c5ec0e"
      },
      "source": [
        "mse = np.mean( (y - model.predict(X))**2 )\n",
        "print(\"MSE:\",mse)\n",
        "\n",
        "print(\"----------------------------------------------\")\n",
        "\n",
        "mae = mean_absolute_error(y_test, y_pred)\n",
        "print(\"Mean absolute error: \",mae)\n",
        "\n",
        "print(\"----------------------------------------------\")\n",
        "\n",
        "MAE = median_absolute_error(y_test, y_pred)\n",
        "print(\"Median absolute error: \",MAE)\n",
        "\n",
        "print(\"----------------------------------------------\")\n",
        "\n",
        "msle = mean_squared_log_error(y_test, y_pred)\n",
        "print(\"Mean squared logarithmic error: \",msle)\n",
        "\n",
        "print(\"----------------------------------------------\")\n",
        "\n",
        "me = max_error(y_test, y_pred)\n",
        "print(\"Max error: \",me)\n",
        "\n",
        "print(\"----------------------------------------------\")\n",
        "\n",
        "vscore= explained_variance_score(y_test, y_pred)\n",
        "print(\"Explained variance score: \",vscore)\n",
        "\n",
        "print(\"----------------------------------------------\")\n",
        "\n",
        "rscore = r2_score(y_test, y_pred)\n",
        "print(\"r2 score: \",rscore)"
      ],
      "execution_count": null,
      "outputs": [
        {
          "output_type": "stream",
          "name": "stdout",
          "text": [
            "MSE: 5.091807078854171\n",
            "----------------------------------------------\n",
            "Mean absolute error:  2.809458545067806\n",
            "----------------------------------------------\n",
            "Median absolute error:  2.166830171051224\n",
            "----------------------------------------------\n",
            "Mean squared logarithmic error:  0.10101311810989103\n",
            "----------------------------------------------\n",
            "Max error:  7.963189885259467\n",
            "----------------------------------------------\n",
            "Explained variance score:  0.24871772877689335\n",
            "----------------------------------------------\n",
            "r2 score:  0.23530838731669124\n"
          ]
        }
      ]
    },
    {
      "cell_type": "markdown",
      "metadata": {
        "id": "VSFKWUJfWm16"
      },
      "source": [
        "**Shuffling of training Samples**"
      ]
    },
    {
      "cell_type": "code",
      "metadata": {
        "colab": {
          "base_uri": "https://localhost:8080/"
        },
        "id": "0De7cX-QXctR",
        "outputId": "598a54cc-1bb7-4b30-b9dd-c68788add776"
      },
      "source": [
        "X_train, X_test, y_train, y_test = train_test_split(X,y,test_size=0.2,random_state=123)\n",
        "X_train_shape = X_train.shape\n",
        "y_train_shape = y_train.shape\n",
        "X_test_shape  = X_test.shape\n",
        "y_test_shape  = y_test.shape\n",
        "\n",
        "print(f\"X_train: {X_train_shape} , y_train: {y_train_shape}\")\n",
        "print(f\"X_test: {X_test_shape} , y_test: {y_test_shape}\")"
      ],
      "execution_count": null,
      "outputs": [
        {
          "output_type": "stream",
          "name": "stdout",
          "text": [
            "X_train: (108, 42) , y_train: (108,)\n",
            "X_test: (27, 42) , y_test: (27,)\n"
          ]
        }
      ]
    },
    {
      "cell_type": "code",
      "metadata": {
        "id": "PLyP9QblXcyh"
      },
      "source": [
        "model = LinearRegression(fit_intercept=True)\n",
        "model.fit(X_train, y_train)\n",
        "y_pred = model.predict(X_test)"
      ],
      "execution_count": null,
      "outputs": []
    },
    {
      "cell_type": "code",
      "metadata": {
        "colab": {
          "base_uri": "https://localhost:8080/"
        },
        "id": "kzKniTFaXnk6",
        "outputId": "547d05fe-2756-4d07-8b47-2cdabd2fa36a"
      },
      "source": [
        "mse = np.mean( (y - model.predict(X))**2 )\n",
        "print(\"MSE:\",mse)\n",
        "\n",
        "print(\"----------------------------------------------\")\n",
        "\n",
        "mae = mean_absolute_error(y_test, y_pred)\n",
        "print(\"Mean absolute error: \",mae)\n",
        "\n",
        "print(\"----------------------------------------------\")\n",
        "\n",
        "MAE = median_absolute_error(y_test, y_pred)\n",
        "print(\"Median absolute error: \",MAE)\n",
        "\n",
        "print(\"----------------------------------------------\")\n",
        "\n",
        "msle = mean_squared_log_error(y_test, y_pred)\n",
        "print(\"Mean squared logarithmic error: \",msle)\n",
        "\n",
        "print(\"----------------------------------------------\")\n",
        "\n",
        "me = max_error(y_test, y_pred)\n",
        "print(\"Max error: \",me)\n",
        "\n",
        "print(\"----------------------------------------------\")\n",
        "\n",
        "vscore= explained_variance_score(y_test, y_pred)\n",
        "print(\"Explained variance score: \",vscore)\n",
        "\n",
        "print(\"----------------------------------------------\")\n",
        "\n",
        "rscore = r2_score(y_test, y_pred)\n",
        "print(\"r2 score: \",rscore)"
      ],
      "execution_count": null,
      "outputs": [
        {
          "output_type": "stream",
          "name": "stdout",
          "text": [
            "MSE: 4.924662583437977\n",
            "----------------------------------------------\n",
            "Mean absolute error:  2.3079184700780275\n",
            "----------------------------------------------\n",
            "Median absolute error:  1.573451382673575\n",
            "----------------------------------------------\n",
            "Mean squared logarithmic error:  0.06805281413255128\n",
            "----------------------------------------------\n",
            "Max error:  9.5356867724017\n",
            "----------------------------------------------\n",
            "Explained variance score:  0.5030858894489112\n",
            "----------------------------------------------\n",
            "r2 score:  0.4831851264723166\n"
          ]
        }
      ]
    },
    {
      "cell_type": "code",
      "metadata": {
        "colab": {
          "base_uri": "https://localhost:8080/",
          "height": 320
        },
        "id": "hW14KSBGdInL",
        "outputId": "338d96c9-9f83-4978-ea7b-5c0f313f1b58"
      },
      "source": [
        "x = plot.add('Shuffling of samples',y_test,y_pred)\n",
        "plot.show(figsize=(10, 5))"
      ],
      "execution_count": null,
      "outputs": [
        {
          "output_type": "display_data",
          "data": {
            "image/png": "[encoded data removed]",
            "text/plain": [
              "<Figure size 720x360 with 1 Axes>"
            ]
          },
          "metadata": {
            "needs_background": "light"
          }
        }
      ]
    },
    {
      "cell_type": "markdown",
      "metadata": {
        "id": "MVbWSOvLYsot"
      },
      "source": [
        "MSE, Mean absolute error and Median absolute error has reduced after shuffling"
      ]
    },
    {
      "cell_type": "markdown",
      "metadata": {
        "id": "JGaQGgdtYi_r"
      },
      "source": [
        "**Polynomial regression (exploring degree 3,6)**"
      ]
    },
    {
      "cell_type": "code",
      "metadata": {
        "id": "vo_z7MzwYD8W"
      },
      "source": [
        "degree1 = 3\n",
        "degree2 = 6\n",
        "\n",
        "polyreg=make_pipeline(PolynomialFeatures(degree1),LinearRegression())\n",
        "polyreg.fit(X,y)\n",
        "y_pred=polyreg.predict(X_test)"
      ],
      "execution_count": null,
      "outputs": []
    },
    {
      "cell_type": "code",
      "metadata": {
        "colab": {
          "base_uri": "https://localhost:8080/"
        },
        "id": "RlXi6t9XY5dX",
        "outputId": "4adbc10f-d2ba-466c-f06a-5eadf05a685f"
      },
      "source": [
        "mse = mean_squared_error(y_test,y_pred)\n",
        "print(\"MSE:\",mse)\n",
        "\n",
        "print(\"----------------------------------------------\")\n",
        "\n",
        "mae = mean_absolute_error(y_test, y_pred)\n",
        "print(\"Mean absolute error: \",mae)\n",
        "\n",
        "print(\"----------------------------------------------\")\n",
        "\n",
        "MAE = median_absolute_error(y_test, y_pred)\n",
        "print(\"Median absolute error: \",MAE)\n",
        "\n",
        "print(\"----------------------------------------------\")\n",
        "\n",
        "msle = mean_squared_log_error(y_test, y_pred)\n",
        "print(\"Mean squared logarithmic error: \",msle)\n",
        "\n",
        "print(\"----------------------------------------------\")\n",
        "\n",
        "me = max_error(y_test, y_pred)\n",
        "print(\"Max error: \",me)\n",
        "\n",
        "print(\"----------------------------------------------\")\n",
        "\n",
        "vscore= explained_variance_score(y_test, y_pred)\n",
        "print(\"Explained variance score: \",vscore)\n",
        "\n",
        "print(\"----------------------------------------------\")\n",
        "\n",
        "rscore = r2_score(y_test, y_pred)\n",
        "print(\"r2 score: \",rscore)"
      ],
      "execution_count": null,
      "outputs": [
        {
          "output_type": "stream",
          "name": "stdout",
          "text": [
            "MSE: 0.16940711687215504\n",
            "----------------------------------------------\n",
            "Mean absolute error:  0.1357051142939813\n",
            "----------------------------------------------\n",
            "Median absolute error:  0.0030609130859371447\n",
            "----------------------------------------------\n",
            "Mean squared logarithmic error:  0.0013801124979989528\n",
            "----------------------------------------------\n",
            "Max error:  1.6479553222656254\n",
            "----------------------------------------------\n",
            "Explained variance score:  0.991081597852299\n",
            "----------------------------------------------\n",
            "r2 score:  0.9906791167569236\n"
          ]
        }
      ]
    },
    {
      "cell_type": "code",
      "metadata": {
        "colab": {
          "base_uri": "https://localhost:8080/",
          "height": 320
        },
        "id": "d30ZmHi1aE8P",
        "outputId": "774764dc-9d91-4b81-f626-f6c3fd85bc9a"
      },
      "source": [
        "x = plot.add('Polynomial regression(degree = 3)',y_test,y_pred)\n",
        "plot.show(figsize=(10, 5))"
      ],
      "execution_count": null,
      "outputs": [
        {
          "output_type": "display_data",
          "data": {
            "image/png": "[encoded data removed]",
            "text/plain": [
              "<Figure size 720x360 with 1 Axes>"
            ]
          },
          "metadata": {
            "needs_background": "light"
          }
        }
      ]
    },
    {
      "cell_type": "markdown",
      "metadata": {
        "id": "9NoMzpg_eA7k"
      },
      "source": [
        "**degree 3 of polynomial regression has given best results**\n",
        "\n"
      ]
    },
    {
      "cell_type": "markdown",
      "metadata": {
        "id": "KQvZeKaNfBnX"
      },
      "source": [
        "# **Classification metrics using any other dataset**"
      ]
    },
    {
      "cell_type": "code",
      "metadata": {
        "colab": {
          "base_uri": "https://localhost:8080/",
          "height": 237
        },
        "id": "A4_i_VVPdW51",
        "outputId": "ca26e665-d433-4c31-a9c6-f22b52ba6452"
      },
      "source": [
        "from sklearn.linear_model import LogisticRegression\n",
        "data = pd.read_csv(\"diabetes_data.csv\")\n",
        "data.head()"
      ],
      "execution_count": null,
      "outputs": [
        {
          "output_type": "execute_result",
          "data": {
            "text/html": [
              "<div>\n",
              "<style scoped>\n",
              "    .dataframe tbody tr th:only-of-type {\n",
              "        vertical-align: middle;\n",
              "    }\n",
              "\n",
              "    .dataframe tbody tr th {\n",
              "        vertical-align: top;\n",
              "    }\n",
              "\n",
              "    .dataframe thead th {\n",
              "        text-align: right;\n",
              "    }\n",
              "</style>\n",
              "<table border=\"1\" class=\"dataframe\">\n",
              "  <thead>\n",
              "    <tr style=\"text-align: right;\">\n",
              "      <th></th>\n",
              "      <th>Age</th>\n",
              "      <th>Gender</th>\n",
              "      <th>Polyuria</th>\n",
              "      <th>Polydipsia</th>\n",
              "      <th>sudden weight loss</th>\n",
              "      <th>weakness</th>\n",
              "      <th>Polyphagia</th>\n",
              "      <th>Genital thrush</th>\n",
              "      <th>visual blurring</th>\n",
              "      <th>Itching</th>\n",
              "      <th>Irritability</th>\n",
              "      <th>delayed healing</th>\n",
              "      <th>partial paresis</th>\n",
              "      <th>muscle stiffness</th>\n",
              "      <th>Alopecia</th>\n",
              "      <th>Obesity</th>\n",
              "      <th>class</th>\n",
              "    </tr>\n",
              "  </thead>\n",
              "  <tbody>\n",
              "    <tr>\n",
              "      <th>0</th>\n",
              "      <td>40</td>\n",
              "      <td>Male</td>\n",
              "      <td>No</td>\n",
              "      <td>Yes</td>\n",
              "      <td>No</td>\n",
              "      <td>Yes</td>\n",
              "      <td>No</td>\n",
              "      <td>No</td>\n",
              "      <td>No</td>\n",
              "      <td>Yes</td>\n",
              "      <td>No</td>\n",
              "      <td>Yes</td>\n",
              "      <td>No</td>\n",
              "      <td>Yes</td>\n",
              "      <td>Yes</td>\n",
              "      <td>Yes</td>\n",
              "      <td>Positive</td>\n",
              "    </tr>\n",
              "    <tr>\n",
              "      <th>1</th>\n",
              "      <td>58</td>\n",
              "      <td>Male</td>\n",
              "      <td>No</td>\n",
              "      <td>No</td>\n",
              "      <td>No</td>\n",
              "      <td>Yes</td>\n",
              "      <td>No</td>\n",
              "      <td>No</td>\n",
              "      <td>Yes</td>\n",
              "      <td>No</td>\n",
              "      <td>No</td>\n",
              "      <td>No</td>\n",
              "      <td>Yes</td>\n",
              "      <td>No</td>\n",
              "      <td>Yes</td>\n",
              "      <td>No</td>\n",
              "      <td>Positive</td>\n",
              "    </tr>\n",
              "    <tr>\n",
              "      <th>2</th>\n",
              "      <td>41</td>\n",
              "      <td>Male</td>\n",
              "      <td>Yes</td>\n",
              "      <td>No</td>\n",
              "      <td>No</td>\n",
              "      <td>Yes</td>\n",
              "      <td>Yes</td>\n",
              "      <td>No</td>\n",
              "      <td>No</td>\n",
              "      <td>Yes</td>\n",
              "      <td>No</td>\n",
              "      <td>Yes</td>\n",
              "      <td>No</td>\n",
              "      <td>Yes</td>\n",
              "      <td>Yes</td>\n",
              "      <td>No</td>\n",
              "      <td>Positive</td>\n",
              "    </tr>\n",
              "    <tr>\n",
              "      <th>3</th>\n",
              "      <td>45</td>\n",
              "      <td>Male</td>\n",
              "      <td>No</td>\n",
              "      <td>No</td>\n",
              "      <td>Yes</td>\n",
              "      <td>Yes</td>\n",
              "      <td>Yes</td>\n",
              "      <td>Yes</td>\n",
              "      <td>No</td>\n",
              "      <td>Yes</td>\n",
              "      <td>No</td>\n",
              "      <td>Yes</td>\n",
              "      <td>No</td>\n",
              "      <td>No</td>\n",
              "      <td>No</td>\n",
              "      <td>No</td>\n",
              "      <td>Positive</td>\n",
              "    </tr>\n",
              "    <tr>\n",
              "      <th>4</th>\n",
              "      <td>60</td>\n",
              "      <td>Male</td>\n",
              "      <td>Yes</td>\n",
              "      <td>Yes</td>\n",
              "      <td>Yes</td>\n",
              "      <td>Yes</td>\n",
              "      <td>Yes</td>\n",
              "      <td>No</td>\n",
              "      <td>Yes</td>\n",
              "      <td>Yes</td>\n",
              "      <td>Yes</td>\n",
              "      <td>Yes</td>\n",
              "      <td>Yes</td>\n",
              "      <td>Yes</td>\n",
              "      <td>Yes</td>\n",
              "      <td>Yes</td>\n",
              "      <td>Positive</td>\n",
              "    </tr>\n",
              "  </tbody>\n",
              "</table>\n",
              "</div>"
            ],
            "text/plain": [
              "   Age Gender Polyuria Polydipsia  ... muscle stiffness Alopecia Obesity     class\n",
              "0   40   Male       No        Yes  ...              Yes      Yes     Yes  Positive\n",
              "1   58   Male       No         No  ...               No      Yes      No  Positive\n",
              "2   41   Male      Yes         No  ...              Yes      Yes      No  Positive\n",
              "3   45   Male       No         No  ...               No       No      No  Positive\n",
              "4   60   Male      Yes        Yes  ...              Yes      Yes     Yes  Positive\n",
              "\n",
              "[5 rows x 17 columns]"
            ]
          },
          "metadata": {},
          "execution_count": 429
        }
      ]
    },
    {
      "cell_type": "code",
      "metadata": {
        "colab": {
          "base_uri": "https://localhost:8080/",
          "height": 237
        },
        "id": "HsKVmVDLfaVm",
        "outputId": "efb42bf1-f265-4d7e-f74c-74c3f0d08173"
      },
      "source": [
        "from sklearn import preprocessing   #.apply() for single line\n",
        "label_encoder = preprocessing.LabelEncoder()\n",
        "\n",
        "data['Gender']= label_encoder.fit_transform(data['Gender'])\n",
        "data['Polyuria']= label_encoder.fit_transform(data['Polyuria'])\n",
        "data['Polydipsia']= label_encoder.fit_transform(data['Polydipsia'])\n",
        "data['sudden weight loss']= label_encoder.fit_transform(data['sudden weight loss'])\n",
        "data['weakness']= label_encoder.fit_transform(data['weakness'])\n",
        "data['Polyphagia']= label_encoder.fit_transform(data['Polyphagia'])\n",
        "data['Genital thrush']= label_encoder.fit_transform(data['Genital thrush'])\n",
        "data['visual blurring']= label_encoder.fit_transform(data['visual blurring'])\n",
        "data['Itching']= label_encoder.fit_transform(data['Itching'])\n",
        "data['Irritability']= label_encoder.fit_transform(data['Irritability'])\n",
        "data['delayed healing']= label_encoder.fit_transform(data['delayed healing'])\n",
        "data['partial paresis']= label_encoder.fit_transform(data['partial paresis'])\n",
        "data['muscle stiffness']= label_encoder.fit_transform(data['muscle stiffness'])\n",
        "data['Alopecia']= label_encoder.fit_transform(data['Alopecia'])\n",
        "data['Obesity']= label_encoder.fit_transform(data['Obesity'])\n",
        "data['class']= label_encoder.fit_transform(data['class'])\n",
        "data.head()"
      ],
      "execution_count": null,
      "outputs": [
        {
          "output_type": "execute_result",
          "data": {
            "text/html": [
              "<div>\n",
              "<style scoped>\n",
              "    .dataframe tbody tr th:only-of-type {\n",
              "        vertical-align: middle;\n",
              "    }\n",
              "\n",
              "    .dataframe tbody tr th {\n",
              "        vertical-align: top;\n",
              "    }\n",
              "\n",
              "    .dataframe thead th {\n",
              "        text-align: right;\n",
              "    }\n",
              "</style>\n",
              "<table border=\"1\" class=\"dataframe\">\n",
              "  <thead>\n",
              "    <tr style=\"text-align: right;\">\n",
              "      <th></th>\n",
              "      <th>Age</th>\n",
              "      <th>Gender</th>\n",
              "      <th>Polyuria</th>\n",
              "      <th>Polydipsia</th>\n",
              "      <th>sudden weight loss</th>\n",
              "      <th>weakness</th>\n",
              "      <th>Polyphagia</th>\n",
              "      <th>Genital thrush</th>\n",
              "      <th>visual blurring</th>\n",
              "      <th>Itching</th>\n",
              "      <th>Irritability</th>\n",
              "      <th>delayed healing</th>\n",
              "      <th>partial paresis</th>\n",
              "      <th>muscle stiffness</th>\n",
              "      <th>Alopecia</th>\n",
              "      <th>Obesity</th>\n",
              "      <th>class</th>\n",
              "    </tr>\n",
              "  </thead>\n",
              "  <tbody>\n",
              "    <tr>\n",
              "      <th>0</th>\n",
              "      <td>40</td>\n",
              "      <td>1</td>\n",
              "      <td>0</td>\n",
              "      <td>1</td>\n",
              "      <td>0</td>\n",
              "      <td>1</td>\n",
              "      <td>0</td>\n",
              "      <td>0</td>\n",
              "      <td>0</td>\n",
              "      <td>1</td>\n",
              "      <td>0</td>\n",
              "      <td>1</td>\n",
              "      <td>0</td>\n",
              "      <td>1</td>\n",
              "      <td>1</td>\n",
              "      <td>1</td>\n",
              "      <td>1</td>\n",
              "    </tr>\n",
              "    <tr>\n",
              "      <th>1</th>\n",
              "      <td>58</td>\n",
              "      <td>1</td>\n",
              "      <td>0</td>\n",
              "      <td>0</td>\n",
              "      <td>0</td>\n",
              "      <td>1</td>\n",
              "      <td>0</td>\n",
              "      <td>0</td>\n",
              "      <td>1</td>\n",
              "      <td>0</td>\n",
              "      <td>0</td>\n",
              "      <td>0</td>\n",
              "      <td>1</td>\n",
              "      <td>0</td>\n",
              "      <td>1</td>\n",
              "      <td>0</td>\n",
              "      <td>1</td>\n",
              "    </tr>\n",
              "    <tr>\n",
              "      <th>2</th>\n",
              "      <td>41</td>\n",
              "      <td>1</td>\n",
              "      <td>1</td>\n",
              "      <td>0</td>\n",
              "      <td>0</td>\n",
              "      <td>1</td>\n",
              "      <td>1</td>\n",
              "      <td>0</td>\n",
              "      <td>0</td>\n",
              "      <td>1</td>\n",
              "      <td>0</td>\n",
              "      <td>1</td>\n",
              "      <td>0</td>\n",
              "      <td>1</td>\n",
              "      <td>1</td>\n",
              "      <td>0</td>\n",
              "      <td>1</td>\n",
              "    </tr>\n",
              "    <tr>\n",
              "      <th>3</th>\n",
              "      <td>45</td>\n",
              "      <td>1</td>\n",
              "      <td>0</td>\n",
              "      <td>0</td>\n",
              "      <td>1</td>\n",
              "      <td>1</td>\n",
              "      <td>1</td>\n",
              "      <td>1</td>\n",
              "      <td>0</td>\n",
              "      <td>1</td>\n",
              "      <td>0</td>\n",
              "      <td>1</td>\n",
              "      <td>0</td>\n",
              "      <td>0</td>\n",
              "      <td>0</td>\n",
              "      <td>0</td>\n",
              "      <td>1</td>\n",
              "    </tr>\n",
              "    <tr>\n",
              "      <th>4</th>\n",
              "      <td>60</td>\n",
              "      <td>1</td>\n",
              "      <td>1</td>\n",
              "      <td>1</td>\n",
              "      <td>1</td>\n",
              "      <td>1</td>\n",
              "      <td>1</td>\n",
              "      <td>0</td>\n",
              "      <td>1</td>\n",
              "      <td>1</td>\n",
              "      <td>1</td>\n",
              "      <td>1</td>\n",
              "      <td>1</td>\n",
              "      <td>1</td>\n",
              "      <td>1</td>\n",
              "      <td>1</td>\n",
              "      <td>1</td>\n",
              "    </tr>\n",
              "  </tbody>\n",
              "</table>\n",
              "</div>"
            ],
            "text/plain": [
              "   Age  Gender  Polyuria  ...  Alopecia  Obesity  class\n",
              "0   40       1         0  ...         1        1      1\n",
              "1   58       1         0  ...         1        0      1\n",
              "2   41       1         1  ...         1        0      1\n",
              "3   45       1         0  ...         0        0      1\n",
              "4   60       1         1  ...         1        1      1\n",
              "\n",
              "[5 rows x 17 columns]"
            ]
          },
          "metadata": {},
          "execution_count": 430
        }
      ]
    },
    {
      "cell_type": "code",
      "metadata": {
        "colab": {
          "base_uri": "https://localhost:8080/",
          "height": 257
        },
        "id": "xYuqWhEPgIxE",
        "outputId": "d2fcc783-0816-4874-fc29-7793b1631dee"
      },
      "source": [
        "normalize=(data.iloc[:,1]-data.iloc[:,1].mean())/data.iloc[:,1].std()\n",
        "#normalized_df=(df-df.mean())/df.std()\n",
        "data.insert(1, 'age normalize', normalize)\n",
        "data.head()"
      ],
      "execution_count": null,
      "outputs": [
        {
          "output_type": "execute_result",
          "data": {
            "text/html": [
              "<div>\n",
              "<style scoped>\n",
              "    .dataframe tbody tr th:only-of-type {\n",
              "        vertical-align: middle;\n",
              "    }\n",
              "\n",
              "    .dataframe tbody tr th {\n",
              "        vertical-align: top;\n",
              "    }\n",
              "\n",
              "    .dataframe thead th {\n",
              "        text-align: right;\n",
              "    }\n",
              "</style>\n",
              "<table border=\"1\" class=\"dataframe\">\n",
              "  <thead>\n",
              "    <tr style=\"text-align: right;\">\n",
              "      <th></th>\n",
              "      <th>Age</th>\n",
              "      <th>age normalize</th>\n",
              "      <th>Gender</th>\n",
              "      <th>Polyuria</th>\n",
              "      <th>Polydipsia</th>\n",
              "      <th>sudden weight loss</th>\n",
              "      <th>weakness</th>\n",
              "      <th>Polyphagia</th>\n",
              "      <th>Genital thrush</th>\n",
              "      <th>visual blurring</th>\n",
              "      <th>Itching</th>\n",
              "      <th>Irritability</th>\n",
              "      <th>delayed healing</th>\n",
              "      <th>partial paresis</th>\n",
              "      <th>muscle stiffness</th>\n",
              "      <th>Alopecia</th>\n",
              "      <th>Obesity</th>\n",
              "      <th>class</th>\n",
              "    </tr>\n",
              "  </thead>\n",
              "  <tbody>\n",
              "    <tr>\n",
              "      <th>0</th>\n",
              "      <td>40</td>\n",
              "      <td>0.764356</td>\n",
              "      <td>1</td>\n",
              "      <td>0</td>\n",
              "      <td>1</td>\n",
              "      <td>0</td>\n",
              "      <td>1</td>\n",
              "      <td>0</td>\n",
              "      <td>0</td>\n",
              "      <td>0</td>\n",
              "      <td>1</td>\n",
              "      <td>0</td>\n",
              "      <td>1</td>\n",
              "      <td>0</td>\n",
              "      <td>1</td>\n",
              "      <td>1</td>\n",
              "      <td>1</td>\n",
              "      <td>1</td>\n",
              "    </tr>\n",
              "    <tr>\n",
              "      <th>1</th>\n",
              "      <td>58</td>\n",
              "      <td>0.764356</td>\n",
              "      <td>1</td>\n",
              "      <td>0</td>\n",
              "      <td>0</td>\n",
              "      <td>0</td>\n",
              "      <td>1</td>\n",
              "      <td>0</td>\n",
              "      <td>0</td>\n",
              "      <td>1</td>\n",
              "      <td>0</td>\n",
              "      <td>0</td>\n",
              "      <td>0</td>\n",
              "      <td>1</td>\n",
              "      <td>0</td>\n",
              "      <td>1</td>\n",
              "      <td>0</td>\n",
              "      <td>1</td>\n",
              "    </tr>\n",
              "    <tr>\n",
              "      <th>2</th>\n",
              "      <td>41</td>\n",
              "      <td>0.764356</td>\n",
              "      <td>1</td>\n",
              "      <td>1</td>\n",
              "      <td>0</td>\n",
              "      <td>0</td>\n",
              "      <td>1</td>\n",
              "      <td>1</td>\n",
              "      <td>0</td>\n",
              "      <td>0</td>\n",
              "      <td>1</td>\n",
              "      <td>0</td>\n",
              "      <td>1</td>\n",
              "      <td>0</td>\n",
              "      <td>1</td>\n",
              "      <td>1</td>\n",
              "      <td>0</td>\n",
              "      <td>1</td>\n",
              "    </tr>\n",
              "    <tr>\n",
              "      <th>3</th>\n",
              "      <td>45</td>\n",
              "      <td>0.764356</td>\n",
              "      <td>1</td>\n",
              "      <td>0</td>\n",
              "      <td>0</td>\n",
              "      <td>1</td>\n",
              "      <td>1</td>\n",
              "      <td>1</td>\n",
              "      <td>1</td>\n",
              "      <td>0</td>\n",
              "      <td>1</td>\n",
              "      <td>0</td>\n",
              "      <td>1</td>\n",
              "      <td>0</td>\n",
              "      <td>0</td>\n",
              "      <td>0</td>\n",
              "      <td>0</td>\n",
              "      <td>1</td>\n",
              "    </tr>\n",
              "    <tr>\n",
              "      <th>4</th>\n",
              "      <td>60</td>\n",
              "      <td>0.764356</td>\n",
              "      <td>1</td>\n",
              "      <td>1</td>\n",
              "      <td>1</td>\n",
              "      <td>1</td>\n",
              "      <td>1</td>\n",
              "      <td>1</td>\n",
              "      <td>0</td>\n",
              "      <td>1</td>\n",
              "      <td>1</td>\n",
              "      <td>1</td>\n",
              "      <td>1</td>\n",
              "      <td>1</td>\n",
              "      <td>1</td>\n",
              "      <td>1</td>\n",
              "      <td>1</td>\n",
              "      <td>1</td>\n",
              "    </tr>\n",
              "  </tbody>\n",
              "</table>\n",
              "</div>"
            ],
            "text/plain": [
              "   Age  age normalize  Gender  ...  Alopecia  Obesity  class\n",
              "0   40       0.764356       1  ...         1        1      1\n",
              "1   58       0.764356       1  ...         1        0      1\n",
              "2   41       0.764356       1  ...         1        0      1\n",
              "3   45       0.764356       1  ...         0        0      1\n",
              "4   60       0.764356       1  ...         1        1      1\n",
              "\n",
              "[5 rows x 18 columns]"
            ]
          },
          "metadata": {},
          "execution_count": 431
        }
      ]
    },
    {
      "cell_type": "code",
      "metadata": {
        "id": "9GjemoucgOfA"
      },
      "source": [
        "X = data.drop([\"class\",\"Age\"], axis = 1).values\n",
        "y = data['class'].values"
      ],
      "execution_count": null,
      "outputs": []
    },
    {
      "cell_type": "code",
      "metadata": {
        "colab": {
          "base_uri": "https://localhost:8080/"
        },
        "id": "E_aJ7SgcgQBe",
        "outputId": "27d3aeca-9796-4026-c51a-eac5a08fea23"
      },
      "source": [
        "X_train, X_test, y_train, y_test = train_test_split(X,y,test_size=0.4,random_state=123)\n",
        "model = LogisticRegression(solver='liblinear', random_state=0)\n",
        "model.fit(X_train, y_train)"
      ],
      "execution_count": null,
      "outputs": [
        {
          "output_type": "execute_result",
          "data": {
            "text/plain": [
              "LogisticRegression(C=1.0, class_weight=None, dual=False, fit_intercept=True,\n",
              "                   intercept_scaling=1, l1_ratio=None, max_iter=100,\n",
              "                   multi_class='auto', n_jobs=None, penalty='l2',\n",
              "                   random_state=0, solver='liblinear', tol=0.0001, verbose=0,\n",
              "                   warm_start=False)"
            ]
          },
          "metadata": {},
          "execution_count": 433
        }
      ]
    },
    {
      "cell_type": "code",
      "metadata": {
        "colab": {
          "base_uri": "https://localhost:8080/"
        },
        "id": "gURl7OAbgWVZ",
        "outputId": "066b9ead-53c0-4ea5-97a6-9c0222664064"
      },
      "source": [
        "from sklearn.metrics import confusion_matrix\n",
        "\n",
        "y_pred = model.predict(X_test)\n",
        "cf_matrix = confusion_matrix(y_test, y_pred)\n",
        "cf_matrix"
      ],
      "execution_count": null,
      "outputs": [
        {
          "output_type": "execute_result",
          "data": {
            "text/plain": [
              "array([[ 76,   9],\n",
              "       [  9, 114]])"
            ]
          },
          "metadata": {},
          "execution_count": 434
        }
      ]
    },
    {
      "cell_type": "code",
      "metadata": {
        "colab": {
          "base_uri": "https://localhost:8080/",
          "height": 392
        },
        "id": "MFCZ5hWHiFx4",
        "outputId": "88efdd3f-f2e9-4346-8feb-3ecd84992b9d"
      },
      "source": [
        "import seaborn as sns\n",
        "plt.figure(figsize=(8,6))\n",
        "labels = ['True Neg','False Pos','False Neg','True Pos']\n",
        "labels = np.asarray(labels).reshape(2,2)\n",
        "plt.savefig(\"confusion_matrix_env\")\n",
        "sns.heatmap(cf_matrix, annot=labels,fmt='',cmap='coolwarm')"
      ],
      "execution_count": null,
      "outputs": [
        {
          "output_type": "execute_result",
          "data": {
            "text/plain": [
              "<matplotlib.axes._subplots.AxesSubplot at 0x7ff61cc69d90>"
            ]
          },
          "metadata": {},
          "execution_count": 435
        },
        {
          "output_type": "display_data",
          "data": {
            "image/png": "[encoded data removed]",
            "text/plain": [
              "<Figure size 576x432 with 2 Axes>"
            ]
          },
          "metadata": {
            "needs_background": "light"
          }
        }
      ]
    },
    {
      "cell_type": "code",
      "metadata": {
        "colab": {
          "base_uri": "https://localhost:8080/"
        },
        "id": "SzSAN-M6ghLf",
        "outputId": "8dba3f5a-7337-4084-9be5-f6acef5999a2"
      },
      "source": [
        "from sklearn.metrics import precision_score\n",
        "from sklearn.metrics import recall_score\n",
        "from sklearn.metrics import f1_score\n",
        "\n",
        "ps = precision_score(y_test, y_pred, average=None)\n",
        "print(\"Precision Score : \",ps)\n",
        "\n",
        "print(\"------------------------------------------------\")\n",
        "\n",
        "rs = recall_score(y_test, y_pred, average=None)\n",
        "print(\"Recall Score : \",rs)\n",
        "\n",
        "print(\"------------------------------------------------\")\n",
        "\n",
        "fs = f1_score(y_test, y_pred, average=None)\n",
        "print(\"F1 Score \",fs)"
      ],
      "execution_count": null,
      "outputs": [
        {
          "output_type": "stream",
          "name": "stdout",
          "text": [
            "Precision Score :  [0.89411765 0.92682927]\n",
            "------------------------------------------------\n",
            "Recall Score :  [0.89411765 0.92682927]\n",
            "------------------------------------------------\n",
            "F1 Score  [0.89411765 0.92682927]\n"
          ]
        }
      ]
    },
    {
      "cell_type": "code",
      "metadata": {
        "colab": {
          "base_uri": "https://localhost:8080/"
        },
        "id": "-yLiDzmIlI8K",
        "outputId": "f5edd862-d318-428b-d2f2-7d7b9544b5f6"
      },
      "source": [
        "from sklearn.metrics import classification_report\n",
        "print(classification_report(y_test, y_pred))"
      ],
      "execution_count": null,
      "outputs": [
        {
          "output_type": "stream",
          "name": "stdout",
          "text": [
            "              precision    recall  f1-score   support\n",
            "\n",
            "           0       0.89      0.89      0.89        85\n",
            "           1       0.93      0.93      0.93       123\n",
            "\n",
            "    accuracy                           0.91       208\n",
            "   macro avg       0.91      0.91      0.91       208\n",
            "weighted avg       0.91      0.91      0.91       208\n",
            "\n"
          ]
        }
      ]
    }
  ]
}