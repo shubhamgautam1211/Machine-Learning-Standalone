{
  "nbformat": 4,
  "nbformat_minor": 0,
  "metadata": {
    "colab": {
      "name": "SG-14_NaiveBayes Classifier.ipynb",
      "provenance": [],
      "collapsed_sections": [],
      "include_colab_link": true
    },
    "kernelspec": {
      "name": "python3",
      "display_name": "Python 3"
    },
    "language_info": {
      "name": "python"
    }
  },
  "cells": [
    {
      "cell_type": "markdown",
      "metadata": {
        "id": "view-in-github",
        "colab_type": "text"
      },
      "source": [
        "<a href=\"https://colab.research.google.com/github/shubhamgautam1211/Machine-Learning-Standalone/blob/main/SG_14_NaiveBayes_Classifier.ipynb\" target=\"_parent\"><img src=\"https://colab.research.google.com/assets/colab-badge.svg\" alt=\"Open In Colab\"/></a>"
      ]
    },
    {
      "cell_type": "code",
      "metadata": {
        "id": "iIlPfcZaEaes"
      },
      "source": [
        "import numpy as np\n",
        "import pandas as pd\n",
        "import matplotlib.pyplot as plt\n",
        "import seaborn as sns\n",
        "from sklearn.model_selection import train_test_split\n",
        "from sklearn import preprocessing\n",
        "from sklearn.model_selection import cross_validate\n",
        "from sklearn.preprocessing import StandardScaler\n",
        "from sklearn.linear_model import LogisticRegression\n",
        "from sklearn.metrics import accuracy_score\n",
        "from sklearn.model_selection import cross_val_score\n",
        "from sklearn.impute import SimpleImputer\n",
        "from sklearn import svm\n",
        "from statistics import mean\n",
        "from sklearn.model_selection import cross_val_predict\n",
        "from sklearn.metrics import confusion_matrix\n",
        "from sklearn.metrics import precision_score, recall_score\n",
        "from sklearn.metrics import f1_score\n",
        "from sklearn.metrics import precision_recall_curve\n",
        "from sklearn.metrics import accuracy_score"
      ],
      "execution_count": null,
      "outputs": []
    },
    {
      "cell_type": "code",
      "metadata": {
        "colab": {
          "base_uri": "https://localhost:8080/",
          "height": 206
        },
        "id": "eZ24CTtyJEOh",
        "outputId": "933261bd-82ad-45f5-b13b-fe434b1a440f"
      },
      "source": [
        "df = pd.read_csv('Titanic dataset.csv')\n",
        "df.head(5)"
      ],
      "execution_count": null,
      "outputs": [
        {
          "output_type": "execute_result",
          "data": {
            "text/html": [
              "<div>\n",
              "<style scoped>\n",
              "    .dataframe tbody tr th:only-of-type {\n",
              "        vertical-align: middle;\n",
              "    }\n",
              "\n",
              "    .dataframe tbody tr th {\n",
              "        vertical-align: top;\n",
              "    }\n",
              "\n",
              "    .dataframe thead th {\n",
              "        text-align: right;\n",
              "    }\n",
              "</style>\n",
              "<table border=\"1\" class=\"dataframe\">\n",
              "  <thead>\n",
              "    <tr style=\"text-align: right;\">\n",
              "      <th></th>\n",
              "      <th>pclass</th>\n",
              "      <th>survived</th>\n",
              "      <th>name</th>\n",
              "      <th>sex</th>\n",
              "      <th>age</th>\n",
              "      <th>sibsp</th>\n",
              "      <th>parch</th>\n",
              "      <th>ticket</th>\n",
              "      <th>fare</th>\n",
              "      <th>cabin</th>\n",
              "      <th>embarked</th>\n",
              "    </tr>\n",
              "  </thead>\n",
              "  <tbody>\n",
              "    <tr>\n",
              "      <th>0</th>\n",
              "      <td>1</td>\n",
              "      <td>1</td>\n",
              "      <td>Allen, Miss. Elisabeth Walton</td>\n",
              "      <td>female</td>\n",
              "      <td>29.0000</td>\n",
              "      <td>0</td>\n",
              "      <td>0</td>\n",
              "      <td>24160</td>\n",
              "      <td>211.3375</td>\n",
              "      <td>B5</td>\n",
              "      <td>S</td>\n",
              "    </tr>\n",
              "    <tr>\n",
              "      <th>1</th>\n",
              "      <td>1</td>\n",
              "      <td>1</td>\n",
              "      <td>Allison, Master. Hudson Trevor</td>\n",
              "      <td>male</td>\n",
              "      <td>0.9167</td>\n",
              "      <td>1</td>\n",
              "      <td>2</td>\n",
              "      <td>113781</td>\n",
              "      <td>151.5500</td>\n",
              "      <td>C22 C26</td>\n",
              "      <td>S</td>\n",
              "    </tr>\n",
              "    <tr>\n",
              "      <th>2</th>\n",
              "      <td>1</td>\n",
              "      <td>0</td>\n",
              "      <td>Allison, Miss. Helen Loraine</td>\n",
              "      <td>female</td>\n",
              "      <td>2.0000</td>\n",
              "      <td>1</td>\n",
              "      <td>2</td>\n",
              "      <td>113781</td>\n",
              "      <td>151.5500</td>\n",
              "      <td>C22 C26</td>\n",
              "      <td>S</td>\n",
              "    </tr>\n",
              "    <tr>\n",
              "      <th>3</th>\n",
              "      <td>1</td>\n",
              "      <td>0</td>\n",
              "      <td>Allison, Mr. Hudson Joshua Creighton</td>\n",
              "      <td>male</td>\n",
              "      <td>30.0000</td>\n",
              "      <td>1</td>\n",
              "      <td>2</td>\n",
              "      <td>113781</td>\n",
              "      <td>151.5500</td>\n",
              "      <td>C22 C26</td>\n",
              "      <td>S</td>\n",
              "    </tr>\n",
              "    <tr>\n",
              "      <th>4</th>\n",
              "      <td>1</td>\n",
              "      <td>0</td>\n",
              "      <td>Allison, Mrs. Hudson J C (Bessie Waldo Daniels)</td>\n",
              "      <td>female</td>\n",
              "      <td>25.0000</td>\n",
              "      <td>1</td>\n",
              "      <td>2</td>\n",
              "      <td>113781</td>\n",
              "      <td>151.5500</td>\n",
              "      <td>C22 C26</td>\n",
              "      <td>S</td>\n",
              "    </tr>\n",
              "  </tbody>\n",
              "</table>\n",
              "</div>"
            ],
            "text/plain": [
              "   pclass  survived  ...    cabin embarked\n",
              "0       1         1  ...       B5        S\n",
              "1       1         1  ...  C22 C26        S\n",
              "2       1         0  ...  C22 C26        S\n",
              "3       1         0  ...  C22 C26        S\n",
              "4       1         0  ...  C22 C26        S\n",
              "\n",
              "[5 rows x 11 columns]"
            ]
          },
          "metadata": {},
          "execution_count": 2
        }
      ]
    },
    {
      "cell_type": "code",
      "metadata": {
        "colab": {
          "base_uri": "https://localhost:8080/"
        },
        "id": "96yboEsMKnT-",
        "outputId": "141f9e7e-089c-4994-c641-fdbf5b13d869"
      },
      "source": [
        "df.nunique()"
      ],
      "execution_count": null,
      "outputs": [
        {
          "output_type": "execute_result",
          "data": {
            "text/plain": [
              "pclass         3\n",
              "survived       2\n",
              "name        1307\n",
              "sex            2\n",
              "age           98\n",
              "sibsp          7\n",
              "parch          8\n",
              "ticket       929\n",
              "fare         281\n",
              "cabin        186\n",
              "embarked       3\n",
              "dtype: int64"
            ]
          },
          "metadata": {},
          "execution_count": 3
        }
      ]
    },
    {
      "cell_type": "code",
      "metadata": {
        "id": "UxqsR76xLQTA"
      },
      "source": [
        "df['sex'] = df['sex'].replace([\"female\", \"male\"], [0, 1])\n",
        "df['embarked'] = df['embarked'].replace(['S', 'C', 'Q'], [1, 2, 3])"
      ],
      "execution_count": null,
      "outputs": []
    },
    {
      "cell_type": "code",
      "metadata": {
        "colab": {
          "base_uri": "https://localhost:8080/",
          "height": 525
        },
        "id": "XL1ajXDPJfMH",
        "outputId": "585529d1-1a75-4ad5-bf8c-300ba6bc9ef3"
      },
      "source": [
        "df.hist(figsize=(7,7),color='r',edgecolor='black')\n",
        "plt.tight_layout(pad=0.5)\n",
        "plt.show()"
      ],
      "execution_count": null,
      "outputs": [
        {
          "output_type": "display_data",
          "data": {
            "image/png": "[encoded data removed]",
            "text/plain": [
              "<Figure size 504x504 with 9 Axes>"
            ]
          },
          "metadata": {
            "needs_background": "light"
          }
        }
      ]
    },
    {
      "cell_type": "code",
      "metadata": {
        "colab": {
          "base_uri": "https://localhost:8080/",
          "height": 441
        },
        "id": "TztwQEiPLMkG",
        "outputId": "cff86d9e-283b-408a-b2a7-22a5bb8557e9"
      },
      "source": [
        "corr = df.corr()           # closer to 1,-1 more is the co-relation \n",
        "plt.figure(figsize=(8,6))\n",
        "sns.heatmap(corr,annot=True,cmap = \"coolwarm\")\n",
        "plt.tight_layout()\n",
        "plt.show()"
      ],
      "execution_count": null,
      "outputs": [
        {
          "output_type": "display_data",
          "data": {
            "image/png": "[encoded data removed]",
            "text/plain": [
              "<Figure size 576x432 with 2 Axes>"
            ]
          },
          "metadata": {
            "needs_background": "light"
          }
        }
      ]
    },
    {
      "cell_type": "markdown",
      "metadata": {
        "id": "QK8ZHpEdQaTO"
      },
      "source": [
        "###**Also 'Pclass' and 'fare' are -0.56, so had to remove one among them**\n",
        "\n",
        "###**Cabin is having 1014 missing values**\n",
        "\n",
        "### **Name , ticket no. is containing string**\n"
      ]
    },
    {
      "cell_type": "code",
      "metadata": {
        "colab": {
          "base_uri": "https://localhost:8080/",
          "height": 206
        },
        "id": "ZoaTbjUxQXLe",
        "outputId": "bcb09513-9600-4045-c0f8-ba8682a98cf0"
      },
      "source": [
        "df.drop(['pclass','cabin','name','ticket'],axis=1,inplace=True)\n",
        "df.head(5)"
      ],
      "execution_count": null,
      "outputs": [
        {
          "output_type": "execute_result",
          "data": {
            "text/html": [
              "<div>\n",
              "<style scoped>\n",
              "    .dataframe tbody tr th:only-of-type {\n",
              "        vertical-align: middle;\n",
              "    }\n",
              "\n",
              "    .dataframe tbody tr th {\n",
              "        vertical-align: top;\n",
              "    }\n",
              "\n",
              "    .dataframe thead th {\n",
              "        text-align: right;\n",
              "    }\n",
              "</style>\n",
              "<table border=\"1\" class=\"dataframe\">\n",
              "  <thead>\n",
              "    <tr style=\"text-align: right;\">\n",
              "      <th></th>\n",
              "      <th>survived</th>\n",
              "      <th>sex</th>\n",
              "      <th>age</th>\n",
              "      <th>sibsp</th>\n",
              "      <th>parch</th>\n",
              "      <th>fare</th>\n",
              "      <th>embarked</th>\n",
              "    </tr>\n",
              "  </thead>\n",
              "  <tbody>\n",
              "    <tr>\n",
              "      <th>0</th>\n",
              "      <td>1</td>\n",
              "      <td>0</td>\n",
              "      <td>29.0000</td>\n",
              "      <td>0</td>\n",
              "      <td>0</td>\n",
              "      <td>211.3375</td>\n",
              "      <td>1.0</td>\n",
              "    </tr>\n",
              "    <tr>\n",
              "      <th>1</th>\n",
              "      <td>1</td>\n",
              "      <td>1</td>\n",
              "      <td>0.9167</td>\n",
              "      <td>1</td>\n",
              "      <td>2</td>\n",
              "      <td>151.5500</td>\n",
              "      <td>1.0</td>\n",
              "    </tr>\n",
              "    <tr>\n",
              "      <th>2</th>\n",
              "      <td>0</td>\n",
              "      <td>0</td>\n",
              "      <td>2.0000</td>\n",
              "      <td>1</td>\n",
              "      <td>2</td>\n",
              "      <td>151.5500</td>\n",
              "      <td>1.0</td>\n",
              "    </tr>\n",
              "    <tr>\n",
              "      <th>3</th>\n",
              "      <td>0</td>\n",
              "      <td>1</td>\n",
              "      <td>30.0000</td>\n",
              "      <td>1</td>\n",
              "      <td>2</td>\n",
              "      <td>151.5500</td>\n",
              "      <td>1.0</td>\n",
              "    </tr>\n",
              "    <tr>\n",
              "      <th>4</th>\n",
              "      <td>0</td>\n",
              "      <td>0</td>\n",
              "      <td>25.0000</td>\n",
              "      <td>1</td>\n",
              "      <td>2</td>\n",
              "      <td>151.5500</td>\n",
              "      <td>1.0</td>\n",
              "    </tr>\n",
              "  </tbody>\n",
              "</table>\n",
              "</div>"
            ],
            "text/plain": [
              "   survived  sex      age  sibsp  parch      fare  embarked\n",
              "0         1    0  29.0000      0      0  211.3375       1.0\n",
              "1         1    1   0.9167      1      2  151.5500       1.0\n",
              "2         0    0   2.0000      1      2  151.5500       1.0\n",
              "3         0    1  30.0000      1      2  151.5500       1.0\n",
              "4         0    0  25.0000      1      2  151.5500       1.0"
            ]
          },
          "metadata": {},
          "execution_count": 7
        }
      ]
    },
    {
      "cell_type": "markdown",
      "metadata": {
        "id": "kpuhKNmOf5Rg"
      },
      "source": [
        "## **Imputing missing values**"
      ]
    },
    {
      "cell_type": "code",
      "metadata": {
        "colab": {
          "base_uri": "https://localhost:8080/"
        },
        "id": "6OFYvQm-TScy",
        "outputId": "f02e3a9d-1279-4c91-c598-bc5883399c8a"
      },
      "source": [
        "df.isnull().sum()"
      ],
      "execution_count": null,
      "outputs": [
        {
          "output_type": "execute_result",
          "data": {
            "text/plain": [
              "survived      0\n",
              "sex           0\n",
              "age         263\n",
              "sibsp         0\n",
              "parch         0\n",
              "fare          1\n",
              "embarked      2\n",
              "dtype: int64"
            ]
          },
          "metadata": {},
          "execution_count": 8
        }
      ]
    },
    {
      "cell_type": "code",
      "metadata": {
        "colab": {
          "base_uri": "https://localhost:8080/",
          "height": 206
        },
        "id": "mAH08MWuVy1W",
        "outputId": "c9ee3b62-b04b-4923-a6c7-e4be6b47eaf5"
      },
      "source": [
        "imp = SimpleImputer(missing_values=np.nan,strategy='mean')\n",
        "df2 = df.copy()\n",
        "df2 = imp.fit_transform(df2)\n",
        "df2 = pd.DataFrame(df2,columns=df.columns)\n",
        "\n",
        "df2.head()"
      ],
      "execution_count": null,
      "outputs": [
        {
          "output_type": "execute_result",
          "data": {
            "text/html": [
              "<div>\n",
              "<style scoped>\n",
              "    .dataframe tbody tr th:only-of-type {\n",
              "        vertical-align: middle;\n",
              "    }\n",
              "\n",
              "    .dataframe tbody tr th {\n",
              "        vertical-align: top;\n",
              "    }\n",
              "\n",
              "    .dataframe thead th {\n",
              "        text-align: right;\n",
              "    }\n",
              "</style>\n",
              "<table border=\"1\" class=\"dataframe\">\n",
              "  <thead>\n",
              "    <tr style=\"text-align: right;\">\n",
              "      <th></th>\n",
              "      <th>survived</th>\n",
              "      <th>sex</th>\n",
              "      <th>age</th>\n",
              "      <th>sibsp</th>\n",
              "      <th>parch</th>\n",
              "      <th>fare</th>\n",
              "      <th>embarked</th>\n",
              "    </tr>\n",
              "  </thead>\n",
              "  <tbody>\n",
              "    <tr>\n",
              "      <th>0</th>\n",
              "      <td>1.0</td>\n",
              "      <td>0.0</td>\n",
              "      <td>29.0000</td>\n",
              "      <td>0.0</td>\n",
              "      <td>0.0</td>\n",
              "      <td>211.3375</td>\n",
              "      <td>1.0</td>\n",
              "    </tr>\n",
              "    <tr>\n",
              "      <th>1</th>\n",
              "      <td>1.0</td>\n",
              "      <td>1.0</td>\n",
              "      <td>0.9167</td>\n",
              "      <td>1.0</td>\n",
              "      <td>2.0</td>\n",
              "      <td>151.5500</td>\n",
              "      <td>1.0</td>\n",
              "    </tr>\n",
              "    <tr>\n",
              "      <th>2</th>\n",
              "      <td>0.0</td>\n",
              "      <td>0.0</td>\n",
              "      <td>2.0000</td>\n",
              "      <td>1.0</td>\n",
              "      <td>2.0</td>\n",
              "      <td>151.5500</td>\n",
              "      <td>1.0</td>\n",
              "    </tr>\n",
              "    <tr>\n",
              "      <th>3</th>\n",
              "      <td>0.0</td>\n",
              "      <td>1.0</td>\n",
              "      <td>30.0000</td>\n",
              "      <td>1.0</td>\n",
              "      <td>2.0</td>\n",
              "      <td>151.5500</td>\n",
              "      <td>1.0</td>\n",
              "    </tr>\n",
              "    <tr>\n",
              "      <th>4</th>\n",
              "      <td>0.0</td>\n",
              "      <td>0.0</td>\n",
              "      <td>25.0000</td>\n",
              "      <td>1.0</td>\n",
              "      <td>2.0</td>\n",
              "      <td>151.5500</td>\n",
              "      <td>1.0</td>\n",
              "    </tr>\n",
              "  </tbody>\n",
              "</table>\n",
              "</div>"
            ],
            "text/plain": [
              "   survived  sex      age  sibsp  parch      fare  embarked\n",
              "0       1.0  0.0  29.0000    0.0    0.0  211.3375       1.0\n",
              "1       1.0  1.0   0.9167    1.0    2.0  151.5500       1.0\n",
              "2       0.0  0.0   2.0000    1.0    2.0  151.5500       1.0\n",
              "3       0.0  1.0  30.0000    1.0    2.0  151.5500       1.0\n",
              "4       0.0  0.0  25.0000    1.0    2.0  151.5500       1.0"
            ]
          },
          "metadata": {},
          "execution_count": 9
        }
      ]
    },
    {
      "cell_type": "code",
      "metadata": {
        "colab": {
          "base_uri": "https://localhost:8080/"
        },
        "id": "-_fAc3owWyIc",
        "outputId": "2e77ce86-075d-47ab-86c0-f55553e877da"
      },
      "source": [
        "df2.isnull().sum()"
      ],
      "execution_count": null,
      "outputs": [
        {
          "output_type": "execute_result",
          "data": {
            "text/plain": [
              "survived    0\n",
              "sex         0\n",
              "age         0\n",
              "sibsp       0\n",
              "parch       0\n",
              "fare        0\n",
              "embarked    0\n",
              "dtype: int64"
            ]
          },
          "metadata": {},
          "execution_count": 10
        }
      ]
    },
    {
      "cell_type": "markdown",
      "metadata": {
        "id": "H99DF3mpf9hb"
      },
      "source": [
        "## **Check for the outliers in the columns and treat the outliers if present**"
      ]
    },
    {
      "cell_type": "code",
      "metadata": {
        "colab": {
          "base_uri": "https://localhost:8080/",
          "height": 606
        },
        "id": "o0XxcGCkTXC0",
        "outputId": "5f55a437-29e1-4f86-a26f-6cdd145c8618"
      },
      "source": [
        "plt.figure(figsize=(18,10))\n",
        "plt.subplot(3,2,1)\n",
        "sns.boxplot(x = df2['age'],palette='Dark2')\n",
        "plt.subplot(3,2,2)\n",
        "sns.boxplot(x = df2['sibsp'],palette='Dark2')\n",
        "plt.subplot(3,2,3)\n",
        "sns.boxplot(x = df2['parch'],palette='Dark2')\n",
        "plt.subplot(3,2,4)\n",
        "sns.boxplot(x = df2['embarked'],palette='Dark2')\n",
        "plt.subplot(3,2,5)\n",
        "sns.boxplot(x = df2['fare'],palette='Dark2')\n",
        "plt.subplot(3,2,6)\n",
        "sns.boxplot(x = df2['survived'],palette='Dark2')\n",
        "plt.show()"
      ],
      "execution_count": null,
      "outputs": [
        {
          "output_type": "display_data",
          "data": {
            "image/png": "[encoded data removed]",
            "text/plain": [
              "<Figure size 1296x720 with 6 Axes>"
            ]
          },
          "metadata": {
            "needs_background": "light"
          }
        }
      ]
    },
    {
      "cell_type": "markdown",
      "metadata": {
        "id": "Nlj_b5_TVNQ9"
      },
      "source": [
        "## **Fare having most number of outliers**\n",
        "\n",
        "## **Exploring Treating outliers using both log transformation and Inter-Quartile Range**"
      ]
    },
    {
      "cell_type": "code",
      "metadata": {
        "colab": {
          "base_uri": "https://localhost:8080/"
        },
        "id": "E_xbgV7AVq6u",
        "outputId": "cb8b75b1-3ec8-49f1-fa47-fd6a6c610df4"
      },
      "source": [
        "'''df2[\"fare2\"] = df2[\"fare\"].map(lambda i: np.log(i) if i > 0 else 0)\n",
        "\n",
        "print(\"Skew before : \", df2['fare'].skew())\n",
        "print(\"Skew after : \",df2['fare2'].skew())'''"
      ],
      "execution_count": null,
      "outputs": [
        {
          "output_type": "stream",
          "name": "stdout",
          "text": [
            "Skew before :  4.369374593951007\n",
            "Skew after :  0.5675043861986597\n"
          ]
        }
      ]
    },
    {
      "cell_type": "code",
      "metadata": {
        "colab": {
          "base_uri": "https://localhost:8080/",
          "height": 334
        },
        "id": "viIoiEbXZa_J",
        "outputId": "b518e48d-20ed-45c1-e460-db93853177e2"
      },
      "source": [
        "'''plt.figure(figsize=(12,5))            # comparing before and after applying log \n",
        "plt.subplot(1,2,1)\n",
        "sns.boxplot(x = df2['fare'],palette='Dark2')\n",
        "plt.subplot(1,2,2)\n",
        "sns.boxplot(x = df2['fare2'],palette='Dark2')\n",
        "\n",
        "plt.show()'''"
      ],
      "execution_count": null,
      "outputs": [
        {
          "output_type": "display_data",
          "data": {
            "image/png": "[encoded data removed]",
            "text/plain": [
              "<Figure size 864x360 with 2 Axes>"
            ]
          },
          "metadata": {
            "needs_background": "light"
          }
        }
      ]
    },
    {
      "cell_type": "code",
      "metadata": {
        "colab": {
          "base_uri": "https://localhost:8080/",
          "height": 206
        },
        "id": "MXDrI-acaUA1",
        "outputId": "1c1cc594-4dc8-4fb1-9e54-002284b84110"
      },
      "source": [
        "'''df2.head()'''"
      ],
      "execution_count": null,
      "outputs": [
        {
          "output_type": "execute_result",
          "data": {
            "text/html": [
              "<div>\n",
              "<style scoped>\n",
              "    .dataframe tbody tr th:only-of-type {\n",
              "        vertical-align: middle;\n",
              "    }\n",
              "\n",
              "    .dataframe tbody tr th {\n",
              "        vertical-align: top;\n",
              "    }\n",
              "\n",
              "    .dataframe thead th {\n",
              "        text-align: right;\n",
              "    }\n",
              "</style>\n",
              "<table border=\"1\" class=\"dataframe\">\n",
              "  <thead>\n",
              "    <tr style=\"text-align: right;\">\n",
              "      <th></th>\n",
              "      <th>survived</th>\n",
              "      <th>sex</th>\n",
              "      <th>age</th>\n",
              "      <th>sibsp</th>\n",
              "      <th>parch</th>\n",
              "      <th>fare</th>\n",
              "      <th>embarked</th>\n",
              "      <th>fare2</th>\n",
              "    </tr>\n",
              "  </thead>\n",
              "  <tbody>\n",
              "    <tr>\n",
              "      <th>0</th>\n",
              "      <td>1.0</td>\n",
              "      <td>0.0</td>\n",
              "      <td>29.0000</td>\n",
              "      <td>0.0</td>\n",
              "      <td>0.0</td>\n",
              "      <td>211.3375</td>\n",
              "      <td>1.0</td>\n",
              "      <td>5.353456</td>\n",
              "    </tr>\n",
              "    <tr>\n",
              "      <th>1</th>\n",
              "      <td>1.0</td>\n",
              "      <td>1.0</td>\n",
              "      <td>0.9167</td>\n",
              "      <td>1.0</td>\n",
              "      <td>2.0</td>\n",
              "      <td>151.5500</td>\n",
              "      <td>1.0</td>\n",
              "      <td>5.020916</td>\n",
              "    </tr>\n",
              "    <tr>\n",
              "      <th>2</th>\n",
              "      <td>0.0</td>\n",
              "      <td>0.0</td>\n",
              "      <td>2.0000</td>\n",
              "      <td>1.0</td>\n",
              "      <td>2.0</td>\n",
              "      <td>151.5500</td>\n",
              "      <td>1.0</td>\n",
              "      <td>5.020916</td>\n",
              "    </tr>\n",
              "    <tr>\n",
              "      <th>3</th>\n",
              "      <td>0.0</td>\n",
              "      <td>1.0</td>\n",
              "      <td>30.0000</td>\n",
              "      <td>1.0</td>\n",
              "      <td>2.0</td>\n",
              "      <td>151.5500</td>\n",
              "      <td>1.0</td>\n",
              "      <td>5.020916</td>\n",
              "    </tr>\n",
              "    <tr>\n",
              "      <th>4</th>\n",
              "      <td>0.0</td>\n",
              "      <td>0.0</td>\n",
              "      <td>25.0000</td>\n",
              "      <td>1.0</td>\n",
              "      <td>2.0</td>\n",
              "      <td>151.5500</td>\n",
              "      <td>1.0</td>\n",
              "      <td>5.020916</td>\n",
              "    </tr>\n",
              "  </tbody>\n",
              "</table>\n",
              "</div>"
            ],
            "text/plain": [
              "   survived  sex      age  sibsp  parch      fare  embarked     fare2\n",
              "0       1.0  0.0  29.0000    0.0    0.0  211.3375       1.0  5.353456\n",
              "1       1.0  1.0   0.9167    1.0    2.0  151.5500       1.0  5.020916\n",
              "2       0.0  0.0   2.0000    1.0    2.0  151.5500       1.0  5.020916\n",
              "3       0.0  1.0  30.0000    1.0    2.0  151.5500       1.0  5.020916\n",
              "4       0.0  0.0  25.0000    1.0    2.0  151.5500       1.0  5.020916"
            ]
          },
          "metadata": {},
          "execution_count": 135
        }
      ]
    },
    {
      "cell_type": "markdown",
      "metadata": {
        "id": "HDnqE_o17Zr-"
      },
      "source": [
        "## **Inter quartile giving better results than log transform**"
      ]
    },
    {
      "cell_type": "code",
      "metadata": {
        "id": "R-lHWOVWdoD9"
      },
      "source": [
        "def outlier_treatment(datacolumn):\n",
        "    sorted(datacolumn)\n",
        "    Q1,Q3 = np.percentile(datacolumn , [25,75])\n",
        "    IQR = Q3 - Q1\n",
        "    lower_range = Q1 - (1.5 * IQR)\n",
        "    upper_range = Q3 + (1.5 * IQR)\n",
        "    return lower_range,upper_range"
      ],
      "execution_count": null,
      "outputs": []
    },
    {
      "cell_type": "code",
      "metadata": {
        "id": "BZiLQ62vdoKy",
        "colab": {
          "base_uri": "https://localhost:8080/"
        },
        "outputId": "6487a5a8-0d67-4e06-e6b3-cbaf195e00f2"
      },
      "source": [
        "outlier_cols = [\"fare\"] \n",
        "for col in outlier_cols:\n",
        "  l,u = outlier_treatment(df2[col])\n",
        "  df3 = df2[ (df2[col] > u) | (df2[col] < l) ]\n",
        "  df2.drop(df3.index , inplace=True)\n",
        "\n",
        "df2.shape"
      ],
      "execution_count": null,
      "outputs": [
        {
          "output_type": "execute_result",
          "data": {
            "text/plain": [
              "(1138, 7)"
            ]
          },
          "metadata": {},
          "execution_count": 13
        }
      ]
    },
    {
      "cell_type": "markdown",
      "metadata": {
        "id": "2BgJKRBPnxA8"
      },
      "source": [
        "# **Split the dataset into train and test.**"
      ]
    },
    {
      "cell_type": "code",
      "metadata": {
        "colab": {
          "base_uri": "https://localhost:8080/"
        },
        "id": "briyK7QBaOrq",
        "outputId": "e6453309-4915-44df-ac98-be5b69b13774"
      },
      "source": [
        "X_feature = df2.loc[:, df2.columns != 'survived']\n",
        "Y_target = df2.loc[:, df2.columns == 'survived']\n",
        "\n",
        "print(X_feature.shape)\n",
        "print(Y_target.shape)"
      ],
      "execution_count": null,
      "outputs": [
        {
          "output_type": "stream",
          "name": "stdout",
          "text": [
            "(1138, 6)\n",
            "(1138, 1)\n"
          ]
        }
      ]
    },
    {
      "cell_type": "code",
      "metadata": {
        "colab": {
          "base_uri": "https://localhost:8080/"
        },
        "id": "iQy01UJuhikn",
        "outputId": "7db19ed8-9da4-4b62-885c-ac6087788845"
      },
      "source": [
        "from sklearn.model_selection import train_test_split\n",
        "X_train, X_test, Y_train, Y_test = train_test_split(X_feature, Y_target, test_size = 0.2,random_state = 10)\n",
        "print(X_train.shape)\n",
        "print(X_test.shape)\n",
        "print(Y_train.shape)\n",
        "print(Y_test.shape)"
      ],
      "execution_count": null,
      "outputs": [
        {
          "output_type": "stream",
          "name": "stdout",
          "text": [
            "(910, 6)\n",
            "(228, 6)\n",
            "(910, 1)\n",
            "(228, 1)\n"
          ]
        }
      ]
    },
    {
      "cell_type": "markdown",
      "metadata": {
        "id": "N20NfQwdn7zR"
      },
      "source": [
        "# **Construct Naïve Bayes model**"
      ]
    },
    {
      "cell_type": "code",
      "metadata": {
        "id": "nRW6YoL0qgeQ"
      },
      "source": [
        "from sklearn.naive_bayes import GaussianNB  \n",
        "classifier = GaussianNB() "
      ],
      "execution_count": null,
      "outputs": []
    },
    {
      "cell_type": "code",
      "metadata": {
        "colab": {
          "base_uri": "https://localhost:8080/"
        },
        "id": "KdHWQavlob6Q",
        "outputId": "bb52f0ba-483d-4b42-b177-b855b43b4e7e"
      },
      "source": [
        "Train_pred = classifier.fit(X_train, Y_train.values.ravel())\n",
        "Train_pred"
      ],
      "execution_count": null,
      "outputs": [
        {
          "output_type": "execute_result",
          "data": {
            "text/plain": [
              "GaussianNB(priors=None, var_smoothing=1e-09)"
            ]
          },
          "metadata": {},
          "execution_count": 17
        }
      ]
    },
    {
      "cell_type": "code",
      "metadata": {
        "colab": {
          "base_uri": "https://localhost:8080/"
        },
        "id": "R_ci1JKktxvr",
        "outputId": "450f2763-d87d-43ea-b864-12a156fff35b"
      },
      "source": [
        "Test_pred = classifier.fit(X_test, Y_test.values.ravel())\n",
        "Test_pred"
      ],
      "execution_count": null,
      "outputs": [
        {
          "output_type": "execute_result",
          "data": {
            "text/plain": [
              "GaussianNB(priors=None, var_smoothing=1e-09)"
            ]
          },
          "metadata": {},
          "execution_count": 18
        }
      ]
    },
    {
      "cell_type": "markdown",
      "metadata": {
        "id": "fu2PEZIb1KaS"
      },
      "source": [
        "**Accuracy score**"
      ]
    },
    {
      "cell_type": "code",
      "metadata": {
        "colab": {
          "base_uri": "https://localhost:8080/"
        },
        "id": "dmZaPtA5q95U",
        "outputId": "c277d0d9-a42c-4d55-bc33-39ad9bac6997"
      },
      "source": [
        "prediction_train_gauss = round(Train_pred.score(X_train, Y_train) * 100, 2)\n",
        "\n",
        "print(\"Accuracy Score after Gaussian Naive Bayes (Training subset) : \",prediction_train_gauss)\n",
        "\n",
        "prediction_test_gauss = round(Test_pred.score(X_test, Y_test) * 100, 2)\n",
        "\n",
        "print(\"Accuracy Score after Gaussian Naive Bayes (Testing subset) : \",prediction_test_gauss)"
      ],
      "execution_count": null,
      "outputs": [
        {
          "output_type": "stream",
          "name": "stdout",
          "text": [
            "Accuracy Score after Gaussian Naive Bayes (Training subset) :  75.82\n",
            "Accuracy Score after Gaussian Naive Bayes (Testing subset) :  78.51\n"
          ]
        }
      ]
    },
    {
      "cell_type": "markdown",
      "metadata": {
        "id": "u6rI1K-J1OM4"
      },
      "source": [
        "**probability of surviving** "
      ]
    },
    {
      "cell_type": "code",
      "metadata": {
        "colab": {
          "base_uri": "https://localhost:8080/"
        },
        "id": "QHPIPLJX09Gn",
        "outputId": "36679339-efe5-4ab6-a44c-170042a82432"
      },
      "source": [
        "print('Probability of each class')  #Prior probabilities of the classes\n",
        "print('Survive = 0: %.2f' % classifier.class_prior_[0])\n",
        "print('Survive = 1: %.2f' % classifier.class_prior_[1])"
      ],
      "execution_count": null,
      "outputs": [
        {
          "output_type": "stream",
          "name": "stdout",
          "text": [
            "Probability of each class\n",
            "Survive = 0: 0.62\n",
            "Survive = 1: 0.38\n"
          ]
        }
      ]
    },
    {
      "cell_type": "markdown",
      "metadata": {
        "id": "EMvG93Gh7vr6"
      },
      "source": [
        "## **Confusion matrix**"
      ]
    },
    {
      "cell_type": "code",
      "metadata": {
        "colab": {
          "base_uri": "https://localhost:8080/"
        },
        "id": "BZzmYnw9utth",
        "outputId": "877747d4-5c59-4e8d-d66a-abdf29567f39"
      },
      "source": [
        "y_pred = classifier.predict(X_test)\n",
        "y_pred_train = classifier.predict(X_train)\n",
        "\n",
        "cf_matrix = confusion_matrix(Y_test, y_pred)\n",
        "cf_matrix"
      ],
      "execution_count": null,
      "outputs": [
        {
          "output_type": "execute_result",
          "data": {
            "text/plain": [
              "array([[120,  22],\n",
              "       [ 27,  59]])"
            ]
          },
          "metadata": {},
          "execution_count": 21
        }
      ]
    },
    {
      "cell_type": "code",
      "metadata": {
        "colab": {
          "base_uri": "https://localhost:8080/",
          "height": 396
        },
        "id": "s_YENgqIxaSi",
        "outputId": "d070efd7-9882-4e51-f956-2b99361b4c69"
      },
      "source": [
        "plt.figure(figsize=(8,6))\n",
        "\n",
        "group_names = ['True Neg','False Pos','False Neg','True Pos']\n",
        "group_counts = [\"{0:0.0f}\".format(value) for value in\n",
        "                cf_matrix.flatten()]\n",
        "group_percentages = [\"{0:.2%}\".format(value) for value in\n",
        "                     cf_matrix.flatten()/np.sum(cf_matrix)]\n",
        "\n",
        "labels = [f\"{v1}\\n{v2}\\n{v3}\" for v1, v2, v3 in\n",
        "          zip(group_names,group_counts,group_percentages)]\n",
        "          \n",
        "labels = np.asarray(labels).reshape(2,2)\n",
        "sns.heatmap(cf_matrix, annot=labels, fmt='', cmap='coolwarm')"
      ],
      "execution_count": null,
      "outputs": [
        {
          "output_type": "execute_result",
          "data": {
            "text/plain": [
              "<matplotlib.axes._subplots.AxesSubplot at 0x7f95e0eaadd0>"
            ]
          },
          "metadata": {},
          "execution_count": 29
        },
        {
          "output_type": "display_data",
          "data": {
            "image/png": "[encoded data removed]",
            "text/plain": [
              "<Figure size 576x432 with 2 Axes>"
            ]
          },
          "metadata": {
            "needs_background": "light"
          }
        }
      ]
    },
    {
      "cell_type": "markdown",
      "metadata": {
        "id": "EIuaOUaW705K"
      },
      "source": [
        "## **classification Metrics**"
      ]
    },
    {
      "cell_type": "code",
      "metadata": {
        "colab": {
          "base_uri": "https://localhost:8080/"
        },
        "id": "BB28OR9e0UZO",
        "outputId": "26886618-39e9-4f0a-acf4-42d8e4312a4d"
      },
      "source": [
        "from sklearn.metrics import accuracy_score\n",
        "from sklearn.metrics import precision_score\n",
        "from sklearn.metrics import recall_score\n",
        "from sklearn.metrics import f1_score\n",
        "\n",
        "asc = accuracy_score(Y_test,y_pred)\n",
        "asc2 = accuracy_score(Y_train,y_pred_train)\n",
        "\n",
        "print(\"Accuracy Score of testing subset: \",asc*100)\n",
        "print(\"Accuracy Score of training subset: \",asc2*100)\n",
        "\n",
        "print(\"------------------------------------------------\")\n",
        "\n",
        "ps = precision_score(Y_test, y_pred,average=None)\n",
        "m1 = ps.max()\n",
        "ps2 = precision_score(Y_train, y_pred_train,average=None)\n",
        "m2 = ps2.max()\n",
        "\n",
        "print(\"Precision Score of testing subset: \",m1)\n",
        "print(\"Precision Score of training subset: \",m2)\n",
        "\n",
        "print(\"------------------------------------------------\")\n",
        "\n",
        "rs = recall_score(Y_test, y_pred,average=None)\n",
        "m3 = rs.max()\n",
        "rs2 = recall_score(Y_train, y_pred_train,average=None)\n",
        "m4 = rs2.max()\n",
        "\n",
        "print(\"Recall Score of testing subset: \",m3)\n",
        "print(\"Recall Score of training subset: \",m4)\n",
        "\n",
        "print(\"------------------------------------------------\")\n",
        "\n",
        "fs = f1_score(Y_test, y_pred,average=None)\n",
        "m5 = fs.max()\n",
        "fs2 = f1_score(Y_train, y_pred_train,average=None)\n",
        "m6 = fs2.max()\n",
        "\n",
        "print(\"F1 Score of testing subset: \",m5)\n",
        "print(\"F1 Score of training subset: \",m6)"
      ],
      "execution_count": null,
      "outputs": [
        {
          "output_type": "stream",
          "name": "stdout",
          "text": [
            "Accuracy Score of testing subset:  78.50877192982456\n",
            "Accuracy Score of training subset:  75.82417582417582\n",
            "------------------------------------------------\n",
            "Precision Score of testing subset:  0.8163265306122449\n",
            "Precision Score of training subset:  0.8205980066445183\n",
            "------------------------------------------------\n",
            "Recall Score of testing subset:  0.8450704225352113\n",
            "Recall Score of training subset:  0.8151815181518152\n",
            "------------------------------------------------\n",
            "F1 Score of testing subset:  0.8304498269896193\n",
            "F1 Score of training subset:  0.8178807947019867\n"
          ]
        }
      ]
    }
  ]
}